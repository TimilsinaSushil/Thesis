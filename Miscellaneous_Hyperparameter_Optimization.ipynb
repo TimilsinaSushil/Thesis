{
  "cells": [
    {
      "cell_type": "markdown",
      "metadata": {
        "id": "view-in-github",
        "colab_type": "text"
      },
      "source": [
        "<a href=\"https://colab.research.google.com/github/TimilsinaSushil/Thesis/blob/main/Miscellaneous_Hyperparameter_Optimization.ipynb\" target=\"_parent\"><img src=\"https://colab.research.google.com/assets/colab-badge.svg\" alt=\"Open In Colab\"/></a>"
      ]
    },
    {
      "cell_type": "code",
      "source": [
        "!pip install inltk\n",
        "!pip install bayesian-optimization\n",
        "\n"
      ],
      "metadata": {
        "id": "wqJkcMJK2NjS"
      },
      "execution_count": null,
      "outputs": []
    },
    {
      "cell_type": "code",
      "execution_count": null,
      "metadata": {
        "id": "ICl3v-lCcTVE"
      },
      "outputs": [],
      "source": [
        "from inltk.inltk import setup\n",
        "from inltk.inltk import tokenize\n",
        "from inltk.inltk import get_embedding_vectors\n",
        "import pandas as pd\n",
        "import numpy as np\n",
        "import matplotlib.pyplot as plt\n",
        "%matplotlib inline\n",
        "import asyncio\n",
        "asyncio.set_event_loop(asyncio.new_event_loop())\n",
        "setup('ne')\n"
      ]
    },
    {
      "cell_type": "code",
      "source": [
        "! gdown --id 116JOC660mWu8DdiLwS8-CLDZdfDPDoeG\n",
        "df = pd.read_csv('QSN.csv')\n"
      ],
      "metadata": {
        "id": "40xhgQvnNKM8",
        "colab": {
          "base_uri": "https://localhost:8080/"
        },
        "outputId": "b3cd85b1-2845-4421-c1fd-9a5ccd0d588f"
      },
      "execution_count": 474,
      "outputs": [
        {
          "output_type": "stream",
          "name": "stdout",
          "text": [
            "/usr/local/lib/python3.7/dist-packages/gdown/cli.py:131: FutureWarning: Option `--id` was deprecated in version 4.3.1 and will be removed in 5.0. You don't need to pass it anymore to use a file ID.\n",
            "  category=FutureWarning,\n",
            "Downloading...\n",
            "From: https://drive.google.com/uc?id=116JOC660mWu8DdiLwS8-CLDZdfDPDoeG\n",
            "To: /content/QSN.csv\n",
            "100% 1.05M/1.05M [00:00<00:00, 101MB/s]\n"
          ]
        }
      ]
    },
    {
      "cell_type": "code",
      "execution_count": 475,
      "metadata": {
        "id": "Pm_8WA9veyKr",
        "colab": {
          "base_uri": "https://localhost:8080/",
          "height": 327
        },
        "outputId": "04c44b92-863e-46aa-b948-7ccd1a841efa"
      },
      "outputs": [
        {
          "output_type": "stream",
          "name": "stdout",
          "text": [
            "['material' 'animal' 'book' 'religion' 'disease' 'color' 'language' 'device' 'sport' 'planet']\n"
          ]
        },
        {
          "output_type": "display_data",
          "data": {
            "text/plain": [
              "<Figure size 720x288 with 1 Axes>"
            ],
            "image/png": "[encoded data removed]"
          },
          "metadata": {
            "needs_background": "light"
          }
        }
      ],
      "source": [
        "#fine type filtering\n",
        "df=df[df['CoarseType'].isin(['miscellaneous'])]\n",
        "df=df[df['FineType'].isin(['material','animal','device','sport','book','planet','color','religion','disease','language'])]\n",
        "fine_type=df['FineType'].unique()\n",
        "output_shape=len(fine_type)\n",
        "print(fine_type)\n",
        "plt.figure(figsize=(10,4))\n",
        "df.FineType.value_counts().plot(kind='bar');\n"
      ]
    },
    {
      "cell_type": "markdown",
      "metadata": {
        "id": "x6WbV7qyfYcp"
      },
      "source": [
        "**Text Preprocessig**"
      ]
    },
    {
      "cell_type": "code",
      "execution_count": 476,
      "metadata": {
        "id": "EKyDSfqefXdB",
        "colab": {
          "base_uri": "https://localhost:8080/"
        },
        "outputId": "7ccebc27-ee10-4f34-b05e-3693f3ac6092"
      },
      "outputs": [
        {
          "output_type": "stream",
          "name": "stderr",
          "text": [
            "[nltk_data] Downloading package stopwords to /root/nltk_data...\n",
            "[nltk_data]   Package stopwords is already up-to-date!\n"
          ]
        },
        {
          "output_type": "execute_result",
          "data": {
            "text/plain": [
              "True"
            ]
          },
          "metadata": {},
          "execution_count": 476
        }
      ],
      "source": [
        "import nltk\n",
        "from nltk.corpus import stopwords\n",
        "nltk.download('stopwords')"
      ]
    },
    {
      "cell_type": "code",
      "execution_count": 477,
      "metadata": {
        "id": "1Io9hFAeFnvW"
      },
      "outputs": [],
      "source": [
        "#removing text inside brackets and quotes\n",
        "import re\n",
        "def removeTextInsideQuotesAndBrackets(text):\n",
        "  text=re.sub(\"[\\(\\[].*?[\\)\\]]\", \"\", text)\n",
        "  text=re.sub(\"\\'.*?\\'\",\"\",text)\n",
        "  text=re.sub('\\\".*?\\\"',\"\",text)\n",
        "  return text"
      ]
    },
    {
      "cell_type": "code",
      "execution_count": 478,
      "metadata": {
        "id": "PNI1n-GzDjG-"
      },
      "outputs": [],
      "source": [
        "def removeKo(text):\n",
        "  words= text.split()\n",
        "  text=[]\n",
        "  for word in words:\n",
        "    length=len(word)\n",
        "    if(length > 2):\n",
        "      if(word[-2]=='क' and word[-1]=='ो'):\n",
        "        if(word!='कसको'):\n",
        "          word= word[:length-2]\n",
        "    text.append(word)\n",
        "  text=' '.join([word for word in text])\n",
        "  # print(text)\n",
        "  return text\n",
        "\n",
        "\n"
      ]
    },
    {
      "cell_type": "code",
      "execution_count": 479,
      "metadata": {
        "id": "az5FRbNyhGf0"
      },
      "outputs": [],
      "source": [
        "def preprocessing(questions):\n",
        "  questions=questions.apply(removeTextInsideQuotesAndBrackets)\n",
        "  questions = questions.apply(removeKo)\n",
        "  #tokenization\n",
        "  questions= questions.apply(lambda x: tokenize(x,'ne'))\n",
        "  #removing duplicates\n",
        "  questions= questions.apply(lambda x: list(dict.fromkeys(x)))\n",
        "  \n",
        "  questions=questions.apply(lambda x: ' '.join(x).replace('▁','').split())\n",
        "  questions=questions.apply(lambda x: ' '.join(x))\n",
        "\n",
        "  #removing numbers\n",
        "  questios=questions.apply(lambda x: ''.join(c for c in x if not c.isdigit()))\n",
        "  #removing punctuation\n",
        "  punctuation=['!','\"','#','$','&',\"'\",'(',')','*','+',',','-','.','/',':',';','<','=','>','?','@','[',\"]\",'^','_','`','{','|','}','~']\n",
        "  questions = questions.apply(lambda x: ''.join(c for c in x if c not in punctuation))\n",
        "\n",
        "  #removing stopwords\n",
        "  WHWORDS = ['कुन','कहिले','के','कति','को','कसले','कहाँ','कसलाई','कसको','कस्तो','कति','कसरी','किन','कता']\n",
        "  STOPWORDS = stopwords.words('nepali')\n",
        "  # Removig WH words from STOPWORDS\n",
        "  for word in WHWORDS:\n",
        "    if word in STOPWORDS: STOPWORDS.remove(word)\n",
        "\n",
        "  STOPWORDS=set(STOPWORDS)\n",
        "  def clean_text(text):\n",
        "      text=' '.join([word for word in text.split() if word not in STOPWORDS]) # delete stopwords from text\n",
        "      return text\n",
        "  questions = questions.apply(clean_text)\n",
        "  return questions\n",
        "\n"
      ]
    },
    {
      "cell_type": "code",
      "execution_count": 480,
      "metadata": {
        "id": "pt2AN-SEoRU4",
        "colab": {
          "base_uri": "https://localhost:8080/",
          "height": 206
        },
        "outputId": "094c3c51-71fb-47f6-9644-3a389ce764c8"
      },
      "outputs": [
        {
          "output_type": "execute_result",
          "data": {
            "text/plain": [
              "                                  Questions  Answer     CoarseType  FineType  \\\n",
              "183           सेतो सुन भन्नाले के बुझ ी न्छ    कपास  miscellaneous  material   \n",
              "188         सबैभन्दा लामो गर्व धारण जीव कुन  हात्ती  miscellaneous    animal   \n",
              "242              सबैभन्दा ठूलो स्थल जिव कुन  हात्ती  miscellaneous    animal   \n",
              "243        सबभन्द ा पुरानो धातु कुन मानिन्छ    तामा  miscellaneous  material   \n",
              "244  बिश्व सबैभन्दा बढी बाँच्न े प्राणी कुन   कछुवा  miscellaneous    animal   \n",
              "\n",
              "    WhWord        Domain   \n",
              "183     के  Miscellaneous  \n",
              "188    कुन  Miscellaneous  \n",
              "242    कुन    Environment  \n",
              "243     के  Miscellaneous  \n",
              "244    कुन    Environment  "
            ],
            "text/html": [
              "\n",
              "  <div id=\"df-d8f66bbb-9f2d-4f7c-99da-3d0f2d652fb4\">\n",
              "    <div class=\"colab-df-container\">\n",
              "      <div>\n",
              "<style scoped>\n",
              "    .dataframe tbody tr th:only-of-type {\n",
              "        vertical-align: middle;\n",
              "    }\n",
              "\n",
              "    .dataframe tbody tr th {\n",
              "        vertical-align: top;\n",
              "    }\n",
              "\n",
              "    .dataframe thead th {\n",
              "        text-align: right;\n",
              "    }\n",
              "</style>\n",
              "<table border=\"1\" class=\"dataframe\">\n",
              "  <thead>\n",
              "    <tr style=\"text-align: right;\">\n",
              "      <th></th>\n",
              "      <th>Questions</th>\n",
              "      <th>Answer</th>\n",
              "      <th>CoarseType</th>\n",
              "      <th>FineType</th>\n",
              "      <th>WhWord</th>\n",
              "      <th>Domain</th>\n",
              "    </tr>\n",
              "  </thead>\n",
              "  <tbody>\n",
              "    <tr>\n",
              "      <th>183</th>\n",
              "      <td>सेतो सुन भन्नाले के बुझ ी न्छ</td>\n",
              "      <td>कपास</td>\n",
              "      <td>miscellaneous</td>\n",
              "      <td>material</td>\n",
              "      <td>के</td>\n",
              "      <td>Miscellaneous</td>\n",
              "    </tr>\n",
              "    <tr>\n",
              "      <th>188</th>\n",
              "      <td>सबैभन्दा लामो गर्व धारण जीव कुन</td>\n",
              "      <td>हात्ती</td>\n",
              "      <td>miscellaneous</td>\n",
              "      <td>animal</td>\n",
              "      <td>कुन</td>\n",
              "      <td>Miscellaneous</td>\n",
              "    </tr>\n",
              "    <tr>\n",
              "      <th>242</th>\n",
              "      <td>सबैभन्दा ठूलो स्थल जिव कुन</td>\n",
              "      <td>हात्ती</td>\n",
              "      <td>miscellaneous</td>\n",
              "      <td>animal</td>\n",
              "      <td>कुन</td>\n",
              "      <td>Environment</td>\n",
              "    </tr>\n",
              "    <tr>\n",
              "      <th>243</th>\n",
              "      <td>सबभन्द ा पुरानो धातु कुन मानिन्छ</td>\n",
              "      <td>तामा</td>\n",
              "      <td>miscellaneous</td>\n",
              "      <td>material</td>\n",
              "      <td>के</td>\n",
              "      <td>Miscellaneous</td>\n",
              "    </tr>\n",
              "    <tr>\n",
              "      <th>244</th>\n",
              "      <td>बिश्व सबैभन्दा बढी बाँच्न े प्राणी कुन</td>\n",
              "      <td>कछुवा</td>\n",
              "      <td>miscellaneous</td>\n",
              "      <td>animal</td>\n",
              "      <td>कुन</td>\n",
              "      <td>Environment</td>\n",
              "    </tr>\n",
              "  </tbody>\n",
              "</table>\n",
              "</div>\n",
              "      <button class=\"colab-df-convert\" onclick=\"convertToInteractive('df-d8f66bbb-9f2d-4f7c-99da-3d0f2d652fb4')\"\n",
              "              title=\"Convert this dataframe to an interactive table.\"\n",
              "              style=\"display:none;\">\n",
              "        \n",
              "  <svg xmlns=\"http://www.w3.org/2000/svg\" height=\"24px\"viewBox=\"0 0 24 24\"\n",
              "       width=\"24px\">\n",
              "    <path d=\"M0 0h24v24H0V0z\" fill=\"none\"/>\n",
              "    <path d=\"M18.56 5.44l.94 2.06.94-2.06 2.06-.94-2.06-.94-.94-2.06-.94 2.06-2.06.94zm-11 1L8.5 8.5l.94-2.06 2.06-.94-2.06-.94L8.5 2.5l-.94 2.06-2.06.94zm10 10l.94 2.06.94-2.06 2.06-.94-2.06-.94-.94-2.06-.94 2.06-2.06.94z\"/><path d=\"M17.41 7.96l-1.37-1.37c-.4-.4-.92-.59-1.43-.59-.52 0-1.04.2-1.43.59L10.3 9.45l-7.72 7.72c-.78.78-.78 2.05 0 2.83L4 21.41c.39.39.9.59 1.41.59.51 0 1.02-.2 1.41-.59l7.78-7.78 2.81-2.81c.8-.78.8-2.07 0-2.86zM5.41 20L4 18.59l7.72-7.72 1.47 1.35L5.41 20z\"/>\n",
              "  </svg>\n",
              "      </button>\n",
              "      \n",
              "  <style>\n",
              "    .colab-df-container {\n",
              "      display:flex;\n",
              "      flex-wrap:wrap;\n",
              "      gap: 12px;\n",
              "    }\n",
              "\n",
              "    .colab-df-convert {\n",
              "      background-color: #E8F0FE;\n",
              "      border: none;\n",
              "      border-radius: 50%;\n",
              "      cursor: pointer;\n",
              "      display: none;\n",
              "      fill: #1967D2;\n",
              "      height: 32px;\n",
              "      padding: 0 0 0 0;\n",
              "      width: 32px;\n",
              "    }\n",
              "\n",
              "    .colab-df-convert:hover {\n",
              "      background-color: #E2EBFA;\n",
              "      box-shadow: 0px 1px 2px rgba(60, 64, 67, 0.3), 0px 1px 3px 1px rgba(60, 64, 67, 0.15);\n",
              "      fill: #174EA6;\n",
              "    }\n",
              "\n",
              "    [theme=dark] .colab-df-convert {\n",
              "      background-color: #3B4455;\n",
              "      fill: #D2E3FC;\n",
              "    }\n",
              "\n",
              "    [theme=dark] .colab-df-convert:hover {\n",
              "      background-color: #434B5C;\n",
              "      box-shadow: 0px 1px 3px 1px rgba(0, 0, 0, 0.15);\n",
              "      filter: drop-shadow(0px 1px 2px rgba(0, 0, 0, 0.3));\n",
              "      fill: #FFFFFF;\n",
              "    }\n",
              "  </style>\n",
              "\n",
              "      <script>\n",
              "        const buttonEl =\n",
              "          document.querySelector('#df-d8f66bbb-9f2d-4f7c-99da-3d0f2d652fb4 button.colab-df-convert');\n",
              "        buttonEl.style.display =\n",
              "          google.colab.kernel.accessAllowed ? 'block' : 'none';\n",
              "\n",
              "        async function convertToInteractive(key) {\n",
              "          const element = document.querySelector('#df-d8f66bbb-9f2d-4f7c-99da-3d0f2d652fb4');\n",
              "          const dataTable =\n",
              "            await google.colab.kernel.invokeFunction('convertToInteractive',\n",
              "                                                     [key], {});\n",
              "          if (!dataTable) return;\n",
              "\n",
              "          const docLinkHtml = 'Like what you see? Visit the ' +\n",
              "            '<a target=\"_blank\" href=https://colab.research.google.com/notebooks/data_table.ipynb>data table notebook</a>'\n",
              "            + ' to learn more about interactive tables.';\n",
              "          element.innerHTML = '';\n",
              "          dataTable['output_type'] = 'display_data';\n",
              "          await google.colab.output.renderOutput(dataTable, element);\n",
              "          const docLink = document.createElement('div');\n",
              "          docLink.innerHTML = docLinkHtml;\n",
              "          element.appendChild(docLink);\n",
              "        }\n",
              "      </script>\n",
              "    </div>\n",
              "  </div>\n",
              "  "
            ]
          },
          "metadata": {},
          "execution_count": 480
        }
      ],
      "source": [
        "df['Questions'] = preprocessing(df['Questions'])\n",
        "\n",
        "dataset=df\n",
        "\n",
        "df.head()"
      ]
    },
    {
      "cell_type": "code",
      "source": [
        "from keras.preprocessing.text import Tokenizer\n",
        "tokenizer = Tokenizer()\n",
        "tokenizer.fit_on_texts(df['Questions'])\n",
        "vocab_size=len(tokenizer.word_index)\n",
        "sequences = tokenizer.texts_to_sequences(df['Questions'])\n",
        "from keras.preprocessing.sequence import pad_sequences\n",
        "maxlen = max([len(i) for i in sequences])\n",
        "padded_sequences = pad_sequences(sequences, maxlen)"
      ],
      "metadata": {
        "id": "Ci8UiNrqlXV8"
      },
      "execution_count": 481,
      "outputs": []
    },
    {
      "cell_type": "markdown",
      "metadata": {
        "id": "9OdUOEiOYUpe"
      },
      "source": [
        "**One hot encoding of labels**"
      ]
    },
    {
      "cell_type": "code",
      "execution_count": 482,
      "metadata": {
        "id": "XEu4OgpGYcw3"
      },
      "outputs": [],
      "source": [
        "from sklearn import preprocessing\n",
        "from tensorflow.keras.utils import to_categorical\n",
        "le = preprocessing.LabelEncoder()\n",
        "y=df.FineType\n",
        "# print(y.unique())\n",
        "y = le.fit_transform(y)"
      ]
    },
    {
      "cell_type": "markdown",
      "source": [
        "**SVM**"
      ],
      "metadata": {
        "id": "1RnDnCFGn-uB"
      }
    },
    {
      "cell_type": "code",
      "source": [
        "def svm(k_fold,test_size):\n",
        "  from sklearn.model_selection import train_test_split\n",
        "  from sklearn.pipeline import Pipeline\n",
        "  from sklearn.feature_extraction.text import TfidfTransformer\n",
        "  from sklearn.feature_extraction.text import CountVectorizer\n",
        "  from sklearn.svm import SVC\n",
        "  from sklearn.naive_bayes import MultinomialNB\n",
        "  from sklearn.model_selection import StratifiedKFold\n",
        "  from sklearn.metrics import confusion_matrix\n",
        "  from sklearn.metrics import accuracy_score\n",
        "  from sklearn.metrics import fbeta_score\n",
        "  from sklearn.metrics import classification_report\n",
        "  from sklearn.ensemble import RandomForestClassifier\n",
        "  import random \n",
        "  test_size=0.30\n",
        "  k_fold = 2\n",
        "  X = dataset.Questions\n",
        "  y = dataset.FineType\n",
        "\n",
        "  # Splitting test set\n",
        "  X_train, X_test, y_train, y_test = train_test_split(X, y, test_size=test_size) \n",
        "\n",
        "  metrics = []\n",
        "  skf= StratifiedKFold(n_splits=k_fold, shuffle=True, random_state=1)\n",
        "  X=np.array(X_train)\n",
        "  y=np.array(y_train)\n",
        "\n",
        "  # Defining Model\n",
        "  model = Pipeline([('vect', CountVectorizer()),\n",
        "              ('tfidf', TfidfTransformer()),\n",
        "              ('clf', MultinomialNB()),\n",
        "              ]) \n",
        "\n",
        "    \n",
        "    #gaussian\n",
        "    #sigmoid\n",
        "  #model defination finished\n",
        "\n",
        "\n",
        "  # K fold cross validation\n",
        "  for train_index, validation_index in skf.split(X, y):\n",
        "      # print(\"TRAIN:\", train_index, \"VALIDATION:\", validation_index)\n",
        "      X_train, X_validation = X[train_index], X[validation_index]\n",
        "      y_train, y_validation = y[train_index], y[validation_index]\n",
        "  #   # train the model\n",
        "      model.fit(X_train,y_train)\n",
        "  #   # validate the model \n",
        "      y_pred_class_for_validation = model.predict(X_validation)\n",
        "      metrics.append(accuracy_score(y_validation, y_pred_class_for_validation))\n",
        "      # print(classification_report(y_test, y_pred_class,target_names=coarse_type))\n",
        "      \n",
        "\n",
        "\n",
        "\n",
        "\n",
        "  metrics = np.array(metrics)\n",
        "  # print('Validation Accuracy for each Iteration',metrics)\n",
        "  # print('Mean accuracy for validation set: ', np.mean(metrics, axis=0))\n",
        "  # print('Std for accuracy: ', np.std(metrics, axis=0))\n",
        "  # print('---------------------------------------------------------------------------------')\n",
        "\n",
        "  y_pred = model.predict(X_test)\n",
        "\n",
        "  test_accuracy = accuracy_score(y_pred, y_test)\n",
        "  # print('Test Accuracy : %s' % test_accuracy)\n",
        "  # print(classification_report(y_test, y_pred,target_names=fine_type))\n",
        "\n",
        "  # cf_matrix = confusion_matrix(y_test, y_pred, labels=fine_type)\n",
        "  # print(cf_matrix)\n",
        "\n",
        "  # import seaborn as sns\n",
        "  # plt.figure(figsize=(8,7))\n",
        "  # actual_data= ['temporal' 'location' 'numerical' 'person' 'organization' 'explanation' 'miscellaneous']\n",
        "  # predicted_data= ['temporal' 'location' 'numerical' 'person' 'organization' 'explanation' 'miscellaneous']\n",
        "  # cm = confusion_matrix(actual_data, predicted_data)\n",
        "  # ax = sns.heatmap(cf_matrix, annot=True, cmap='Blues', fmt='g')\n",
        "  # ax.set_title('Confusion Matrix')\n",
        "  # ax.set_xlabel('Predicted Intent')\n",
        "  # ax.set_ylabel('Actual Intent')\n",
        "  # ax.xaxis.set_ticklabels(['TEM','LOC','NUM','PER','ORG','EXP','MISC'])\n",
        "  # ax.yaxis.set_ticklabels(['TEM','LOC','NUM','PER','ORG','EXP','MISC'])\n",
        "  # plt.show()\n",
        "  \n",
        "  return test_accuracy\n"
      ],
      "metadata": {
        "id": "AZ9a0OXZoDbf"
      },
      "execution_count": 490,
      "outputs": []
    },
    {
      "cell_type": "markdown",
      "source": [
        "**Random Forest**"
      ],
      "metadata": {
        "id": "nRmFeZfhPm_M"
      }
    },
    {
      "cell_type": "code",
      "source": [
        "def randomForest(k_fold,test_size,n_estimators):\n",
        "  from sklearn.model_selection import train_test_split\n",
        "  from sklearn.model_selection import StratifiedKFold\n",
        "  from sklearn.metrics import confusion_matrix\n",
        "  from sklearn.metrics import accuracy_score\n",
        "  from sklearn.metrics import fbeta_score\n",
        "  from sklearn.metrics import classification_report\n",
        "  from sklearn.ensemble import RandomForestClassifier\n",
        "  \n",
        "  x=padded_sequences\n",
        "  test_size=0.2\n",
        "  k_fold=5\n",
        "  # max_depth=2\n",
        "  n_estimators=100\n",
        "\n",
        "  x_train, x_test, y_train, y_test = train_test_split(x, y,stratify=y,test_size=test_size) \n",
        "  metrics = []\n",
        "  skf= StratifiedKFold(n_splits=k_fold, shuffle=True, random_state=42)\n",
        "\n",
        "\n",
        "  #Create a Gaussian Classifier\n",
        "  model=RandomForestClassifier(n_estimators=n_estimators)\n",
        "\n",
        "   # K fold cross validation\n",
        "  for train_index, validation_index in skf.split(x_train, y_train):\n",
        "      # print(\"TRAIN:\", train_index, \"VALIDATION:\", validation_index)\n",
        "      X_train, X_validation = x_train[train_index], x_train[validation_index]\n",
        "      Y_train, Y_validation = y_train[train_index], y_train[validation_index]\n",
        "     \n",
        "  #   # train the model\n",
        "      model.fit(X_train,Y_train)\n",
        "  #   # validate the model \n",
        "      Y_pred_class_for_validation = model.predict(X_validation)\n",
        "      metrics.append(accuracy_score(Y_validation, Y_pred_class_for_validation))\n",
        "      # print(classification_report(y_test, y_pred_class,target_names=coarse_type))\n",
        "\n",
        "  # metrics = np.array(metrics)\n",
        "  # print('Validation Accuracy for each Iteration',metrics)\n",
        "  # print('Mean accuracy for validation set: ', np.mean(metrics, axis=0))\n",
        "  # print('Std for accuracy: ', np.std(metrics, axis=0))\n",
        "  # print('---------------------------------------------------------------------------------')\n",
        "\n",
        " \n",
        "\n",
        "  y_pred=model.predict(x_test)\n",
        "  test_accuracy=accuracy_score(y_test, y_pred)\n",
        "\n",
        "  # print(\"Test Accuracy:\",test_accuracy)\n",
        "  return test_accuracy"
      ],
      "metadata": {
        "id": "FPYZjOYlPw81"
      },
      "execution_count": 484,
      "outputs": []
    },
    {
      "cell_type": "markdown",
      "source": [
        "**DNN**"
      ],
      "metadata": {
        "id": "F1XRt4nKVrNj"
      }
    },
    {
      "cell_type": "code",
      "source": [
        "\n",
        "def dnn(k_fold,test_size,epochs,learning_rate,batch_size,vect_dim,neurons,dropout):\n",
        "  from keras.models import Sequential\n",
        "  from keras.layers import Dense, Flatten, Dropout\n",
        "  from keras.layers.embeddings import Embedding\n",
        "  from sklearn.model_selection import train_test_split\n",
        "  from sklearn.model_selection import StratifiedKFold\n",
        "  from sklearn.metrics import confusion_matrix\n",
        "  from sklearn.metrics import accuracy_score\n",
        "  from sklearn.metrics import fbeta_score\n",
        "  from sklearn.metrics import classification_report\n",
        "\n",
        "  le = preprocessing.LabelEncoder()\n",
        "  y=df.FineType\n",
        "  # print(y.unique())\n",
        "  y = le.fit_transform(y)\n",
        "  y = to_categorical(y) \n",
        "\n",
        "  test_size=0.2\n",
        "  k_fold=5\n",
        "\n",
        "  epochs=20\n",
        "  learning_rate= 0.002\n",
        "  batch_size=40\n",
        "  vect_dim=32\n",
        "  neurons=128\n",
        "  dropout=0.2\n",
        "\n",
        "\n",
        "\n",
        "  x=padded_sequences;\n",
        "  # print(x)\n",
        "  # print(y)\n",
        "  x_train, x_test, y_train, y_test = train_test_split(x, y,stratify=y,test_size=test_size) \n",
        "  acc = []\n",
        "  val = []\n",
        "  skf= StratifiedKFold(n_splits=k_fold, shuffle=True, random_state=42)\n",
        "  # x=np.array(x_train)\n",
        "  # y=np.array(y_train)\n",
        "\n",
        "  max_len = max([len(i) for i in sequences])\n",
        "  # print(max_len)\n",
        "  # from keras.optimizers import Adam\n",
        "  model = Sequential() \n",
        "  model.add(Embedding(vocab_size + 1, vect_dim, input_length=max_len)) \n",
        "  model.add(Flatten())\n",
        "  model.add(Dense(neurons, activation='relu'))\n",
        "  model.add(Dropout(dropout))\n",
        "  # print(output_shape)\n",
        "  model.add(Dense(output_shape, activation='softmax'))\n",
        "  model.compile(optimizer='adam', loss='categorical_crossentropy', metrics=['categorical_accuracy']) \n",
        "  #default value of learning rate will be 0.001\n",
        "  #adam is a variant of SGD(Sochastic gradient descent). Learning rate should be between (0.0001 to 0.1).Objective: Minimize the loss between actual output and predicted output.\n",
        "  model.optimizer.lr=learning_rate\n",
        "  # model.summary()\n",
        "\n",
        "  # K fold cross validation\n",
        "  i=0\n",
        "  for train_index, validation_index in skf.split(x_train, y_train.argmax(1)):\n",
        "      i=i+1\n",
        "      # print(\"TRAIN:\", train_index, \"VALIDATION:\", validation_index)\n",
        "      x_train, x_validation = x[train_index], x[validation_index]\n",
        "      y_train, y_validation = y[train_index], y[validation_index]\n",
        "      hist = model.fit(x_train, y_train, validation_data=(x_validation,y_validation), epochs=epochs, batch_size=batch_size, verbose=0)\n",
        "      ac = hist.history['categorical_accuracy']\n",
        "      # print('Average training accuracy :' +str(sum(ac)/len(ac)))\n",
        "      vl = hist.history['val_categorical_accuracy']\n",
        "      # print('Average validation accuracy :' + str(sum(vl)/len(vl)))\n",
        "      # ep = range(1, len(ac) + 1)\n",
        "      # plt.figure()\n",
        "      # plt.plot(ep, ac, '-', label='Training accuracy')\n",
        "      # plt.plot(ep, vl, ':', label='Validation accuracy')\n",
        "      # plt.title('Training and Validation Accuracy for set '+ str(i))\n",
        "      # plt.xlabel('Epoch')\n",
        "      # plt.ylabel('Accuracy')\n",
        "      # plt.legend(loc='lower right')\n",
        "      # plt.plot()\n",
        "      # acc.extend(ac);\n",
        "      # val.extend(vl)\n",
        "\n",
        "\n",
        "  # plt.figure()\n",
        "  # epochs = range(1, len(acc) + 1)\n",
        "  # plt.plot(epochs, acc, '-', label='Training accuracy')\n",
        "  # plt.plot(epochs, val, ':', label='Validation accuracy')\n",
        "  # plt.title('Overall Training and Validation Accuracy')\n",
        "  # plt.xlabel('Epoch')\n",
        "  # plt.ylabel('Accuracy')\n",
        "  # plt.legend(loc='lower right')\n",
        "  # plt.plot()\n",
        "\n",
        "\n",
        "  y_pred = model.predict(x_test)\n",
        "\n",
        "  test_accuracy = accuracy_score(y_pred.argmax(axis=1), y_test.argmax(axis=1))\n",
        "\n",
        "  beta_score=fbeta_score( y_test.argmax(axis=1), y_pred.argmax(axis=1), average='weighted', beta=1)\n",
        "  # print('Test Accuracy : %s' % test_accuracy)\n",
        "  # # print(y_pred.argmax(axis=1))\n",
        "  # # print(y_test.argmax(axis=1))\n",
        "  # labels=y.argmax(axis=1)\n",
        "  # labels=le.inverse_transform(labels)\n",
        "  # labels=np.unique(labels)\n",
        "  # # print(classification_report(y_test.argmax(axis=1), y_pred.argmax(axis=1),target_names=labels))\n",
        "\n",
        "  # mat = confusion_matrix(y_test.argmax(axis=1), y_pred.argmax(axis=1),labels=le.fit_transform(df.CoarseType.unique()))\n",
        "  # import seaborn as sns\n",
        "  # plt.figure(figsize=(8,7))\n",
        "  # sns.set()\n",
        "  # sns.heatmap(mat, square=True, annot=True, fmt='d', cbar=True, cmap='Blues',xticklabels=df.CoarseType.unique(), yticklabels=df.CoarseType.unique())\n",
        "\n",
        "  # plt.xlabel('Predicted label')\n",
        "  # plt.ylabel('Actual label')\n",
        "\n",
        "  # return test_accuracy\n",
        "\n",
        "  return beta_score"
      ],
      "metadata": {
        "id": "BNNnXXqwGDdG"
      },
      "execution_count": 485,
      "outputs": []
    },
    {
      "cell_type": "code",
      "source": [
        "#SVM\n",
        "from bayes_opt import BayesianOptimization\n",
        "pbounds = {\n",
        "    'k_fold': (2, 10), \n",
        "    'test_size':(20,50),\n",
        "    }\n",
        "optimizer_svm = BayesianOptimization(\n",
        "    f=svm,\n",
        "    pbounds=pbounds,\n",
        "    verbose=2, \n",
        "    random_state=42,\n",
        ")\n",
        "optimizer_svm.maximize(init_points = 0, n_iter = 20)\n",
        "print(\"Best result: {}; Accuracy = {}.\".format(optimizer_svm.max[\"params\"], optimizer_svm.max[\"target\"]))"
      ],
      "metadata": {
        "colab": {
          "base_uri": "https://localhost:8080/"
        },
        "id": "T4tg_TtPChES",
        "outputId": "9cf58fe9-af88-48df-81e8-cfb7fe62d56f"
      },
      "execution_count": 494,
      "outputs": [
        {
          "output_type": "stream",
          "name": "stdout",
          "text": [
            "|   iter    |  target   |  k_fold   | test_size |\n",
            "-------------------------------------------------\n",
            "| \u001b[0m 1       \u001b[0m | \u001b[0m 0.3582  \u001b[0m | \u001b[0m 4.996   \u001b[0m | \u001b[0m 48.52   \u001b[0m |\n",
            "| \u001b[95m 2       \u001b[0m | \u001b[95m 0.403   \u001b[0m | \u001b[95m 7.384   \u001b[0m | \u001b[95m 35.92   \u001b[0m |\n",
            "| \u001b[0m 3       \u001b[0m | \u001b[0m 0.3582  \u001b[0m | \u001b[0m 7.323   \u001b[0m | \u001b[0m 35.94   \u001b[0m |\n",
            "| \u001b[0m 4       \u001b[0m | \u001b[0m 0.2687  \u001b[0m | \u001b[0m 2.811   \u001b[0m | \u001b[0m 35.65   \u001b[0m |\n",
            "| \u001b[95m 5       \u001b[0m | \u001b[95m 0.5522  \u001b[0m | \u001b[95m 7.419   \u001b[0m | \u001b[95m 35.82   \u001b[0m |\n",
            "| \u001b[0m 6       \u001b[0m | \u001b[0m 0.4179  \u001b[0m | \u001b[0m 7.48    \u001b[0m | \u001b[0m 35.8    \u001b[0m |\n",
            "| \u001b[0m 7       \u001b[0m | \u001b[0m 0.3284  \u001b[0m | \u001b[0m 2.26    \u001b[0m | \u001b[0m 26.46   \u001b[0m |\n",
            "| \u001b[0m 8       \u001b[0m | \u001b[0m 0.4776  \u001b[0m | \u001b[0m 5.534   \u001b[0m | \u001b[0m 44.73   \u001b[0m |\n",
            "| \u001b[0m 9       \u001b[0m | \u001b[0m 0.4478  \u001b[0m | \u001b[0m 5.584   \u001b[0m | \u001b[0m 44.82   \u001b[0m |\n",
            "| \u001b[0m 10      \u001b[0m | \u001b[0m 0.3582  \u001b[0m | \u001b[0m 5.532   \u001b[0m | \u001b[0m 44.76   \u001b[0m |\n",
            "| \u001b[0m 11      \u001b[0m | \u001b[0m 0.4328  \u001b[0m | \u001b[0m 7.522   \u001b[0m | \u001b[0m 23.67   \u001b[0m |\n",
            "| \u001b[0m 12      \u001b[0m | \u001b[0m 0.4627  \u001b[0m | \u001b[0m 6.832   \u001b[0m | \u001b[0m 24.55   \u001b[0m |\n",
            "| \u001b[0m 13      \u001b[0m | \u001b[0m 0.5075  \u001b[0m | \u001b[0m 8.342   \u001b[0m | \u001b[0m 46.52   \u001b[0m |\n",
            "| \u001b[0m 14      \u001b[0m | \u001b[0m 0.4776  \u001b[0m | \u001b[0m 5.355   \u001b[0m | \u001b[0m 24.96   \u001b[0m |\n",
            "| \u001b[0m 15      \u001b[0m | \u001b[0m 0.4627  \u001b[0m | \u001b[0m 2.92    \u001b[0m | \u001b[0m 25.95   \u001b[0m |\n",
            "| \u001b[0m 16      \u001b[0m | \u001b[0m 0.4925  \u001b[0m | \u001b[0m 9.644   \u001b[0m | \u001b[0m 27.84   \u001b[0m |\n",
            "| \u001b[0m 17      \u001b[0m | \u001b[0m 0.3731  \u001b[0m | \u001b[0m 8.508   \u001b[0m | \u001b[0m 44.07   \u001b[0m |\n",
            "| \u001b[0m 18      \u001b[0m | \u001b[0m 0.403   \u001b[0m | \u001b[0m 3.666   \u001b[0m | \u001b[0m 43.25   \u001b[0m |\n",
            "| \u001b[95m 19      \u001b[0m | \u001b[95m 0.6119  \u001b[0m | \u001b[95m 8.553   \u001b[0m | \u001b[95m 40.42   \u001b[0m |\n",
            "| \u001b[0m 20      \u001b[0m | \u001b[0m 0.5075  \u001b[0m | \u001b[0m 6.017   \u001b[0m | \u001b[0m 40.16   \u001b[0m |\n",
            "| \u001b[0m 21      \u001b[0m | \u001b[0m 0.3134  \u001b[0m | \u001b[0m 7.077   \u001b[0m | \u001b[0m 42.96   \u001b[0m |\n",
            "=================================================\n",
            "Best result: {'k_fold': 8.553423079163746, 'test_size': 40.4233394747266}; Accuracy = 0.6119402985074627.\n"
          ]
        }
      ]
    },
    {
      "cell_type": "code",
      "source": [
        "#Random Forest\n",
        "pbounds = {\n",
        "    'k_fold': (5, 10), \n",
        "    'test_size':(20,50),\n",
        "    # 'max_depth':(100,1000),\n",
        "    'n_estimators':(100,1000),\n",
        "    }\n",
        "optimizer_rf = BayesianOptimization(\n",
        "    f=randomForest,\n",
        "    pbounds=pbounds,\n",
        "    verbose=2, \n",
        "    random_state=42,\n",
        ")\n",
        "optimizer_rf.maximize(init_points = 0, n_iter = 20)\n",
        "print(\"Best result: {}; Accuracy = {}.\".format(optimizer_rf.max[\"params\"], optimizer_rf.max[\"target\"]))"
      ],
      "metadata": {
        "colab": {
          "base_uri": "https://localhost:8080/"
        },
        "id": "OOOaebjjC3O8",
        "outputId": "8e107b2f-c012-40e2-fa48-b60cdcc29441"
      },
      "execution_count": 495,
      "outputs": [
        {
          "output_type": "stream",
          "name": "stdout",
          "text": [
            "|   iter    |  target   |  k_fold   | n_esti... | test_size |\n",
            "-------------------------------------------------------------\n",
            "| \u001b[0m 1       \u001b[0m | \u001b[0m 0.4     \u001b[0m | \u001b[0m 6.873   \u001b[0m | \u001b[0m 955.6   \u001b[0m | \u001b[0m 41.96   \u001b[0m |\n",
            "| \u001b[95m 2       \u001b[0m | \u001b[95m 0.4667  \u001b[0m | \u001b[95m 9.857   \u001b[0m | \u001b[95m 669.2   \u001b[0m | \u001b[95m 49.58   \u001b[0m |\n",
            "| \u001b[0m 3       \u001b[0m | \u001b[0m 0.4667  \u001b[0m | \u001b[0m 8.369   \u001b[0m | \u001b[0m 669.0   \u001b[0m | \u001b[0m 49.07   \u001b[0m |\n",
            "| \u001b[0m 4       \u001b[0m | \u001b[0m 0.4444  \u001b[0m | \u001b[0m 9.813   \u001b[0m | \u001b[0m 416.6   \u001b[0m | \u001b[0m 48.72   \u001b[0m |\n",
            "| \u001b[0m 5       \u001b[0m | \u001b[0m 0.4222  \u001b[0m | \u001b[0m 5.016   \u001b[0m | \u001b[0m 100.0   \u001b[0m | \u001b[0m 20.0    \u001b[0m |\n",
            "| \u001b[0m 6       \u001b[0m | \u001b[0m 0.4667  \u001b[0m | \u001b[0m 10.0    \u001b[0m | \u001b[0m 566.3   \u001b[0m | \u001b[0m 20.0    \u001b[0m |\n",
            "| \u001b[0m 7       \u001b[0m | \u001b[0m 0.4444  \u001b[0m | \u001b[0m 5.0     \u001b[0m | \u001b[0m 597.5   \u001b[0m | \u001b[0m 50.0    \u001b[0m |\n",
            "| \u001b[95m 8       \u001b[0m | \u001b[95m 0.5333  \u001b[0m | \u001b[95m 10.0    \u001b[0m | \u001b[95m 734.6   \u001b[0m | \u001b[95m 20.16   \u001b[0m |\n",
            "| \u001b[0m 9       \u001b[0m | \u001b[0m 0.3333  \u001b[0m | \u001b[0m 5.0     \u001b[0m | \u001b[0m 787.1   \u001b[0m | \u001b[0m 20.0    \u001b[0m |\n",
            "| \u001b[95m 10      \u001b[0m | \u001b[95m 0.5778  \u001b[0m | \u001b[95m 10.0    \u001b[0m | \u001b[95m 715.1   \u001b[0m | \u001b[95m 24.37   \u001b[0m |\n",
            "| \u001b[95m 11      \u001b[0m | \u001b[95m 0.6222  \u001b[0m | \u001b[95m 5.0     \u001b[0m | \u001b[95m 719.0   \u001b[0m | \u001b[95m 50.0    \u001b[0m |\n",
            "| \u001b[0m 12      \u001b[0m | \u001b[0m 0.5333  \u001b[0m | \u001b[0m 9.757   \u001b[0m | \u001b[0m 734.1   \u001b[0m | \u001b[0m 49.62   \u001b[0m |\n",
            "| \u001b[0m 13      \u001b[0m | \u001b[0m 0.4222  \u001b[0m | \u001b[0m 5.0     \u001b[0m | \u001b[0m 702.4   \u001b[0m | \u001b[0m 50.0    \u001b[0m |\n",
            "| \u001b[0m 14      \u001b[0m | \u001b[0m 0.4889  \u001b[0m | \u001b[0m 7.209   \u001b[0m | \u001b[0m 722.9   \u001b[0m | \u001b[0m 38.5    \u001b[0m |\n",
            "| \u001b[0m 15      \u001b[0m | \u001b[0m 0.4222  \u001b[0m | \u001b[0m 5.992   \u001b[0m | \u001b[0m 724.8   \u001b[0m | \u001b[0m 48.94   \u001b[0m |\n",
            "| \u001b[0m 16      \u001b[0m | \u001b[0m 0.5333  \u001b[0m | \u001b[0m 6.192   \u001b[0m | \u001b[0m 717.6   \u001b[0m | \u001b[0m 46.14   \u001b[0m |\n",
            "| \u001b[0m 17      \u001b[0m | \u001b[0m 0.3556  \u001b[0m | \u001b[0m 5.88    \u001b[0m | \u001b[0m 716.8   \u001b[0m | \u001b[0m 49.69   \u001b[0m |\n",
            "| \u001b[0m 18      \u001b[0m | \u001b[0m 0.5111  \u001b[0m | \u001b[0m 8.403   \u001b[0m | \u001b[0m 418.5   \u001b[0m | \u001b[0m 24.32   \u001b[0m |\n",
            "| \u001b[0m 19      \u001b[0m | \u001b[0m 0.5333  \u001b[0m | \u001b[0m 6.682   \u001b[0m | \u001b[0m 152.3   \u001b[0m | \u001b[0m 46.36   \u001b[0m |\n",
            "| \u001b[0m 20      \u001b[0m | \u001b[0m 0.5556  \u001b[0m | \u001b[0m 7.606   \u001b[0m | \u001b[0m 723.8   \u001b[0m | \u001b[0m 38.81   \u001b[0m |\n",
            "| \u001b[0m 21      \u001b[0m | \u001b[0m 0.3556  \u001b[0m | \u001b[0m 5.088   \u001b[0m | \u001b[0m 718.0   \u001b[0m | \u001b[0m 45.94   \u001b[0m |\n",
            "=============================================================\n",
            "Best result: {'k_fold': 5.0, 'n_estimators': 718.9716497109937, 'test_size': 50.0}; Accuracy = 0.6222222222222222.\n"
          ]
        }
      ]
    },
    {
      "cell_type": "code",
      "source": [
        "#DNN\n",
        "pbounds = {\n",
        "    'k_fold': (5, 10), \n",
        "    'test_size':(20,50),\n",
        "    'epochs': (10,50), \n",
        "    'learning_rate':(0.0001,0.01),\n",
        "    'batch_size': (10, 100), \n",
        "    'vect_dim':(8,128),\n",
        "    'neurons':(8,128),\n",
        "    'dropout':(0.2,0.8)\n",
        "    }\n",
        "optimizer_dnn = BayesianOptimization(\n",
        "    f=dnn,\n",
        "    pbounds=pbounds,\n",
        "    verbose=2, \n",
        "    random_state=42,\n",
        ")\n",
        "optimizer_dnn.maximize(init_points = 0, n_iter = 5)\n",
        "print(\"Best result: {}; Accuracy = {}.\".format(optimizer_dnn.max[\"params\"], optimizer_dnn.max[\"target\"]))\n"
      ],
      "metadata": {
        "colab": {
          "base_uri": "https://localhost:8080/"
        },
        "id": "FsphAgqyDDKm",
        "outputId": "f030a644-1a09-4b51-b43e-28591872cc4a"
      },
      "execution_count": 497,
      "outputs": [
        {
          "output_type": "stream",
          "name": "stdout",
          "text": [
            "|   iter    |  target   | batch_... |  dropout  |  epochs   |  k_fold   | learni... |  neurons  | test_size | vect_dim  |\n",
            "-------------------------------------------------------------------------------------------------------------------------\n",
            "| \u001b[0m 1       \u001b[0m | \u001b[0m 0.858   \u001b[0m | \u001b[0m 43.71   \u001b[0m | \u001b[0m 0.7704  \u001b[0m | \u001b[0m 39.28   \u001b[0m | \u001b[0m 7.993   \u001b[0m | \u001b[0m 0.001645\u001b[0m | \u001b[0m 26.72   \u001b[0m | \u001b[0m 21.74   \u001b[0m | \u001b[0m 111.9   \u001b[0m |\n",
            "| \u001b[0m 2       \u001b[0m | \u001b[0m 0.8037  \u001b[0m | \u001b[0m 44.25   \u001b[0m | \u001b[0m 0.7151  \u001b[0m | \u001b[0m 40.18   \u001b[0m | \u001b[0m 5.092   \u001b[0m | \u001b[0m 0.001748\u001b[0m | \u001b[0m 64.88   \u001b[0m | \u001b[0m 39.76   \u001b[0m | \u001b[0m 93.82   \u001b[0m |\n",
            "| \u001b[0m 3       \u001b[0m | \u001b[0m 0.8187  \u001b[0m | \u001b[0m 43.91   \u001b[0m | \u001b[0m 0.2772  \u001b[0m | \u001b[0m 35.76   \u001b[0m | \u001b[0m 9.823   \u001b[0m | \u001b[0m 0.005932\u001b[0m | \u001b[0m 31.93   \u001b[0m | \u001b[0m 22.94   \u001b[0m | \u001b[0m 104.0   \u001b[0m |\n",
            "| \u001b[0m 4       \u001b[0m | \u001b[0m 0.794   \u001b[0m | \u001b[0m 22.27   \u001b[0m | \u001b[0m 0.6042  \u001b[0m | \u001b[0m 30.45   \u001b[0m | \u001b[0m 5.131   \u001b[0m | \u001b[0m 0.000649\u001b[0m | \u001b[0m 37.76   \u001b[0m | \u001b[0m 49.14   \u001b[0m | \u001b[0m 102.8   \u001b[0m |\n",
            "| \u001b[0m 5       \u001b[0m | \u001b[0m 0.8573  \u001b[0m | \u001b[0m 42.51   \u001b[0m | \u001b[0m 0.5298  \u001b[0m | \u001b[0m 36.53   \u001b[0m | \u001b[0m 5.722   \u001b[0m | \u001b[0m 0.007965\u001b[0m | \u001b[0m 17.71   \u001b[0m | \u001b[0m 23.06   \u001b[0m | \u001b[0m 108.8   \u001b[0m |\n",
            "| \u001b[95m 6       \u001b[0m | \u001b[95m 0.9304  \u001b[0m | \u001b[95m 46.68   \u001b[0m | \u001b[95m 0.2607  \u001b[0m | \u001b[95m 33.79   \u001b[0m | \u001b[95m 6.425   \u001b[0m | \u001b[95m 0.007045\u001b[0m | \u001b[95m 13.28   \u001b[0m | \u001b[95m 23.47   \u001b[0m | \u001b[95m 114.1   \u001b[0m |\n",
            "=========================================================================================================================\n",
            "Best result: {'batch_size': 46.68318603301717, 'dropout': 0.2607473229616665, 'epochs': 33.78659207940042, 'k_fold': 6.424761015310944, 'learning_rate': 0.007044900514553738, 'neurons': 13.283884330133173, 'test_size': 23.46718976577696, 'vect_dim': 114.13858998055446}; Accuracy = 0.9304210193099083.\n"
          ]
        }
      ]
    }
  ],
  "metadata": {
    "colab": {
      "collapsed_sections": [],
      "name": "Miscellaneous_Hyperparameter_Optimization.ipynb",
      "provenance": [],
      "authorship_tag": "ABX9TyO8FXZGFHg8H+0qiuAUlw/B",
      "include_colab_link": true
    },
    "kernelspec": {
      "display_name": "Python 3",
      "name": "python3"
    },
    "language_info": {
      "name": "python"
    }
  },
  "nbformat": 4,
  "nbformat_minor": 0
}