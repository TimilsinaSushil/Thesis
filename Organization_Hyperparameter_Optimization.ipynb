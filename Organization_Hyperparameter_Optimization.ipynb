{
  "cells": [
    {
      "cell_type": "markdown",
      "metadata": {
        "id": "view-in-github",
        "colab_type": "text"
      },
      "source": [
        "<a href=\"https://colab.research.google.com/github/TimilsinaSushil/Thesis/blob/main/Organization_Hyperparameter_Optimization.ipynb\" target=\"_parent\"><img src=\"https://colab.research.google.com/assets/colab-badge.svg\" alt=\"Open In Colab\"/></a>"
      ]
    },
    {
      "cell_type": "code",
      "source": [
        "!pip install inltk\n",
        "!pip install bayesian-optimization\n",
        "\n"
      ],
      "metadata": {
        "id": "wqJkcMJK2NjS"
      },
      "execution_count": null,
      "outputs": []
    },
    {
      "cell_type": "code",
      "execution_count": null,
      "metadata": {
        "id": "ICl3v-lCcTVE"
      },
      "outputs": [],
      "source": [
        "from inltk.inltk import setup\n",
        "from inltk.inltk import tokenize\n",
        "from inltk.inltk import get_embedding_vectors\n",
        "import pandas as pd\n",
        "import numpy as np\n",
        "import matplotlib.pyplot as plt\n",
        "%matplotlib inline\n",
        "import asyncio\n",
        "asyncio.set_event_loop(asyncio.new_event_loop())\n",
        "setup('ne')\n"
      ]
    },
    {
      "cell_type": "code",
      "source": [
        "! gdown --id 116JOC660mWu8DdiLwS8-CLDZdfDPDoeG\n",
        "df = pd.read_csv('QSN.csv')\n"
      ],
      "metadata": {
        "id": "40xhgQvnNKM8",
        "colab": {
          "base_uri": "https://localhost:8080/"
        },
        "outputId": "15a2fa9d-e7f0-4a17-9a12-484f2526781f"
      },
      "execution_count": 390,
      "outputs": [
        {
          "output_type": "stream",
          "name": "stdout",
          "text": [
            "/usr/local/lib/python3.7/dist-packages/gdown/cli.py:131: FutureWarning: Option `--id` was deprecated in version 4.3.1 and will be removed in 5.0. You don't need to pass it anymore to use a file ID.\n",
            "  category=FutureWarning,\n",
            "Downloading...\n",
            "From: https://drive.google.com/uc?id=116JOC660mWu8DdiLwS8-CLDZdfDPDoeG\n",
            "To: /content/QSN.csv\n",
            "100% 1.05M/1.05M [00:00<00:00, 114MB/s]\n"
          ]
        }
      ]
    },
    {
      "cell_type": "code",
      "execution_count": 391,
      "metadata": {
        "id": "Pm_8WA9veyKr",
        "colab": {
          "base_uri": "https://localhost:8080/",
          "height": 337
        },
        "outputId": "f26715c1-974d-4f68-d775-d6e4445f1048"
      },
      "outputs": [
        {
          "output_type": "stream",
          "name": "stdout",
          "text": [
            "['bank' 'sport-team' 'company']\n"
          ]
        },
        {
          "output_type": "display_data",
          "data": {
            "text/plain": [
              "<Figure size 720x288 with 1 Axes>"
            ],
            "image/png": "[encoded data removed]"
          },
          "metadata": {
            "needs_background": "light"
          }
        }
      ],
      "source": [
        "#fine type filtering\n",
        "df=df[df['CoarseType'].isin(['organization'])]\n",
        "df=df[df['FineType'].isin(['sport-team','bank','company'])]\n",
        "fine_type=df['FineType'].unique()\n",
        "output_shape=len(fine_type)\n",
        "print(fine_type)\n",
        "plt.figure(figsize=(10,4))\n",
        "df.FineType.value_counts().plot(kind='bar');\n"
      ]
    },
    {
      "cell_type": "markdown",
      "metadata": {
        "id": "x6WbV7qyfYcp"
      },
      "source": [
        "**Text Preprocessig**"
      ]
    },
    {
      "cell_type": "code",
      "execution_count": 392,
      "metadata": {
        "id": "EKyDSfqefXdB",
        "colab": {
          "base_uri": "https://localhost:8080/"
        },
        "outputId": "202375de-04f7-4e09-8946-78972aaf4033"
      },
      "outputs": [
        {
          "output_type": "stream",
          "name": "stderr",
          "text": [
            "[nltk_data] Downloading package stopwords to /root/nltk_data...\n",
            "[nltk_data]   Package stopwords is already up-to-date!\n"
          ]
        },
        {
          "output_type": "execute_result",
          "data": {
            "text/plain": [
              "True"
            ]
          },
          "metadata": {},
          "execution_count": 392
        }
      ],
      "source": [
        "import nltk\n",
        "from nltk.corpus import stopwords\n",
        "nltk.download('stopwords')"
      ]
    },
    {
      "cell_type": "code",
      "execution_count": 393,
      "metadata": {
        "id": "1Io9hFAeFnvW"
      },
      "outputs": [],
      "source": [
        "#removing text inside brackets and quotes\n",
        "import re\n",
        "def removeTextInsideQuotesAndBrackets(text):\n",
        "  text=re.sub(\"[\\(\\[].*?[\\)\\]]\", \"\", text)\n",
        "  text=re.sub(\"\\'.*?\\'\",\"\",text)\n",
        "  text=re.sub('\\\".*?\\\"',\"\",text)\n",
        "  return text"
      ]
    },
    {
      "cell_type": "code",
      "execution_count": 394,
      "metadata": {
        "id": "PNI1n-GzDjG-"
      },
      "outputs": [],
      "source": [
        "def removeKo(text):\n",
        "  words= text.split()\n",
        "  text=[]\n",
        "  for word in words:\n",
        "    length=len(word)\n",
        "    if(length > 2):\n",
        "      if(word[-2]=='क' and word[-1]=='ो'):\n",
        "        if(word!='कसको'):\n",
        "          word= word[:length-2]\n",
        "    text.append(word)\n",
        "  text=' '.join([word for word in text])\n",
        "  # print(text)\n",
        "  return text\n",
        "\n",
        "\n"
      ]
    },
    {
      "cell_type": "code",
      "execution_count": 395,
      "metadata": {
        "id": "az5FRbNyhGf0"
      },
      "outputs": [],
      "source": [
        "def preprocessing(questions):\n",
        "  questions=questions.apply(removeTextInsideQuotesAndBrackets)\n",
        "  questions = questions.apply(removeKo)\n",
        "  #tokenization\n",
        "  questions= questions.apply(lambda x: tokenize(x,'ne'))\n",
        "  #removing duplicates\n",
        "  questions= questions.apply(lambda x: list(dict.fromkeys(x)))\n",
        "  \n",
        "  questions=questions.apply(lambda x: ' '.join(x).replace('▁','').split())\n",
        "  questions=questions.apply(lambda x: ' '.join(x))\n",
        "\n",
        "  #removing numbers\n",
        "  questios=questions.apply(lambda x: ''.join(c for c in x if not c.isdigit()))\n",
        "  #removing punctuation\n",
        "  punctuation=['!','\"','#','$','&',\"'\",'(',')','*','+',',','-','.','/',':',';','<','=','>','?','@','[',\"]\",'^','_','`','{','|','}','~']\n",
        "  questions = questions.apply(lambda x: ''.join(c for c in x if c not in punctuation))\n",
        "\n",
        "  #removing stopwords\n",
        "  WHWORDS = ['कुन','कहिले','के','कति','को','कसले','कहाँ','कसलाई','कसको','कस्तो','कति','कसरी','किन','कता']\n",
        "  STOPWORDS = stopwords.words('nepali')\n",
        "  # Removig WH words from STOPWORDS\n",
        "  for word in WHWORDS:\n",
        "    if word in STOPWORDS: STOPWORDS.remove(word)\n",
        "\n",
        "  STOPWORDS=set(STOPWORDS)\n",
        "  def clean_text(text):\n",
        "      text=' '.join([word for word in text.split() if word not in STOPWORDS]) # delete stopwords from text\n",
        "      return text\n",
        "  questions = questions.apply(clean_text)\n",
        "  return questions\n",
        "\n"
      ]
    },
    {
      "cell_type": "code",
      "execution_count": 396,
      "metadata": {
        "id": "pt2AN-SEoRU4",
        "colab": {
          "base_uri": "https://localhost:8080/",
          "height": 206
        },
        "outputId": "d9299dfc-98ca-4691-d843-666f843fb990"
      },
      "outputs": [
        {
          "output_type": "execute_result",
          "data": {
            "text/plain": [
              "                                             Questions  \\\n",
              "116      बैंक अफ द इ यर २०१९ को उपाधि बाट सम्मानित कुन   \n",
              "120  इन् डी यन प्रिमियर लिग २०१९ को उपाधि कुन टिमले...   \n",
              "227                     हलो देखी हाइड्रो कुन बैंक नारा   \n",
              "722                 पाकिस्तान केन्द्रीय बैंक के भनिन्छ   \n",
              "750        A T M c ard प्रयोगमा ल्याउने नेपाल बैंक कुन   \n",
              "\n",
              "                      Answer    CoarseType    FineType WhWord    Domain   \n",
              "116          मेगा बैंक नेपाल  organization        bank    कुन  Economics  \n",
              "120         मुम्बई इन्डीयन्स  organization  sport-team    कुन     Sports  \n",
              "227                 मेघा बैक  organization        bank    कुन  Economics  \n",
              "722  स्टेट बैंक अफ पाकिस्तान  organization        bank     के  Economics  \n",
              "750             एभरेष्ट_बैंक  organization        bank    कुन  Economics  "
            ],
            "text/html": [
              "\n",
              "  <div id=\"df-24847850-3d14-4dce-bc17-7512632458cd\">\n",
              "    <div class=\"colab-df-container\">\n",
              "      <div>\n",
              "<style scoped>\n",
              "    .dataframe tbody tr th:only-of-type {\n",
              "        vertical-align: middle;\n",
              "    }\n",
              "\n",
              "    .dataframe tbody tr th {\n",
              "        vertical-align: top;\n",
              "    }\n",
              "\n",
              "    .dataframe thead th {\n",
              "        text-align: right;\n",
              "    }\n",
              "</style>\n",
              "<table border=\"1\" class=\"dataframe\">\n",
              "  <thead>\n",
              "    <tr style=\"text-align: right;\">\n",
              "      <th></th>\n",
              "      <th>Questions</th>\n",
              "      <th>Answer</th>\n",
              "      <th>CoarseType</th>\n",
              "      <th>FineType</th>\n",
              "      <th>WhWord</th>\n",
              "      <th>Domain</th>\n",
              "    </tr>\n",
              "  </thead>\n",
              "  <tbody>\n",
              "    <tr>\n",
              "      <th>116</th>\n",
              "      <td>बैंक अफ द इ यर २०१९ को उपाधि बाट सम्मानित कुन</td>\n",
              "      <td>मेगा बैंक नेपाल</td>\n",
              "      <td>organization</td>\n",
              "      <td>bank</td>\n",
              "      <td>कुन</td>\n",
              "      <td>Economics</td>\n",
              "    </tr>\n",
              "    <tr>\n",
              "      <th>120</th>\n",
              "      <td>इन् डी यन प्रिमियर लिग २०१९ को उपाधि कुन टिमले...</td>\n",
              "      <td>मुम्बई इन्डीयन्स</td>\n",
              "      <td>organization</td>\n",
              "      <td>sport-team</td>\n",
              "      <td>कुन</td>\n",
              "      <td>Sports</td>\n",
              "    </tr>\n",
              "    <tr>\n",
              "      <th>227</th>\n",
              "      <td>हलो देखी हाइड्रो कुन बैंक नारा</td>\n",
              "      <td>मेघा बैक</td>\n",
              "      <td>organization</td>\n",
              "      <td>bank</td>\n",
              "      <td>कुन</td>\n",
              "      <td>Economics</td>\n",
              "    </tr>\n",
              "    <tr>\n",
              "      <th>722</th>\n",
              "      <td>पाकिस्तान केन्द्रीय बैंक के भनिन्छ</td>\n",
              "      <td>स्टेट बैंक अफ पाकिस्तान</td>\n",
              "      <td>organization</td>\n",
              "      <td>bank</td>\n",
              "      <td>के</td>\n",
              "      <td>Economics</td>\n",
              "    </tr>\n",
              "    <tr>\n",
              "      <th>750</th>\n",
              "      <td>A T M c ard प्रयोगमा ल्याउने नेपाल बैंक कुन</td>\n",
              "      <td>एभरेष्ट_बैंक</td>\n",
              "      <td>organization</td>\n",
              "      <td>bank</td>\n",
              "      <td>कुन</td>\n",
              "      <td>Economics</td>\n",
              "    </tr>\n",
              "  </tbody>\n",
              "</table>\n",
              "</div>\n",
              "      <button class=\"colab-df-convert\" onclick=\"convertToInteractive('df-24847850-3d14-4dce-bc17-7512632458cd')\"\n",
              "              title=\"Convert this dataframe to an interactive table.\"\n",
              "              style=\"display:none;\">\n",
              "        \n",
              "  <svg xmlns=\"http://www.w3.org/2000/svg\" height=\"24px\"viewBox=\"0 0 24 24\"\n",
              "       width=\"24px\">\n",
              "    <path d=\"M0 0h24v24H0V0z\" fill=\"none\"/>\n",
              "    <path d=\"M18.56 5.44l.94 2.06.94-2.06 2.06-.94-2.06-.94-.94-2.06-.94 2.06-2.06.94zm-11 1L8.5 8.5l.94-2.06 2.06-.94-2.06-.94L8.5 2.5l-.94 2.06-2.06.94zm10 10l.94 2.06.94-2.06 2.06-.94-2.06-.94-.94-2.06-.94 2.06-2.06.94z\"/><path d=\"M17.41 7.96l-1.37-1.37c-.4-.4-.92-.59-1.43-.59-.52 0-1.04.2-1.43.59L10.3 9.45l-7.72 7.72c-.78.78-.78 2.05 0 2.83L4 21.41c.39.39.9.59 1.41.59.51 0 1.02-.2 1.41-.59l7.78-7.78 2.81-2.81c.8-.78.8-2.07 0-2.86zM5.41 20L4 18.59l7.72-7.72 1.47 1.35L5.41 20z\"/>\n",
              "  </svg>\n",
              "      </button>\n",
              "      \n",
              "  <style>\n",
              "    .colab-df-container {\n",
              "      display:flex;\n",
              "      flex-wrap:wrap;\n",
              "      gap: 12px;\n",
              "    }\n",
              "\n",
              "    .colab-df-convert {\n",
              "      background-color: #E8F0FE;\n",
              "      border: none;\n",
              "      border-radius: 50%;\n",
              "      cursor: pointer;\n",
              "      display: none;\n",
              "      fill: #1967D2;\n",
              "      height: 32px;\n",
              "      padding: 0 0 0 0;\n",
              "      width: 32px;\n",
              "    }\n",
              "\n",
              "    .colab-df-convert:hover {\n",
              "      background-color: #E2EBFA;\n",
              "      box-shadow: 0px 1px 2px rgba(60, 64, 67, 0.3), 0px 1px 3px 1px rgba(60, 64, 67, 0.15);\n",
              "      fill: #174EA6;\n",
              "    }\n",
              "\n",
              "    [theme=dark] .colab-df-convert {\n",
              "      background-color: #3B4455;\n",
              "      fill: #D2E3FC;\n",
              "    }\n",
              "\n",
              "    [theme=dark] .colab-df-convert:hover {\n",
              "      background-color: #434B5C;\n",
              "      box-shadow: 0px 1px 3px 1px rgba(0, 0, 0, 0.15);\n",
              "      filter: drop-shadow(0px 1px 2px rgba(0, 0, 0, 0.3));\n",
              "      fill: #FFFFFF;\n",
              "    }\n",
              "  </style>\n",
              "\n",
              "      <script>\n",
              "        const buttonEl =\n",
              "          document.querySelector('#df-24847850-3d14-4dce-bc17-7512632458cd button.colab-df-convert');\n",
              "        buttonEl.style.display =\n",
              "          google.colab.kernel.accessAllowed ? 'block' : 'none';\n",
              "\n",
              "        async function convertToInteractive(key) {\n",
              "          const element = document.querySelector('#df-24847850-3d14-4dce-bc17-7512632458cd');\n",
              "          const dataTable =\n",
              "            await google.colab.kernel.invokeFunction('convertToInteractive',\n",
              "                                                     [key], {});\n",
              "          if (!dataTable) return;\n",
              "\n",
              "          const docLinkHtml = 'Like what you see? Visit the ' +\n",
              "            '<a target=\"_blank\" href=https://colab.research.google.com/notebooks/data_table.ipynb>data table notebook</a>'\n",
              "            + ' to learn more about interactive tables.';\n",
              "          element.innerHTML = '';\n",
              "          dataTable['output_type'] = 'display_data';\n",
              "          await google.colab.output.renderOutput(dataTable, element);\n",
              "          const docLink = document.createElement('div');\n",
              "          docLink.innerHTML = docLinkHtml;\n",
              "          element.appendChild(docLink);\n",
              "        }\n",
              "      </script>\n",
              "    </div>\n",
              "  </div>\n",
              "  "
            ]
          },
          "metadata": {},
          "execution_count": 396
        }
      ],
      "source": [
        "df['Questions'] = preprocessing(df['Questions'])\n",
        "\n",
        "dataset=df\n",
        "\n",
        "df.head()"
      ]
    },
    {
      "cell_type": "code",
      "source": [
        "from keras.preprocessing.text import Tokenizer\n",
        "tokenizer = Tokenizer()\n",
        "tokenizer.fit_on_texts(df['Questions'])\n",
        "vocab_size=len(tokenizer.word_index)\n",
        "sequences = tokenizer.texts_to_sequences(df['Questions'])\n",
        "from keras.preprocessing.sequence import pad_sequences\n",
        "maxlen = max([len(i) for i in sequences])\n",
        "padded_sequences = pad_sequences(sequences, maxlen)"
      ],
      "metadata": {
        "id": "Ci8UiNrqlXV8"
      },
      "execution_count": 397,
      "outputs": []
    },
    {
      "cell_type": "markdown",
      "metadata": {
        "id": "9OdUOEiOYUpe"
      },
      "source": [
        "**One hot encoding of labels**"
      ]
    },
    {
      "cell_type": "code",
      "execution_count": 398,
      "metadata": {
        "id": "XEu4OgpGYcw3"
      },
      "outputs": [],
      "source": [
        "from sklearn import preprocessing\n",
        "from tensorflow.keras.utils import to_categorical\n",
        "le = preprocessing.LabelEncoder()\n",
        "y=df.FineType\n",
        "# print(y.unique())\n",
        "y = le.fit_transform(y)"
      ]
    },
    {
      "cell_type": "markdown",
      "source": [
        "**SVM**"
      ],
      "metadata": {
        "id": "1RnDnCFGn-uB"
      }
    },
    {
      "cell_type": "code",
      "source": [
        "def svm(k_fold,test_size):\n",
        "  from sklearn.model_selection import train_test_split\n",
        "  from sklearn.pipeline import Pipeline\n",
        "  from sklearn.feature_extraction.text import TfidfTransformer\n",
        "  from sklearn.feature_extraction.text import CountVectorizer\n",
        "  from sklearn.svm import SVC\n",
        "  from sklearn.naive_bayes import MultinomialNB\n",
        "  from sklearn.model_selection import StratifiedKFold\n",
        "  from sklearn.metrics import confusion_matrix\n",
        "  from sklearn.metrics import accuracy_score\n",
        "  from sklearn.metrics import fbeta_score\n",
        "  from sklearn.metrics import classification_report\n",
        "  from sklearn.ensemble import RandomForestClassifier\n",
        "  import random \n",
        "  test_size=0.30\n",
        "  k_fold = 5\n",
        "  X = dataset.Questions\n",
        "  y = dataset.FineType\n",
        "\n",
        "  # Splitting test set\n",
        "  X_train, X_test, y_train, y_test = train_test_split(X, y, test_size=test_size) \n",
        "\n",
        "  metrics = []\n",
        "  skf= StratifiedKFold(n_splits=k_fold, shuffle=True, random_state=1)\n",
        "  X=np.array(X_train)\n",
        "  y=np.array(y_train)\n",
        "\n",
        "  # Defining Model\n",
        "  model = Pipeline([('vect', CountVectorizer()),\n",
        "              ('tfidf', TfidfTransformer()),\n",
        "              ('clf', MultinomialNB()),\n",
        "              ]) \n",
        "\n",
        "    \n",
        "    #gaussian\n",
        "    #sigmoid\n",
        "  #model defination finished\n",
        "\n",
        "\n",
        "  # K fold cross validation\n",
        "  for train_index, validation_index in skf.split(X, y):\n",
        "      # print(\"TRAIN:\", train_index, \"VALIDATION:\", validation_index)\n",
        "      X_train, X_validation = X[train_index], X[validation_index]\n",
        "      y_train, y_validation = y[train_index], y[validation_index]\n",
        "  #   # train the model\n",
        "      model.fit(X_train,y_train)\n",
        "  #   # validate the model \n",
        "      y_pred_class_for_validation = model.predict(X_validation)\n",
        "      metrics.append(accuracy_score(y_validation, y_pred_class_for_validation))\n",
        "      # print(classification_report(y_test, y_pred_class,target_names=coarse_type))\n",
        "      \n",
        "\n",
        "\n",
        "\n",
        "\n",
        "  metrics = np.array(metrics)\n",
        "  # print('Validation Accuracy for each Iteration',metrics)\n",
        "  # print('Mean accuracy for validation set: ', np.mean(metrics, axis=0))\n",
        "  # print('Std for accuracy: ', np.std(metrics, axis=0))\n",
        "  # print('---------------------------------------------------------------------------------')\n",
        "\n",
        "  y_pred = model.predict(X_test)\n",
        "\n",
        "  test_accuracy = accuracy_score(y_pred, y_test)\n",
        "  # print('Test Accuracy : %s' % test_accuracy)\n",
        "  # print(classification_report(y_test, y_pred,target_names=fine_type))\n",
        "\n",
        "  # cf_matrix = confusion_matrix(y_test, y_pred, labels=fine_type)\n",
        "  # print(cf_matrix)\n",
        "\n",
        "  # import seaborn as sns\n",
        "  # plt.figure(figsize=(8,7))\n",
        "  # actual_data= ['temporal' 'location' 'numerical' 'person' 'organization' 'explanation' 'miscellaneous']\n",
        "  # predicted_data= ['temporal' 'location' 'numerical' 'person' 'organization' 'explanation' 'miscellaneous']\n",
        "  # cm = confusion_matrix(actual_data, predicted_data)\n",
        "  # ax = sns.heatmap(cf_matrix, annot=True, cmap='Blues', fmt='g')\n",
        "  # ax.set_title('Confusion Matrix')\n",
        "  # ax.set_xlabel('Predicted Intent')\n",
        "  # ax.set_ylabel('Actual Intent')\n",
        "  # ax.xaxis.set_ticklabels(['TEM','LOC','NUM','PER','ORG','EXP','MISC'])\n",
        "  # ax.yaxis.set_ticklabels(['TEM','LOC','NUM','PER','ORG','EXP','MISC'])\n",
        "  # plt.show()\n",
        "  \n",
        "  return test_accuracy\n"
      ],
      "metadata": {
        "id": "AZ9a0OXZoDbf"
      },
      "execution_count": 399,
      "outputs": []
    },
    {
      "cell_type": "markdown",
      "source": [
        "**Random Forest**"
      ],
      "metadata": {
        "id": "nRmFeZfhPm_M"
      }
    },
    {
      "cell_type": "code",
      "source": [
        "def randomForest(k_fold,test_size,n_estimators):\n",
        "  from sklearn.model_selection import train_test_split\n",
        "  from sklearn.model_selection import StratifiedKFold\n",
        "  from sklearn.metrics import confusion_matrix\n",
        "  from sklearn.metrics import accuracy_score\n",
        "  from sklearn.metrics import fbeta_score\n",
        "  from sklearn.metrics import classification_report\n",
        "  from sklearn.ensemble import RandomForestClassifier\n",
        "  \n",
        "  x=padded_sequences\n",
        "  test_size=0.2\n",
        "  k_fold=5\n",
        "  # max_depth=2\n",
        "  n_estimators=100\n",
        "\n",
        "  x_train, x_test, y_train, y_test = train_test_split(x, y,stratify=y,test_size=test_size) \n",
        "  metrics = []\n",
        "  skf= StratifiedKFold(n_splits=k_fold, shuffle=True, random_state=42)\n",
        "\n",
        "\n",
        "  #Create a Gaussian Classifier\n",
        "  model=RandomForestClassifier(n_estimators=n_estimators)\n",
        "\n",
        "   # K fold cross validation\n",
        "  for train_index, validation_index in skf.split(x_train, y_train):\n",
        "      # print(\"TRAIN:\", train_index, \"VALIDATION:\", validation_index)\n",
        "      X_train, X_validation = x_train[train_index], x_train[validation_index]\n",
        "      Y_train, Y_validation = y_train[train_index], y_train[validation_index]\n",
        "     \n",
        "  #   # train the model\n",
        "      model.fit(X_train,Y_train)\n",
        "  #   # validate the model \n",
        "      Y_pred_class_for_validation = model.predict(X_validation)\n",
        "      metrics.append(accuracy_score(Y_validation, Y_pred_class_for_validation))\n",
        "      # print(classification_report(y_test, y_pred_class,target_names=coarse_type))\n",
        "\n",
        "  # metrics = np.array(metrics)\n",
        "  # print('Validation Accuracy for each Iteration',metrics)\n",
        "  # print('Mean accuracy for validation set: ', np.mean(metrics, axis=0))\n",
        "  # print('Std for accuracy: ', np.std(metrics, axis=0))\n",
        "  # print('---------------------------------------------------------------------------------')\n",
        "\n",
        " \n",
        "\n",
        "  y_pred=model.predict(x_test)\n",
        "  test_accuracy=accuracy_score(y_test, y_pred)\n",
        "\n",
        "  # print(\"Test Accuracy:\",test_accuracy)\n",
        "  return test_accuracy"
      ],
      "metadata": {
        "id": "FPYZjOYlPw81"
      },
      "execution_count": 400,
      "outputs": []
    },
    {
      "cell_type": "markdown",
      "source": [
        "**DNN**"
      ],
      "metadata": {
        "id": "F1XRt4nKVrNj"
      }
    },
    {
      "cell_type": "code",
      "source": [
        "\n",
        "def dnn(k_fold,test_size,epochs,learning_rate,batch_size,vect_dim,neurons,dropout):\n",
        "  from keras.models import Sequential\n",
        "  from keras.layers import Dense, Flatten, Dropout\n",
        "  from keras.layers.embeddings import Embedding\n",
        "  from sklearn.model_selection import train_test_split\n",
        "  from sklearn.model_selection import StratifiedKFold\n",
        "  from sklearn.metrics import confusion_matrix\n",
        "  from sklearn.metrics import accuracy_score\n",
        "  from sklearn.metrics import fbeta_score\n",
        "  from sklearn.metrics import classification_report\n",
        "\n",
        "  le = preprocessing.LabelEncoder()\n",
        "  y=df.FineType\n",
        "  # print(y.unique())\n",
        "  y = le.fit_transform(y)\n",
        "  y = to_categorical(y) \n",
        "\n",
        "  test_size=0.2\n",
        "  k_fold=5\n",
        "\n",
        "  epochs=20\n",
        "  learning_rate= 0.002\n",
        "  batch_size=40\n",
        "  vect_dim=32\n",
        "  neurons=128\n",
        "  dropout=0.2\n",
        "\n",
        "\n",
        "\n",
        "  x=padded_sequences;\n",
        "  # print(x)\n",
        "  # print(y)\n",
        "  x_train, x_test, y_train, y_test = train_test_split(x, y,stratify=y,test_size=test_size) \n",
        "  acc = []\n",
        "  val = []\n",
        "  skf= StratifiedKFold(n_splits=k_fold, shuffle=True, random_state=42)\n",
        "  # x=np.array(x_train)\n",
        "  # y=np.array(y_train)\n",
        "\n",
        "  max_len = max([len(i) for i in sequences])\n",
        "  # print(max_len)\n",
        "  # from keras.optimizers import Adam\n",
        "  model = Sequential() \n",
        "  model.add(Embedding(vocab_size + 1, vect_dim, input_length=max_len)) \n",
        "  model.add(Flatten())\n",
        "  model.add(Dense(neurons, activation='relu'))\n",
        "  model.add(Dropout(dropout))\n",
        "  # print(output_shape)\n",
        "  model.add(Dense(output_shape, activation='softmax'))\n",
        "  model.compile(optimizer='adam', loss='categorical_crossentropy', metrics=['categorical_accuracy']) \n",
        "  #default value of learning rate will be 0.001\n",
        "  #adam is a variant of SGD(Sochastic gradient descent). Learning rate should be between (0.0001 to 0.1).Objective: Minimize the loss between actual output and predicted output.\n",
        "  model.optimizer.lr=learning_rate\n",
        "  # model.summary()\n",
        "\n",
        "  # K fold cross validation\n",
        "  i=0\n",
        "  for train_index, validation_index in skf.split(x_train, y_train.argmax(1)):\n",
        "      i=i+1\n",
        "      # print(\"TRAIN:\", train_index, \"VALIDATION:\", validation_index)\n",
        "      x_train, x_validation = x[train_index], x[validation_index]\n",
        "      y_train, y_validation = y[train_index], y[validation_index]\n",
        "      hist = model.fit(x_train, y_train, validation_data=(x_validation,y_validation), epochs=epochs, batch_size=batch_size, verbose=0)\n",
        "      ac = hist.history['categorical_accuracy']\n",
        "      # print('Average training accuracy :' +str(sum(ac)/len(ac)))\n",
        "      vl = hist.history['val_categorical_accuracy']\n",
        "      # print('Average validation accuracy :' + str(sum(vl)/len(vl)))\n",
        "      # ep = range(1, len(ac) + 1)\n",
        "      # plt.figure()\n",
        "      # plt.plot(ep, ac, '-', label='Training accuracy')\n",
        "      # plt.plot(ep, vl, ':', label='Validation accuracy')\n",
        "      # plt.title('Training and Validation Accuracy for set '+ str(i))\n",
        "      # plt.xlabel('Epoch')\n",
        "      # plt.ylabel('Accuracy')\n",
        "      # plt.legend(loc='lower right')\n",
        "      # plt.plot()\n",
        "      # acc.extend(ac);\n",
        "      # val.extend(vl)\n",
        "\n",
        "\n",
        "  # plt.figure()\n",
        "  # epochs = range(1, len(acc) + 1)\n",
        "  # plt.plot(epochs, acc, '-', label='Training accuracy')\n",
        "  # plt.plot(epochs, val, ':', label='Validation accuracy')\n",
        "  # plt.title('Overall Training and Validation Accuracy')\n",
        "  # plt.xlabel('Epoch')\n",
        "  # plt.ylabel('Accuracy')\n",
        "  # plt.legend(loc='lower right')\n",
        "  # plt.plot()\n",
        "\n",
        "\n",
        "  y_pred = model.predict(x_test)\n",
        "\n",
        "  test_accuracy = accuracy_score(y_pred.argmax(axis=1), y_test.argmax(axis=1))\n",
        "\n",
        "  beta_score=fbeta_score( y_test.argmax(axis=1), y_pred.argmax(axis=1), average='weighted', beta=1)\n",
        "  # print('Test Accuracy : %s' % test_accuracy)\n",
        "  # # print(y_pred.argmax(axis=1))\n",
        "  # # print(y_test.argmax(axis=1))\n",
        "  # labels=y.argmax(axis=1)\n",
        "  # labels=le.inverse_transform(labels)\n",
        "  # labels=np.unique(labels)\n",
        "  # # print(classification_report(y_test.argmax(axis=1), y_pred.argmax(axis=1),target_names=labels))\n",
        "\n",
        "  # mat = confusion_matrix(y_test.argmax(axis=1), y_pred.argmax(axis=1),labels=le.fit_transform(df.CoarseType.unique()))\n",
        "  # import seaborn as sns\n",
        "  # plt.figure(figsize=(8,7))\n",
        "  # sns.set()\n",
        "  # sns.heatmap(mat, square=True, annot=True, fmt='d', cbar=True, cmap='Blues',xticklabels=df.CoarseType.unique(), yticklabels=df.CoarseType.unique())\n",
        "\n",
        "  # plt.xlabel('Predicted label')\n",
        "  # plt.ylabel('Actual label')\n",
        "\n",
        "  # return test_accuracy\n",
        "\n",
        "  return beta_score"
      ],
      "metadata": {
        "id": "BNNnXXqwGDdG"
      },
      "execution_count": 401,
      "outputs": []
    },
    {
      "cell_type": "code",
      "source": [
        "#SVM\n",
        "from bayes_opt import BayesianOptimization\n",
        "pbounds = {\n",
        "    'k_fold': (5, 10), \n",
        "    'test_size':(20,50),\n",
        "    }\n",
        "optimizer_svm = BayesianOptimization(\n",
        "    f=svm,\n",
        "    pbounds=pbounds,\n",
        "    verbose=2, \n",
        "    random_state=42,\n",
        ")\n",
        "optimizer_svm.maximize(init_points = 0, n_iter = 20)\n",
        "print(\"Best result: {}; Accuracy = {}.\".format(optimizer_svm.max[\"params\"], optimizer_svm.max[\"target\"]))"
      ],
      "metadata": {
        "colab": {
          "base_uri": "https://localhost:8080/"
        },
        "id": "T4tg_TtPChES",
        "outputId": "30847d9f-70d4-4c8f-ca4a-6f4831341631"
      },
      "execution_count": 407,
      "outputs": [
        {
          "output_type": "stream",
          "name": "stdout",
          "text": [
            "|   iter    |  target   |  k_fold   | test_size |\n",
            "-------------------------------------------------\n",
            "| \u001b[0m 1       \u001b[0m | \u001b[0m 0.6111  \u001b[0m | \u001b[0m 6.873   \u001b[0m | \u001b[0m 48.52   \u001b[0m |\n",
            "| \u001b[0m 2       \u001b[0m | \u001b[0m 0.5556  \u001b[0m | \u001b[0m 8.365   \u001b[0m | \u001b[0m 35.92   \u001b[0m |\n",
            "| \u001b[0m 3       \u001b[0m | \u001b[0m 0.4444  \u001b[0m | \u001b[0m 6.962   \u001b[0m | \u001b[0m 48.55   \u001b[0m |\n",
            "| \u001b[0m 4       \u001b[0m | \u001b[0m 0.5556  \u001b[0m | \u001b[0m 5.507   \u001b[0m | \u001b[0m 35.65   \u001b[0m |\n",
            "| \u001b[95m 5       \u001b[0m | \u001b[95m 0.7778  \u001b[0m | \u001b[95m 5.028   \u001b[0m | \u001b[95m 33.91   \u001b[0m |\n",
            "| \u001b[0m 6       \u001b[0m | \u001b[0m 0.5     \u001b[0m | \u001b[0m 8.338   \u001b[0m | \u001b[0m 39.27   \u001b[0m |\n",
            "| \u001b[95m 7       \u001b[0m | \u001b[95m 0.8889  \u001b[0m | \u001b[95m 5.162   \u001b[0m | \u001b[95m 26.46   \u001b[0m |\n",
            "| \u001b[0m 8       \u001b[0m | \u001b[0m 0.5     \u001b[0m | \u001b[0m 7.209   \u001b[0m | \u001b[0m 44.73   \u001b[0m |\n",
            "| \u001b[0m 9       \u001b[0m | \u001b[0m 0.6111  \u001b[0m | \u001b[0m 5.093   \u001b[0m | \u001b[0m 33.15   \u001b[0m |\n",
            "| \u001b[0m 10      \u001b[0m | \u001b[0m 0.5556  \u001b[0m | \u001b[0m 6.976   \u001b[0m | \u001b[0m 34.62   \u001b[0m |\n",
            "| \u001b[0m 11      \u001b[0m | \u001b[0m 0.6111  \u001b[0m | \u001b[0m 8.451   \u001b[0m | \u001b[0m 23.67   \u001b[0m |\n",
            "| \u001b[0m 12      \u001b[0m | \u001b[0m 0.5556  \u001b[0m | \u001b[0m 8.02    \u001b[0m | \u001b[0m 24.55   \u001b[0m |\n",
            "| \u001b[0m 13      \u001b[0m | \u001b[0m 0.3889  \u001b[0m | \u001b[0m 8.964   \u001b[0m | \u001b[0m 46.52   \u001b[0m |\n",
            "| \u001b[0m 14      \u001b[0m | \u001b[0m 0.5     \u001b[0m | \u001b[0m 7.097   \u001b[0m | \u001b[0m 24.96   \u001b[0m |\n",
            "| \u001b[0m 15      \u001b[0m | \u001b[0m 0.5556  \u001b[0m | \u001b[0m 5.575   \u001b[0m | \u001b[0m 25.95   \u001b[0m |\n",
            "| \u001b[0m 16      \u001b[0m | \u001b[0m 0.6667  \u001b[0m | \u001b[0m 9.777   \u001b[0m | \u001b[0m 27.84   \u001b[0m |\n",
            "| \u001b[0m 17      \u001b[0m | \u001b[0m 0.4444  \u001b[0m | \u001b[0m 9.068   \u001b[0m | \u001b[0m 44.07   \u001b[0m |\n",
            "| \u001b[0m 18      \u001b[0m | \u001b[0m 0.6667  \u001b[0m | \u001b[0m 6.042   \u001b[0m | \u001b[0m 43.25   \u001b[0m |\n",
            "| \u001b[0m 19      \u001b[0m | \u001b[0m 0.4444  \u001b[0m | \u001b[0m 9.096   \u001b[0m | \u001b[0m 40.42   \u001b[0m |\n",
            "| \u001b[0m 20      \u001b[0m | \u001b[0m 0.5556  \u001b[0m | \u001b[0m 7.51    \u001b[0m | \u001b[0m 40.16   \u001b[0m |\n",
            "| \u001b[0m 21      \u001b[0m | \u001b[0m 0.6111  \u001b[0m | \u001b[0m 8.173   \u001b[0m | \u001b[0m 42.96   \u001b[0m |\n",
            "=================================================\n",
            "Best result: {'k_fold': 5.162350471243831, 'test_size': 26.457378072722022}; Accuracy = 0.8888888888888888.\n"
          ]
        }
      ]
    },
    {
      "cell_type": "code",
      "source": [
        "#Random Forest\n",
        "pbounds = {\n",
        "    'k_fold': (5, 10), \n",
        "    'test_size':(20,50),\n",
        "    # 'max_depth':(100,1000),\n",
        "    'n_estimators':(100,1000),\n",
        "    }\n",
        "optimizer_rf = BayesianOptimization(\n",
        "    f=randomForest,\n",
        "    pbounds=pbounds,\n",
        "    verbose=2, \n",
        "    random_state=42,\n",
        ")\n",
        "optimizer_rf.maximize(init_points = 0, n_iter = 20)\n",
        "print(\"Best result: {}; Accuracy = {}.\".format(optimizer_rf.max[\"params\"], optimizer_rf.max[\"target\"]))"
      ],
      "metadata": {
        "colab": {
          "base_uri": "https://localhost:8080/"
        },
        "id": "OOOaebjjC3O8",
        "outputId": "1cf64c08-57f6-4c0e-952d-76fa67bbfafb"
      },
      "execution_count": 406,
      "outputs": [
        {
          "output_type": "stream",
          "name": "stdout",
          "text": [
            "|   iter    |  target   |  k_fold   | n_esti... | test_size |\n",
            "-------------------------------------------------------------\n",
            "| \u001b[0m 1       \u001b[0m | \u001b[0m 0.5     \u001b[0m | \u001b[0m 6.873   \u001b[0m | \u001b[0m 955.6   \u001b[0m | \u001b[0m 41.96   \u001b[0m |\n",
            "| \u001b[95m 2       \u001b[0m | \u001b[95m 0.75    \u001b[0m | \u001b[95m 9.857   \u001b[0m | \u001b[95m 669.2   \u001b[0m | \u001b[95m 49.58   \u001b[0m |\n",
            "| \u001b[95m 3       \u001b[0m | \u001b[95m 0.8333  \u001b[0m | \u001b[95m 8.369   \u001b[0m | \u001b[95m 669.0   \u001b[0m | \u001b[95m 49.07   \u001b[0m |\n",
            "| \u001b[0m 4       \u001b[0m | \u001b[0m 0.8333  \u001b[0m | \u001b[0m 5.583   \u001b[0m | \u001b[0m 670.6   \u001b[0m | \u001b[0m 46.9    \u001b[0m |\n",
            "| \u001b[0m 5       \u001b[0m | \u001b[0m 0.8333  \u001b[0m | \u001b[0m 5.019   \u001b[0m | \u001b[0m 664.8   \u001b[0m | \u001b[0m 46.19   \u001b[0m |\n",
            "| \u001b[0m 6       \u001b[0m | \u001b[0m 0.8333  \u001b[0m | \u001b[0m 6.746   \u001b[0m | \u001b[0m 667.6   \u001b[0m | \u001b[0m 40.5    \u001b[0m |\n",
            "| \u001b[0m 7       \u001b[0m | \u001b[0m 0.75    \u001b[0m | \u001b[0m 8.001   \u001b[0m | \u001b[0m 661.3   \u001b[0m | \u001b[0m 39.8    \u001b[0m |\n",
            "| \u001b[0m 8       \u001b[0m | \u001b[0m 0.5833  \u001b[0m | \u001b[0m 5.859   \u001b[0m | \u001b[0m 673.6   \u001b[0m | \u001b[0m 37.51   \u001b[0m |\n",
            "| \u001b[0m 9       \u001b[0m | \u001b[0m 0.75    \u001b[0m | \u001b[0m 8.914   \u001b[0m | \u001b[0m 667.6   \u001b[0m | \u001b[0m 43.25   \u001b[0m |\n",
            "| \u001b[0m 10      \u001b[0m | \u001b[0m 0.75    \u001b[0m | \u001b[0m 8.394   \u001b[0m | \u001b[0m 664.4   \u001b[0m | \u001b[0m 48.61   \u001b[0m |\n",
            "| \u001b[0m 11      \u001b[0m | \u001b[0m 0.8333  \u001b[0m | \u001b[0m 6.152   \u001b[0m | \u001b[0m 675.5   \u001b[0m | \u001b[0m 48.85   \u001b[0m |\n",
            "| \u001b[0m 12      \u001b[0m | \u001b[0m 0.75    \u001b[0m | \u001b[0m 5.358   \u001b[0m | \u001b[0m 667.4   \u001b[0m | \u001b[0m 48.98   \u001b[0m |\n",
            "| \u001b[0m 13      \u001b[0m | \u001b[0m 0.5     \u001b[0m | \u001b[0m 8.376   \u001b[0m | \u001b[0m 672.2   \u001b[0m | \u001b[0m 48.02   \u001b[0m |\n",
            "| \u001b[0m 14      \u001b[0m | \u001b[0m 0.75    \u001b[0m | \u001b[0m 7.191   \u001b[0m | \u001b[0m 675.5   \u001b[0m | \u001b[0m 49.59   \u001b[0m |\n",
            "| \u001b[0m 15      \u001b[0m | \u001b[0m 0.6667  \u001b[0m | \u001b[0m 5.2     \u001b[0m | \u001b[0m 666.3   \u001b[0m | \u001b[0m 46.89   \u001b[0m |\n",
            "| \u001b[0m 16      \u001b[0m | \u001b[0m 0.75    \u001b[0m | \u001b[0m 5.264   \u001b[0m | \u001b[0m 669.7   \u001b[0m | \u001b[0m 47.21   \u001b[0m |\n",
            "| \u001b[0m 17      \u001b[0m | \u001b[0m 0.6667  \u001b[0m | \u001b[0m 8.171   \u001b[0m | \u001b[0m 668.7   \u001b[0m | \u001b[0m 47.95   \u001b[0m |\n",
            "| \u001b[0m 18      \u001b[0m | \u001b[0m 0.5833  \u001b[0m | \u001b[0m 5.701   \u001b[0m | \u001b[0m 670.9   \u001b[0m | \u001b[0m 47.3    \u001b[0m |\n",
            "| \u001b[0m 19      \u001b[0m | \u001b[0m 0.75    \u001b[0m | \u001b[0m 6.682   \u001b[0m | \u001b[0m 152.3   \u001b[0m | \u001b[0m 46.36   \u001b[0m |\n",
            "| \u001b[0m 20      \u001b[0m | \u001b[0m 0.8333  \u001b[0m | \u001b[0m 9.401   \u001b[0m | \u001b[0m 853.9   \u001b[0m | \u001b[0m 29.62   \u001b[0m |\n",
            "| \u001b[0m 21      \u001b[0m | \u001b[0m 0.75    \u001b[0m | \u001b[0m 6.646   \u001b[0m | \u001b[0m 966.8   \u001b[0m | \u001b[0m 35.16   \u001b[0m |\n",
            "=============================================================\n",
            "Best result: {'k_fold': 8.368990564844532, 'n_estimators': 668.9803681910455, 'test_size': 49.068227853919836}; Accuracy = 0.8333333333333334.\n"
          ]
        }
      ]
    },
    {
      "cell_type": "code",
      "source": [
        "#DNN\n",
        "pbounds = {\n",
        "    'k_fold': (5, 10), \n",
        "    'test_size':(20,50),\n",
        "    'epochs': (10,50), \n",
        "    'learning_rate':(0.0001,0.01),\n",
        "    'batch_size': (10, 100), \n",
        "    'vect_dim':(8,128),\n",
        "    'neurons':(8,128),\n",
        "    'dropout':(0.2,0.8)\n",
        "    }\n",
        "optimizer_dnn = BayesianOptimization(\n",
        "    f=dnn,\n",
        "    pbounds=pbounds,\n",
        "    verbose=2, \n",
        "    random_state=42,\n",
        ")\n",
        "optimizer_dnn.maximize(init_points = 0, n_iter = 5)\n",
        "print(\"Best result: {}; Accuracy = {}.\".format(optimizer_dnn.max[\"params\"], optimizer_dnn.max[\"target\"]))\n"
      ],
      "metadata": {
        "colab": {
          "base_uri": "https://localhost:8080/"
        },
        "id": "FsphAgqyDDKm",
        "outputId": "fde96784-5769-495e-a62f-6979700db04d"
      },
      "execution_count": 405,
      "outputs": [
        {
          "output_type": "stream",
          "name": "stdout",
          "text": [
            "|   iter    |  target   | batch_... |  dropout  |  epochs   |  k_fold   | learni... |  neurons  | test_size | vect_dim  |\n",
            "-------------------------------------------------------------------------------------------------------------------------\n",
            "| \u001b[0m 1       \u001b[0m | \u001b[0m 0.9121  \u001b[0m | \u001b[0m 43.71   \u001b[0m | \u001b[0m 0.7704  \u001b[0m | \u001b[0m 39.28   \u001b[0m | \u001b[0m 7.993   \u001b[0m | \u001b[0m 0.001645\u001b[0m | \u001b[0m 26.72   \u001b[0m | \u001b[0m 21.74   \u001b[0m | \u001b[0m 111.9   \u001b[0m |\n",
            "| \u001b[95m 2       \u001b[0m | \u001b[95m 1.0     \u001b[0m | \u001b[95m 44.25   \u001b[0m | \u001b[95m 0.7151  \u001b[0m | \u001b[95m 40.18   \u001b[0m | \u001b[95m 5.092   \u001b[0m | \u001b[95m 0.001748\u001b[0m | \u001b[95m 64.88   \u001b[0m | \u001b[95m 39.76   \u001b[0m | \u001b[95m 93.82   \u001b[0m |\n",
            "| \u001b[0m 3       \u001b[0m | \u001b[0m 1.0     \u001b[0m | \u001b[0m 43.88   \u001b[0m | \u001b[0m 0.6523  \u001b[0m | \u001b[0m 40.21   \u001b[0m | \u001b[0m 6.048   \u001b[0m | \u001b[0m 0.003825\u001b[0m | \u001b[0m 68.3    \u001b[0m | \u001b[0m 37.62   \u001b[0m | \u001b[0m 97.09   \u001b[0m |\n",
            "| \u001b[0m 4       \u001b[0m | \u001b[0m 0.9121  \u001b[0m | \u001b[0m 45.76   \u001b[0m | \u001b[0m 0.7343  \u001b[0m | \u001b[0m 40.04   \u001b[0m | \u001b[0m 5.0     \u001b[0m | \u001b[0m 0.0001  \u001b[0m | \u001b[0m 96.74   \u001b[0m | \u001b[0m 50.0    \u001b[0m | \u001b[0m 70.36   \u001b[0m |\n",
            "| \u001b[0m 5       \u001b[0m | \u001b[0m 0.9121  \u001b[0m | \u001b[0m 63.08   \u001b[0m | \u001b[0m 0.6102  \u001b[0m | \u001b[0m 44.07   \u001b[0m | \u001b[0m 5.0     \u001b[0m | \u001b[0m 0.0001  \u001b[0m | \u001b[0m 65.95   \u001b[0m | \u001b[0m 50.0    \u001b[0m | \u001b[0m 108.9   \u001b[0m |\n",
            "| \u001b[0m 6       \u001b[0m | \u001b[0m 0.8083  \u001b[0m | \u001b[0m 30.24   \u001b[0m | \u001b[0m 0.6903  \u001b[0m | \u001b[0m 38.05   \u001b[0m | \u001b[0m 5.209   \u001b[0m | \u001b[0m 0.007658\u001b[0m | \u001b[0m 65.41   \u001b[0m | \u001b[0m 31.81   \u001b[0m | \u001b[0m 91.12   \u001b[0m |\n",
            "=========================================================================================================================\n",
            "Best result: {'batch_size': 44.24746494201208, 'dropout': 0.7150640196832985, 'epochs': 40.17707416790569, 'k_fold': 5.091830877870115, 'learning_rate': 0.001748330827456348, 'neurons': 64.8841416741131, 'test_size': 39.7604079547944, 'vect_dim': 93.81511395152666}; Accuracy = 1.0.\n"
          ]
        }
      ]
    }
  ],
  "metadata": {
    "colab": {
      "collapsed_sections": [],
      "name": "Organization_Hyperparameter_Optimization.ipynb",
      "provenance": [],
      "authorship_tag": "ABX9TyOlYvKLaXRobOGvCq/4UB4W",
      "include_colab_link": true
    },
    "kernelspec": {
      "display_name": "Python 3",
      "name": "python3"
    },
    "language_info": {
      "name": "python"
    }
  },
  "nbformat": 4,
  "nbformat_minor": 0
}