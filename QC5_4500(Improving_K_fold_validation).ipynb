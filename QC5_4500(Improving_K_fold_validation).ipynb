{
  "nbformat": 4,
  "nbformat_minor": 0,
  "metadata": {
    "colab": {
      "name": "QC5/4500(Improving K fold validation).ipynb",
      "provenance": [],
      "collapsed_sections": [],
      "authorship_tag": "ABX9TyM0TsmN7aeUEQGj0uD2646L",
      "include_colab_link": true
    },
    "kernelspec": {
      "name": "python3",
      "display_name": "Python 3"
    },
    "language_info": {
      "name": "python"
    }
  },
  "cells": [
    {
      "cell_type": "markdown",
      "metadata": {
        "id": "view-in-github",
        "colab_type": "text"
      },
      "source": [
        "<a href=\"https://colab.research.google.com/github/TimilsinaSushil/Thesis/blob/main/QC5_4500(Improving_K_fold_validation).ipynb\" target=\"_parent\"><img src=\"https://colab.research.google.com/assets/colab-badge.svg\" alt=\"Open In Colab\"/></a>"
      ]
    },
    {
      "cell_type": "code",
      "metadata": {
        "id": "ICl3v-lCcTVE"
      },
      "source": [
        "# !pip install torch==1.3.1+cpu -f https://download.pytorch.org/whl/torch_stable.html\n",
        "# !pip install inltk\n",
        "# !pip install nepali-stemmer\n",
        "from inltk.inltk import setup\n",
        "from inltk.inltk import tokenize\n",
        "from inltk.inltk import get_embedding_vectors\n",
        "from nepali_stemmer.stemmer import NepStemmer\n",
        "# setup('ne')\n",
        "import pandas as pd\n",
        "import numpy as np\n",
        "import matplotlib.pyplot as plt\n",
        "%matplotlib inline"
      ],
      "execution_count": 26,
      "outputs": []
    },
    {
      "cell_type": "code",
      "metadata": {
        "id": "Bedgrbfxd-Lw"
      },
      "source": [
        "# from google.colab import files\n",
        "# uploaded = files.upload()\n",
        "df = pd.read_csv('QSN.csv')"
      ],
      "execution_count": 77,
      "outputs": []
    },
    {
      "cell_type": "code",
      "metadata": {
        "colab": {
          "base_uri": "https://localhost:8080/",
          "height": 344
        },
        "id": "Pm_8WA9veyKr",
        "outputId": "5c3242d4-057d-4327-cda6-bb574e80a0ae"
      },
      "source": [
        "#coarse type filtering\n",
        "df=df[df['CoarseType'].isin(['location','temporal','numerical','person','organization','explanation','miscellaneous'])]\n",
        "coarse_type=df['CoarseType'].unique()\n",
        "# print(coarse_type)\n",
        "print(coarse_type)\n",
        "plt.figure(figsize=(10,4))\n",
        "df.CoarseType.value_counts().plot(kind='bar');\n"
      ],
      "execution_count": 78,
      "outputs": [
        {
          "output_type": "stream",
          "name": "stdout",
          "text": [
            "['temporal' 'location' 'numerical' 'person' 'organization' 'explanation' 'miscellaneous']\n"
          ]
        },
        {
          "output_type": "display_data",
          "data": {
            "text/plain": [
              "<Figure size 720x288 with 1 Axes>"
            ],
            "image/png": "[encoded data removed]"
          },
          "metadata": {
            "needs_background": "light"
          }
        }
      ]
    },
    {
      "cell_type": "markdown",
      "metadata": {
        "id": "x6WbV7qyfYcp"
      },
      "source": [
        "**Text Preprocessig**"
      ]
    },
    {
      "cell_type": "code",
      "metadata": {
        "id": "EKyDSfqefXdB",
        "colab": {
          "base_uri": "https://localhost:8080/"
        },
        "outputId": "cb25e7de-8667-401f-9f67-aa68fad0b034"
      },
      "source": [
        "import nltk\n",
        "from nltk.corpus import stopwords\n",
        "nltk.download('stopwords')"
      ],
      "execution_count": 79,
      "outputs": [
        {
          "output_type": "stream",
          "name": "stdout",
          "text": [
            "[nltk_data] Downloading package stopwords to /root/nltk_data...\n",
            "[nltk_data]   Package stopwords is already up-to-date!\n"
          ]
        },
        {
          "output_type": "execute_result",
          "data": {
            "text/plain": [
              "True"
            ]
          },
          "metadata": {},
          "execution_count": 79
        }
      ]
    },
    {
      "cell_type": "code",
      "metadata": {
        "id": "1Io9hFAeFnvW"
      },
      "source": [
        "#removing text inside brackets and quotes\n",
        "import re\n",
        "def removeTextInsideQuotesAndBrackets(text):\n",
        "  text=re.sub(\"[\\(\\[].*?[\\)\\]]\", \"\", text)\n",
        "  text=re.sub(\"\\'.*?\\'\",\"\",text)\n",
        "  text=re.sub('\\\".*?\\\"',\"\",text)\n",
        "  return text"
      ],
      "execution_count": 80,
      "outputs": []
    },
    {
      "cell_type": "code",
      "metadata": {
        "id": "PNI1n-GzDjG-"
      },
      "source": [
        "def removeKo(text):\n",
        "  words= text.split()\n",
        "  text=[]\n",
        "  for word in words:\n",
        "    length=len(word)\n",
        "    if(length > 2):\n",
        "      if(word[-2]=='क' and word[-1]=='ो'):\n",
        "        if(word!='कसको'):\n",
        "          word= word[:length-2]\n",
        "    text.append(word)\n",
        "  text=' '.join([word for word in text])\n",
        "  # print(text)\n",
        "  return text\n",
        "\n",
        "\n"
      ],
      "execution_count": 81,
      "outputs": []
    },
    {
      "cell_type": "code",
      "metadata": {
        "id": "az5FRbNyhGf0"
      },
      "source": [
        "def preprocessing(questions):\n",
        "  questions=questions.apply(removeTextInsideQuotesAndBrackets)\n",
        "  # questions = questions.apply(removeKo)\n",
        "  #tokenization\n",
        "  questions= questions.apply(lambda x: tokenize(x,'ne'))\n",
        "  #removing duplicates\n",
        "  questions= questions.apply(lambda x: list(dict.fromkeys(x)))\n",
        "  \n",
        "  questions=questions.apply(lambda x: ' '.join(x).replace('▁','').split())\n",
        "  questions=questions.apply(lambda x: ' '.join(x))\n",
        "\n",
        "  #removing numbers\n",
        "  questios=questions.apply(lambda x: ''.join(c for c in x if not c.isdigit()))\n",
        "  #removing punctuation\n",
        "  punctuation=['!','\"','#','$','&',\"'\",'(',')','*','+',',','-','.','/',':',';','<','=','>','?','@','[',\"]\",'^','_','`','{','|','}','~']\n",
        "  questions = questions.apply(lambda x: ''.join(c for c in x if c not in punctuation))\n",
        "\n",
        "  #removing stopwords\n",
        "  WHWORDS = ['कुन','कहिले','के','कति','को','कसले','कहाँ','कसलाई','कसको','कस्तो','कति','कसरी','किन','कता']\n",
        "  STOPWORDS = stopwords.words('nepali')\n",
        "  # Removig WH words from STOPWORDS\n",
        "  for word in WHWORDS:\n",
        "    if word in STOPWORDS: STOPWORDS.remove(word)\n",
        "\n",
        "  STOPWORDS=set(STOPWORDS)\n",
        "  def clean_text(text):\n",
        "      text=' '.join([word for word in text.split() if word not in STOPWORDS]) # delete stopwords from text\n",
        "      return text\n",
        "  questions = questions.apply(clean_text)\n",
        "  return questions\n",
        "\n"
      ],
      "execution_count": 82,
      "outputs": []
    },
    {
      "cell_type": "code",
      "metadata": {
        "id": "igEeAbr-cUo3"
      },
      "source": [
        "#stemmig\n",
        "# nepstem = NepStemmer()\n",
        "# df['Questions'] = df['Questions'].apply(nepstem.stem)\n",
        "# df.head(10)"
      ],
      "execution_count": null,
      "outputs": []
    },
    {
      "cell_type": "code",
      "metadata": {
        "id": "pt2AN-SEoRU4",
        "colab": {
          "base_uri": "https://localhost:8080/",
          "height": 206
        },
        "outputId": "05439a04-1d59-4e7b-c2dc-e249d94c2d83"
      },
      "source": [
        "df['Questions'] = preprocessing(df['Questions'])\n",
        "\n",
        "df.head()\n",
        "\n"
      ],
      "execution_count": 83,
      "outputs": [
        {
          "output_type": "execute_result",
          "data": {
            "text/plain": [
              "                                           Questions  \\\n",
              "0  नेपाली क्रिकेट टिम क्याप्टेन ज्ञानेन्द्र मल्ल ...   \n",
              "1  फ्रान्स को लियोन सम्पन्न महिला विश्वकप फुटबल २...   \n",
              "2     विश्व शान्ति सू चा ंक २०१९ नेपाल कति औ स्थानमा   \n",
              "3  फलफूल को बोट रु दश नोट कार्यक्रमको सुरुवात कुन...   \n",
              "4  माथिल्लो त्रिशुली थ्री जल विध ुत आयोजना को विध...   \n",
              "\n",
              "                         Answer CoarseType FineType WhWord        Domain   \n",
              "0        वि.सं. २०७६ कार्तिक १३   temporal     date  कहिले         Sports  \n",
              "1                       अमेरिका   location  country   कसले         Sports  \n",
              "2                  ७६ औ स्थानमा  numerical     rank    कति  Miscellaneous  \n",
              "3  इच्छाकामना गाउँपालिका, चितवन   location     city    कुन       Politics  \n",
              "4             वि.स. २०७६ जेठ ०२   temporal     date  कहिले  Miscellaneous  "
            ],
            "text/html": [
              "\n",
              "  <div id=\"df-58960a67-ad39-42dd-ac65-2028e6cf791b\">\n",
              "    <div class=\"colab-df-container\">\n",
              "      <div>\n",
              "<style scoped>\n",
              "    .dataframe tbody tr th:only-of-type {\n",
              "        vertical-align: middle;\n",
              "    }\n",
              "\n",
              "    .dataframe tbody tr th {\n",
              "        vertical-align: top;\n",
              "    }\n",
              "\n",
              "    .dataframe thead th {\n",
              "        text-align: right;\n",
              "    }\n",
              "</style>\n",
              "<table border=\"1\" class=\"dataframe\">\n",
              "  <thead>\n",
              "    <tr style=\"text-align: right;\">\n",
              "      <th></th>\n",
              "      <th>Questions</th>\n",
              "      <th>Answer</th>\n",
              "      <th>CoarseType</th>\n",
              "      <th>FineType</th>\n",
              "      <th>WhWord</th>\n",
              "      <th>Domain</th>\n",
              "    </tr>\n",
              "  </thead>\n",
              "  <tbody>\n",
              "    <tr>\n",
              "      <th>0</th>\n",
              "      <td>नेपाली क्रिकेट टिम क्याप्टेन ज्ञानेन्द्र मल्ल ...</td>\n",
              "      <td>वि.सं. २०७६ कार्तिक १३</td>\n",
              "      <td>temporal</td>\n",
              "      <td>date</td>\n",
              "      <td>कहिले</td>\n",
              "      <td>Sports</td>\n",
              "    </tr>\n",
              "    <tr>\n",
              "      <th>1</th>\n",
              "      <td>फ्रान्स को लियोन सम्पन्न महिला विश्वकप फुटबल २...</td>\n",
              "      <td>अमेरिका</td>\n",
              "      <td>location</td>\n",
              "      <td>country</td>\n",
              "      <td>कसले</td>\n",
              "      <td>Sports</td>\n",
              "    </tr>\n",
              "    <tr>\n",
              "      <th>2</th>\n",
              "      <td>विश्व शान्ति सू चा ंक २०१९ नेपाल कति औ स्थानमा</td>\n",
              "      <td>७६ औ स्थानमा</td>\n",
              "      <td>numerical</td>\n",
              "      <td>rank</td>\n",
              "      <td>कति</td>\n",
              "      <td>Miscellaneous</td>\n",
              "    </tr>\n",
              "    <tr>\n",
              "      <th>3</th>\n",
              "      <td>फलफूल को बोट रु दश नोट कार्यक्रमको सुरुवात कुन...</td>\n",
              "      <td>इच्छाकामना गाउँपालिका, चितवन</td>\n",
              "      <td>location</td>\n",
              "      <td>city</td>\n",
              "      <td>कुन</td>\n",
              "      <td>Politics</td>\n",
              "    </tr>\n",
              "    <tr>\n",
              "      <th>4</th>\n",
              "      <td>माथिल्लो त्रिशुली थ्री जल विध ुत आयोजना को विध...</td>\n",
              "      <td>वि.स. २०७६ जेठ ०२</td>\n",
              "      <td>temporal</td>\n",
              "      <td>date</td>\n",
              "      <td>कहिले</td>\n",
              "      <td>Miscellaneous</td>\n",
              "    </tr>\n",
              "  </tbody>\n",
              "</table>\n",
              "</div>\n",
              "      <button class=\"colab-df-convert\" onclick=\"convertToInteractive('df-58960a67-ad39-42dd-ac65-2028e6cf791b')\"\n",
              "              title=\"Convert this dataframe to an interactive table.\"\n",
              "              style=\"display:none;\">\n",
              "        \n",
              "  <svg xmlns=\"http://www.w3.org/2000/svg\" height=\"24px\"viewBox=\"0 0 24 24\"\n",
              "       width=\"24px\">\n",
              "    <path d=\"M0 0h24v24H0V0z\" fill=\"none\"/>\n",
              "    <path d=\"M18.56 5.44l.94 2.06.94-2.06 2.06-.94-2.06-.94-.94-2.06-.94 2.06-2.06.94zm-11 1L8.5 8.5l.94-2.06 2.06-.94-2.06-.94L8.5 2.5l-.94 2.06-2.06.94zm10 10l.94 2.06.94-2.06 2.06-.94-2.06-.94-.94-2.06-.94 2.06-2.06.94z\"/><path d=\"M17.41 7.96l-1.37-1.37c-.4-.4-.92-.59-1.43-.59-.52 0-1.04.2-1.43.59L10.3 9.45l-7.72 7.72c-.78.78-.78 2.05 0 2.83L4 21.41c.39.39.9.59 1.41.59.51 0 1.02-.2 1.41-.59l7.78-7.78 2.81-2.81c.8-.78.8-2.07 0-2.86zM5.41 20L4 18.59l7.72-7.72 1.47 1.35L5.41 20z\"/>\n",
              "  </svg>\n",
              "      </button>\n",
              "      \n",
              "  <style>\n",
              "    .colab-df-container {\n",
              "      display:flex;\n",
              "      flex-wrap:wrap;\n",
              "      gap: 12px;\n",
              "    }\n",
              "\n",
              "    .colab-df-convert {\n",
              "      background-color: #E8F0FE;\n",
              "      border: none;\n",
              "      border-radius: 50%;\n",
              "      cursor: pointer;\n",
              "      display: none;\n",
              "      fill: #1967D2;\n",
              "      height: 32px;\n",
              "      padding: 0 0 0 0;\n",
              "      width: 32px;\n",
              "    }\n",
              "\n",
              "    .colab-df-convert:hover {\n",
              "      background-color: #E2EBFA;\n",
              "      box-shadow: 0px 1px 2px rgba(60, 64, 67, 0.3), 0px 1px 3px 1px rgba(60, 64, 67, 0.15);\n",
              "      fill: #174EA6;\n",
              "    }\n",
              "\n",
              "    [theme=dark] .colab-df-convert {\n",
              "      background-color: #3B4455;\n",
              "      fill: #D2E3FC;\n",
              "    }\n",
              "\n",
              "    [theme=dark] .colab-df-convert:hover {\n",
              "      background-color: #434B5C;\n",
              "      box-shadow: 0px 1px 3px 1px rgba(0, 0, 0, 0.15);\n",
              "      filter: drop-shadow(0px 1px 2px rgba(0, 0, 0, 0.3));\n",
              "      fill: #FFFFFF;\n",
              "    }\n",
              "  </style>\n",
              "\n",
              "      <script>\n",
              "        const buttonEl =\n",
              "          document.querySelector('#df-58960a67-ad39-42dd-ac65-2028e6cf791b button.colab-df-convert');\n",
              "        buttonEl.style.display =\n",
              "          google.colab.kernel.accessAllowed ? 'block' : 'none';\n",
              "\n",
              "        async function convertToInteractive(key) {\n",
              "          const element = document.querySelector('#df-58960a67-ad39-42dd-ac65-2028e6cf791b');\n",
              "          const dataTable =\n",
              "            await google.colab.kernel.invokeFunction('convertToInteractive',\n",
              "                                                     [key], {});\n",
              "          if (!dataTable) return;\n",
              "\n",
              "          const docLinkHtml = 'Like what you see? Visit the ' +\n",
              "            '<a target=\"_blank\" href=https://colab.research.google.com/notebooks/data_table.ipynb>data table notebook</a>'\n",
              "            + ' to learn more about interactive tables.';\n",
              "          element.innerHTML = '';\n",
              "          dataTable['output_type'] = 'display_data';\n",
              "          await google.colab.output.renderOutput(dataTable, element);\n",
              "          const docLink = document.createElement('div');\n",
              "          docLink.innerHTML = docLinkHtml;\n",
              "          element.appendChild(docLink);\n",
              "        }\n",
              "      </script>\n",
              "    </div>\n",
              "  </div>\n",
              "  "
            ]
          },
          "metadata": {},
          "execution_count": 83
        }
      ]
    },
    {
      "cell_type": "markdown",
      "metadata": {
        "id": "HOYd0HrmIKMj"
      },
      "source": [
        "**Decleration**"
      ]
    },
    {
      "cell_type": "code",
      "metadata": {
        "id": "1RiXbTriE7n9"
      },
      "source": [
        "from sklearn.model_selection import train_test_split\n",
        "from sklearn.pipeline import Pipeline\n",
        "from sklearn.feature_extraction.text import TfidfTransformer\n",
        "from sklearn.feature_extraction.text import CountVectorizer\n",
        "from sklearn.metrics import accuracy_score\n",
        "from sklearn.metrics import classification_report\n",
        "\n",
        "from sklearn.naive_bayes import MultinomialNB\n",
        "from sklearn.linear_model import SGDClassifier\n",
        "from sklearn.svm import SVC\n",
        "from sklearn.svm import LinearSVC\n",
        "from sklearn.multiclass import OneVsRestClassifier\n",
        "from sklearn.multiclass import OneVsOneClassifier;\n",
        "from sklearn.linear_model import LogisticRegression\n",
        "TEST_SIZE=0.30\n",
        "from sklearn.model_selection import StratifiedKFold\n",
        "N_FOLD = 10"
      ],
      "execution_count": 84,
      "outputs": []
    },
    {
      "cell_type": "markdown",
      "metadata": {
        "id": "pHbQnxZKcWTw"
      },
      "source": [
        "***K Fold Coarse Model***"
      ]
    },
    {
      "cell_type": "code",
      "metadata": {
        "id": "JgFSXbc3VVkF"
      },
      "source": [
        "def kFoldCoarseModel(algorithm):\n",
        "  from sklearn.metrics import confusion_matrix\n",
        "  import random \n",
        "\n",
        "  X = df.Questions\n",
        "  y = df.CoarseType\n",
        "\n",
        "  # Splitting test set\n",
        "  X_train, X_test, y_train, y_test = train_test_split(X, y, test_size=0.20) \n",
        "\n",
        "  metrics = []\n",
        "  skf= StratifiedKFold(n_splits=N_FOLD, shuffle=True, random_state=1)\n",
        "  X=np.array(X_train)\n",
        "  y=np.array(y_train)\n",
        "\n",
        " # Defining Model\n",
        "  if(algorithm=='nb'):\n",
        "    model = Pipeline([('vect', CountVectorizer()),\n",
        "              ('tfidf', TfidfTransformer()),\n",
        "              ('clf', MultinomialNB()),\n",
        "              ]) \n",
        "  elif(algorithm==\"svm\"):\n",
        "    model = Pipeline([('vect', CountVectorizer()),\n",
        "                ('tfidf', TfidfTransformer()),\n",
        "                ('clf', OneVsRestClassifier(SVC(C=1, kernel='sigmoid'))),    #Non linear svm\n",
        "              ])\n",
        "    \n",
        "    #gaussian\n",
        "    #sigmoid\n",
        "  #model defination finished\n",
        "  \n",
        "\n",
        "  # K fold cross validation\n",
        "  for train_index, validation_index in skf.split(X, y):\n",
        "      print(\"TRAIN:\", train_index, \"VALIDATION:\", validation_index)\n",
        "      X_train, X_validation = X[train_index], X[validation_index]\n",
        "      y_train, y_validation = y[train_index], y[validation_index]\n",
        "  #   # train the model\n",
        "      model.fit(X_train,y_train)\n",
        "  #   # validate the model \n",
        "      y_pred_class_for_validation = model.predict(X_validation)\n",
        "      metrics.append(accuracy_score(y_validation, y_pred_class_for_validation))\n",
        "      # print(classification_report(y_test, y_pred_class,target_names=coarse_type))\n",
        "      \n",
        "\n",
        "  \n",
        "\n",
        "\n",
        "  metrics = np.array(metrics)\n",
        "  print('Validation Accuracy for each Iteration',metrics)\n",
        "  print('Mean accuracy for validation set: ', np.mean(metrics, axis=0))\n",
        "  print('Std for accuracy: ', np.std(metrics, axis=0))\n",
        "  print('---------------------------------------------------------------------------------')\n",
        "\n",
        "  y_pred = model.predict(X_test)\n",
        "\n",
        "  test_accuracy = accuracy_score(y_pred, y_test)\n",
        "  print('Test Accuracy : %s' % test_accuracy)\n",
        "  print(classification_report(y_test, y_pred,target_names=coarse_type))\n",
        "\n",
        "  cf_matrix = confusion_matrix(y_test, y_pred, labels=coarse_type)\n",
        "  # print(cf_matrix)\n",
        "\n",
        "  import seaborn as sns\n",
        "  plt.figure(figsize=(8,7))\n",
        "  actual_data= ['temporal' 'location' 'numerical' 'person' 'organization' 'explanation' 'miscellaneous']\n",
        "  predicted_data= ['temporal' 'location' 'numerical' 'person' 'organization' 'explanation' 'miscellaneous']\n",
        "  cm = confusion_matrix(actual_data, predicted_data)\n",
        "  ax = sns.heatmap(cf_matrix, annot=True, cmap='Blues', fmt='g')\n",
        "  ax.set_title('Confusion Matrix')\n",
        "  ax.set_xlabel('Predicted Intent')\n",
        "  ax.set_ylabel('Actual Intent')\n",
        "  ax.xaxis.set_ticklabels(['TEM','LOC','NUM','PER','ORG','EXP','MISC'])\n",
        "  ax.yaxis.set_ticklabels(['TEM','LOC','NUM','PER','ORG','EXP','MISC'])\n",
        "  plt.show()\n",
        "  \n",
        "  return model\n"
      ],
      "execution_count": 85,
      "outputs": []
    },
    {
      "cell_type": "code",
      "metadata": {
        "colab": {
          "base_uri": "https://localhost:8080/",
          "height": 1000
        },
        "id": "9c3KD3B9Y35s",
        "outputId": "dabe3513-eee7-402d-b4c3-55f5278eb015"
      },
      "source": [
        "k_fold_nb_model= kFoldCoarseModel('nb')"
      ],
      "execution_count": 73,
      "outputs": [
        {
          "output_type": "stream",
          "name": "stdout",
          "text": [
            "TRAIN: [   0    1    2    3 ... 3606 3607 3609 3612] VALIDATION: [   6    7   35   36 ... 3602 3608 3610 3611]\n",
            "TRAIN: [   0    1    2    3 ... 3609 3610 3611 3612] VALIDATION: [  13   15   23   28 ... 3587 3588 3591 3604]\n",
            "TRAIN: [   0    1    2    3 ... 3609 3610 3611 3612] VALIDATION: [   9   33   43   71 ... 3564 3567 3580 3605]\n",
            "TRAIN: [   0    1    2    3 ... 3609 3610 3611 3612] VALIDATION: [   4   24   34   39 ... 3555 3557 3568 3581]\n",
            "TRAIN: [   1    2    3    4 ... 3609 3610 3611 3612] VALIDATION: [   0    5   10   20 ... 3573 3586 3592 3594]\n",
            "TRAIN: [   0    1    2    3 ... 3609 3610 3611 3612] VALIDATION: [  21   53   59   68 ... 3544 3574 3579 3585]\n",
            "TRAIN: [   0    1    3    4 ... 3608 3610 3611 3612] VALIDATION: [   2    8   17   19 ... 3582 3597 3598 3609]\n",
            "TRAIN: [   0    1    2    3 ... 3609 3610 3611 3612] VALIDATION: [  12   22   30   58 ... 3572 3583 3584 3590]\n",
            "TRAIN: [   0    2    3    4 ... 3608 3609 3610 3611] VALIDATION: [   1   16   18   25 ... 3600 3603 3607 3612]\n",
            "TRAIN: [   0    1    2    4 ... 3609 3610 3611 3612] VALIDATION: [   3   11   14   26 ... 3577 3589 3601 3606]\n",
            "Validation Accuracy for each Iteration [0.621547 0.690608 0.640884 0.67313  0.639889 0.648199 0.645429 0.648199 0.639889 0.66482 ]\n",
            "Mean accuracy for validation set:  0.6512595460736751\n",
            "Std for accuracy:  0.018741048158136805\n",
            "---------------------------------------------------------------------------------\n",
            "Test Accuracy : 0.6548672566371682\n",
            "               precision    recall  f1-score   support\n",
            "\n",
            "     temporal       1.00      0.19      0.32        31\n",
            "     location       0.61      0.29      0.40       139\n",
            "    numerical       0.67      0.42      0.52       121\n",
            "       person       0.86      0.78      0.82       136\n",
            " organization       0.00      0.00      0.00        23\n",
            "  explanation       0.57      0.81      0.67       235\n",
            "miscellaneous       0.67      0.90      0.77       219\n",
            "\n",
            "     accuracy                           0.65       904\n",
            "    macro avg       0.63      0.49      0.50       904\n",
            " weighted avg       0.66      0.65      0.62       904\n",
            "\n"
          ]
        },
        {
          "output_type": "stream",
          "name": "stderr",
          "text": [
            "/usr/local/lib/python3.7/dist-packages/sklearn/metrics/_classification.py:1318: UndefinedMetricWarning: Precision and F-score are ill-defined and being set to 0.0 in labels with no predicted samples. Use `zero_division` parameter to control this behavior.\n",
            "  _warn_prf(average, modifier, msg_start, len(result))\n",
            "/usr/local/lib/python3.7/dist-packages/sklearn/metrics/_classification.py:1318: UndefinedMetricWarning: Precision and F-score are ill-defined and being set to 0.0 in labels with no predicted samples. Use `zero_division` parameter to control this behavior.\n",
            "  _warn_prf(average, modifier, msg_start, len(result))\n",
            "/usr/local/lib/python3.7/dist-packages/sklearn/metrics/_classification.py:1318: UndefinedMetricWarning: Precision and F-score are ill-defined and being set to 0.0 in labels with no predicted samples. Use `zero_division` parameter to control this behavior.\n",
            "  _warn_prf(average, modifier, msg_start, len(result))\n"
          ]
        },
        {
          "output_type": "display_data",
          "data": {
            "text/plain": [
              "<Figure size 576x504 with 2 Axes>"
            ],
            "image/png": "[encoded data removed]"
          },
          "metadata": {
            "needs_background": "light"
          }
        }
      ]
    },
    {
      "cell_type": "code",
      "metadata": {
        "id": "8o1ADnIJZCFa"
      },
      "source": [
        "k_fold_svm_model= kFoldCoarseModel('svm')"
      ],
      "execution_count": null,
      "outputs": []
    },
    {
      "cell_type": "markdown",
      "metadata": {
        "id": "ZN8dtDWZd5mv"
      },
      "source": [
        "***Train Test split coarse model***"
      ]
    },
    {
      "cell_type": "code",
      "metadata": {
        "id": "3gcOo_6yOqJQ"
      },
      "source": [
        "def coarseModel(algorithm):\n",
        "  X = df.Questions\n",
        "  y = df.CoarseType\n",
        "\n",
        "  X_train, X_test, y_train, y_test = train_test_split(X, y, test_size=TEST_SIZE, random_state = 42) \n",
        "\n",
        "  if(algorithm=='nb'):\n",
        "    model = Pipeline([('vect', CountVectorizer()),\n",
        "               ('tfidf', TfidfTransformer()),\n",
        "               ('clf', MultinomialNB()),\n",
        "              ]) \n",
        "  elif(algorithm=='sgd'):\n",
        "    model = Pipeline([('vect', CountVectorizer()),\n",
        "                ('tfidf', TfidfTransformer()),\n",
        "                ('clf', SGDClassifier(loss='hinge', penalty='l2',alpha=1e-3, random_state=42, max_iter=5, tol=None, shuffle=True)), #Equivalent to linear svm\n",
        "               ])\n",
        "  elif(algorithm==\"svm\"):\n",
        "    model = Pipeline([('vect', CountVectorizer()),\n",
        "                ('tfidf', TfidfTransformer()),\n",
        "                ('clf', OneVsRestClassifier(SVC(C=1, kernel='sigmoid'))),    #Non linear svm\n",
        "               ])\n",
        "    # model = Pipeline([('vect', CountVectorizer()),\n",
        "    #           ('tfidf', TfidfTransformer()),\n",
        "    #           ('clf', LinearSVC(loss='hinge', penalty='l2', random_state=None, max_iter=5,tol=0.0001)), #Linear  svm\n",
        "    #           ])\n",
        "  else:\n",
        "    model = Pipeline([('vect', CountVectorizer()),\n",
        "                ('tfidf', TfidfTransformer()),\n",
        "                ('clf', LogisticRegression(n_jobs=1, C=1e5)),\n",
        "               ])\n",
        "  \n",
        "\n",
        "  model.fit(X_train, y_train)\n",
        "  # %time\n",
        "\n",
        "  y_pred = model.predict(X_test)\n",
        "\n",
        "  model_accuracy = accuracy_score(y_pred, y_test)\n",
        "  print('Accuracy : %s' % model_accuracy)\n",
        "  print(classification_report(y_test, y_pred,target_names=coarse_type))\n",
        "  return model\n",
        "\n",
        "\n"
      ],
      "execution_count": 38,
      "outputs": []
    },
    {
      "cell_type": "code",
      "metadata": {
        "id": "pewfpQ2OW69J"
      },
      "source": [
        "nb_model=coarseModel('nb');"
      ],
      "execution_count": null,
      "outputs": []
    },
    {
      "cell_type": "code",
      "metadata": {
        "id": "Cdj3SjWwXunD"
      },
      "source": [
        "sgd_model=coarseModel('sgd')"
      ],
      "execution_count": null,
      "outputs": []
    },
    {
      "cell_type": "code",
      "metadata": {
        "id": "9GaKt9QwYLZt"
      },
      "source": [
        "svm_model=coarseModel('svm')"
      ],
      "execution_count": null,
      "outputs": []
    },
    {
      "cell_type": "code",
      "metadata": {
        "id": "sdc1YjJLYfe4"
      },
      "source": [
        "# logreg_model=coarseModel('logreg')"
      ],
      "execution_count": null,
      "outputs": []
    },
    {
      "cell_type": "markdown",
      "metadata": {
        "id": "K1BTN6n1_i5p"
      },
      "source": [
        "**Predictions**"
      ]
    },
    {
      "cell_type": "code",
      "metadata": {
        "colab": {
          "base_uri": "https://localhost:8080/"
        },
        "id": "yqPL6xSA_mfb",
        "outputId": "7be569de-e5e6-4acd-f889-886d06a93e84"
      },
      "source": [
        "unseen_questions=[[\"सन् २०२० मार्चमा प्रदान गरिएको इन्टरनेसनल कम्युनिकेसन अवार्ड बाट सम्मानित व्यत्तित्व को हनुहुन्छ ? \"],[\"नेपाल न्यून आय भएका मुलुकबाट न्यून मध्यम आय भएका मुलुकको सूचीमा कहिले स्तरोन्नति भएको हो ? \"],\n",
        "                      [\"वि.सं. २०७७ असार २३ सरकारले नेपाल प्रहरी महानिरीक्षक (आईजीपी) मा कसलाई नियुक्त गर्यो ?\"],[\"हाल रेडियो नेपालबाट कति भाषामा समाचार प्रसारण हुने गर्छ ?\"],\n",
        "                      [\"समाजसेवी तथा शिक्षाविद् अङ्गुरबाबा जोशीको निधन कहिले भएको हो ?\"],[\"सन् २०२० जुनमा सुरक्षा परिषदको अस्थायी सदस्यमा निर्वाचित हुन सफल राष्ट्र कुन कुन हुन ?\"],\n",
        "                      [\"'एक वडा एक व्यायामशाला' निमाणको योजना अघि बढाउने स्थानीय तह कुन हो ?\"],[\"बालबालिकाको क्षेत्रमा काम गर्ने अन्तर्राष्ट्रिय संस्था किवानिज इन्टरनेसनलको एसिया प्यासिफिक सम्मेलन हालै कहाँ सम्पन्न भयो ?\"],\n",
        "                      [\"लोकसेवा आयोग विधेयक प्रतिनिधिसभाबाट कहिले पारित भएको हो ?\"],[\"नेपालमा कृषक परिचयपत्र वितरण गर्ने कार्य कुन जिल्लाबाट सुरु गरिएको हो ?\"],\n",
        "                      [\"विश्व बैंकद्वारा विसं २०७६ कात्तिक ७ मा सार्वजनिक डुइङ बिजनेस प्रतिवेदन २०२० अनुसार नेपाल कतिऔं स्थानमा रहेको छ ?\"],['नेपाली पोर्टको शुभारम्भ कहिले भएको हो ?'],\n",
        "                      [\"सन्  २०१९/२० को विस्डन क्रिकेटर अफ द इयरको उपाधि जित्ने क्रिकेटर को हुन ?\"],['सबै जिल्लामा स्वास्थ्य विमा सेवा लागु गर्ने पहिलो प्रदेश कुन हो ?']]\n",
        "dfq=pd.DataFrame(unseen_questions,columns=['questions'])\n",
        "\n",
        "dfq['questions']= preprocessing(dfq['questions'])\n",
        "validation_questions=dfq['questions'].to_numpy()\n",
        "\n",
        "\n",
        "# print(\"Naive Bayes Classifier \\n\")\n",
        "# for question in validation_questions:\n",
        "#   question=[question]\n",
        "#   test_pred= nb_model.predict(question)\n",
        "#   print(question[0] +' : ' + test_pred[0])\n",
        "# print('\\n')\n",
        "\n",
        "\n",
        "# print(\"SGDC Classifier \\n\")\n",
        "# for question in validation_questions:\n",
        "#   test_pred= sgd_model.predict(question)\n",
        "#   print(question[0] +' : ' + test_pred[0])\n",
        "# print('\\n')\n",
        "\n",
        "print(\"Support Vector Machine(Train/Test split) \\n\")\n",
        "for question in validation_questions:\n",
        "  question=[question]\n",
        "  test_pred= svm_model.predict(question)\n",
        "  print(question[0] +' : ' + test_pred[0])\n",
        "print('\\n')\n",
        "\n",
        "\n",
        "print(\"Support Vector Machine(K fold cross validation) \\n\")\n",
        "for question in validation_questions:\n",
        "  question=[question]\n",
        "  test_pred= k_fold_svm_model.predict(question)\n",
        "  print(question[0] +' : ' + test_pred[0])\n",
        "print('\\n')\n",
        "\n",
        "# print(\"Logistic Regression \\n\")\n",
        "# for question in validation_questions:\n",
        "#   test_pred= logreg_model.predict(question)\n",
        "#   print(question[0] +' : ' + test_pred[0])\n"
      ],
      "execution_count": 86,
      "outputs": [
        {
          "output_type": "stream",
          "name": "stdout",
          "text": [
            "Support Vector Machine(Train/Test split) \n",
            "\n",
            "सन् २०२० मार्च प्रदान गरिएको इन्टरनेसनल कम्युन िक ेसन अवार्ड बाट सम्मानित व्य त्ति त्व को हन ुहुन्छ : miscellaneous\n",
            "नेपाल न्यून आय भएका मुलुक बाट मध्यम मुलुकको सूची कहिले स्तर ो न्न ति : temporal\n",
            "वि सं २०७७ असार २३ सरकार नेपाल प्रहरी महानिरीक्षक कस नियुक्त गर्यो : person\n",
            "हाल रेडियो नेपाल बाट कति भाषामा समाचार प्रसारण : numerical\n",
            "समाजसेवी शिक्षा विद् अङ्ग ुर बाबा जोशी को निधन कहिले : temporal\n",
            "सन् २०२० सुरक्षा परिषद को अस्थायी सदस्य निर्वाचित सफल राष्ट्र कुन : person\n",
            "ण को योजना अघि बढाउने स्थानीय तह कुन : location\n",
            "बालबालिका को क्षेत्रमा काम अन्तर्राष्ट्रिय संस्था वा निज इन्टरनेसनल एसिया प्यास िफ िक सम्मेलन हालै कहाँ सम्पन्न भयो : temporal\n",
            "लोक सेवा आयोग विधेयक प्रतिनिधिसभा बाट कहिले पारित : temporal\n",
            "नेपालमा कृषक परिचय पत्र वितरण कार्य कुन जिल्लाबाट सुरु गरिएको : temporal\n",
            "विश्व बैंक द्वारा विसं २०७६ कात्तिक ७ सार्वजनिक डु इ ङ बिज नेस प्रतिवेदन २०२० नेपाल कति स्थानमा : numerical\n",
            "नेपाली पोर्ट को शुभ ारम्भ कहिले : temporal\n",
            "सन् २०१९ २० को वि स् डन क्रिकेट अफ द इ यर को उपाधि जित्ने : person\n",
            "जिल्लामा स्वास्थ्य वि सेवा लागु प्रदेश कुन : person\n",
            "\n",
            "\n",
            "Support Vector Machine(K fold cross validation) \n",
            "\n",
            "सन् २०२० मार्च प्रदान गरिएको इन्टरनेसनल कम्युन िक ेसन अवार्ड बाट सम्मानित व्य त्ति त्व को हन ुहुन्छ : person\n",
            "नेपाल न्यून आय भएका मुलुक बाट मध्यम मुलुकको सूची कहिले स्तर ो न्न ति : temporal\n",
            "वि सं २०७७ असार २३ सरकार नेपाल प्रहरी महानिरीक्षक कस नियुक्त गर्यो : person\n",
            "हाल रेडियो नेपाल बाट कति भाषामा समाचार प्रसारण : numerical\n",
            "समाजसेवी शिक्षा विद् अङ्ग ुर बाबा जोशी को निधन कहिले : temporal\n",
            "सन् २०२० सुरक्षा परिषद को अस्थायी सदस्य निर्वाचित सफल राष्ट्र कुन : person\n",
            "ण को योजना अघि बढाउने स्थानीय तह कुन : location\n",
            "बालबालिका को क्षेत्रमा काम अन्तर्राष्ट्रिय संस्था वा निज इन्टरनेसनल एसिया प्यास िफ िक सम्मेलन हालै कहाँ सम्पन्न भयो : temporal\n",
            "लोक सेवा आयोग विधेयक प्रतिनिधिसभा बाट कहिले पारित : temporal\n",
            "नेपालमा कृषक परिचय पत्र वितरण कार्य कुन जिल्लाबाट सुरु गरिएको : temporal\n",
            "विश्व बैंक द्वारा विसं २०७६ कात्तिक ७ सार्वजनिक डु इ ङ बिज नेस प्रतिवेदन २०२० नेपाल कति स्थानमा : numerical\n",
            "नेपाली पोर्ट को शुभ ारम्भ कहिले : temporal\n",
            "सन् २०१९ २० को वि स् डन क्रिकेट अफ द इ यर को उपाधि जित्ने : person\n",
            "जिल्लामा स्वास्थ्य वि सेवा लागु प्रदेश कुन : person\n",
            "\n",
            "\n"
          ]
        }
      ]
    },
    {
      "cell_type": "markdown",
      "metadata": {
        "id": "5NsPY-JzLsjQ"
      },
      "source": [
        "**Fine Type Classification**"
      ]
    },
    {
      "cell_type": "code",
      "metadata": {
        "id": "Ji9gJyfO0d87"
      },
      "source": [
        "def kFoldFineModel(questions_under_coarse_type,coarse_type,algorithm):\n",
        "  from sklearn.metrics import confusion_matrix\n",
        "\n",
        "  f_type=questions_under_coarse_type['FineType'].unique()\n",
        "  print(f_type)\n",
        "  X_fine = questions_under_coarse_type.Questions\n",
        "  Y_fine = questions_under_coarse_type.FineType\n",
        "  Xf_train, Xf_test, yf_train, yf_test = train_test_split(X_fine, Y_fine, test_size=TEST_SIZE, random_state = 42) \n",
        "  \n",
        "  metrics = []\n",
        "  skf= StratifiedKFold(n_splits=N_FOLD, shuffle=True)\n",
        "  X=np.array(Xf_train)\n",
        "  y=np.array(yf_train)\n",
        "\n",
        "  # Defining Model\n",
        "  if(algorithm=='nb'):\n",
        "    model = Pipeline([('vect', CountVectorizer()),\n",
        "              ('tfidf', TfidfTransformer()),\n",
        "              ('clf', MultinomialNB()),\n",
        "              ]) \n",
        "  elif(algorithm==\"svm\"):\n",
        "    model = Pipeline([('vect', CountVectorizer()),\n",
        "                ('tfidf', TfidfTransformer()),\n",
        "                ('clf', OneVsRestClassifier(SVC(C=1, kernel='sigmoid'))),    #Non linear svm\n",
        "              ])\n",
        "  #model defination finished\n",
        "\n",
        "  # K fold cross validation\n",
        "  for train_index, validation_index in skf.split(X, y):\n",
        "      print(\"TRAIN:\", train_index, \"VALIDATION:\", validation_index)\n",
        "      X_train, X_validation = X[train_index], X[validation_index]\n",
        "      y_train, y_validation = y[train_index], y[validation_index]\n",
        "  #   # train the model\n",
        "      model.fit(X_train,y_train)\n",
        "  #   # validate the model \n",
        "      y_pred_class_for_validation = model.predict(X_validation)\n",
        "      metrics.append(accuracy_score(y_validation, y_pred_class_for_validation))\n",
        "      # print(classification_report(y_test, y_pred_class,target_names=coarse_type))\n",
        "\n",
        "\n",
        "  metrics = np.array(metrics)\n",
        "  print('Validation Accuracy for each Iteration',metrics)\n",
        "  print('Mean accuracy for validation set: ', np.mean(metrics, axis=0))\n",
        "  print('Std for accuracy: ', np.std(metrics, axis=0))\n",
        "  print('---------------------------------------------------------------------------------')\n",
        "\n",
        "  yf_pred = model.predict(Xf_test)\n",
        "\n",
        "  test_accuracy = accuracy_score(yf_pred, yf_test)\n",
        "  print('Test Accuracy : %s' % test_accuracy)\n",
        "  print(classification_report(yf_test, yf_pred,target_names=f_type))\n",
        "\n",
        "# # for confusion matrix can be commented later\n",
        "  cf_matrix = confusion_matrix(yf_test, yf_pred, labels=f_type)\n",
        "  import seaborn as sns\n",
        "  plt.figure(figsize=(8,7))\n",
        "  \n",
        "  ax = sns.heatmap(cf_matrix, annot=True, cmap='Blues', fmt='g')\n",
        "  ax.set_title('Confusion Matrix')\n",
        "  ax.set_xlabel('Predicted Intent')\n",
        "  ax.set_ylabel('Actual Intent')\n",
        "\n",
        "  if(coarse_type=='person'):\n",
        "    ax.xaxis.set_ticklabels(['individual','inventor','appellation','discoverer'])\n",
        "    ax.yaxis.set_ticklabels(['individual','inventor','appellation','discoverer'])\n",
        "  elif(coarse_type=='temporal'):\n",
        "    ax.xaxis.set_ticklabels(['date','duration','day','year','range'])\n",
        "    ax.yaxis.set_ticklabels(['date','duration','day','year','range'])\n",
        "  elif(coarse_type=='location'):\n",
        "    ax.xaxis.set_ticklabels(['country','city','district','river','region','state','address'])\n",
        "    ax.yaxis.set_ticklabels(['country','city','district','river','region','state','address'])\n",
        "  elif(coarse_type=='numerical'):\n",
        "    ax.xaxis.set_ticklabels(['count','percentage','rank','length','money','temperture'])\n",
        "    ax.yaxis.set_ticklabels(['count','percentage','rank','length','money','temperture'])\n",
        "  elif(coarse_type=='organization'):\n",
        "    ax.xaxis.set_ticklabels(['sport-team','bank','company'])\n",
        "    ax.yaxis.set_ticklabels(['sport-team','bank','company'])\n",
        "  elif(coarse_type=='explanation'):\n",
        "    ax.xaxis.set_ticklabels(['description','method','reason'])\n",
        "    ax.yaxis.set_ticklabels(['description','method','reason'])\n",
        "  elif(coarse_type=='explanation'):\n",
        "    ax.xaxis.set_ticklabels(['material','animal','device','sport','book','planet','color','religion','disease','language'])\n",
        "    ax.yaxis.set_ticklabels(['material','animal','device','sport','book','planet','color','religion','disease','language'])\n",
        "  \n",
        "  plt.show()\n",
        "\n",
        "  return model"
      ],
      "execution_count": 101,
      "outputs": []
    },
    {
      "cell_type": "code",
      "metadata": {
        "id": "ppLemVpMLzIg"
      },
      "source": [
        "#Model Function\n",
        "def fineModel(type,algorithm):\n",
        "  c_type=type\n",
        "  f_type=c_type['FineType'].unique()\n",
        "  # f_type=['individual','inventor','discoverer','appellation','group','position','other']\n",
        "  print(f_type)\n",
        "  #splittig\n",
        "  X_fine = c_type.Questions\n",
        "  Y_fine = c_type.FineType\n",
        "  Xf_train, Xf_test, yf_train, yf_test = train_test_split(X_fine, Y_fine, test_size=TEST_SIZE, random_state = 42) \n",
        "\n",
        "  #Fine type model\n",
        "\n",
        "  # model = Pipeline([('vect', CountVectorizer()),\n",
        "  #                 ('tfidf', TfidfTransformer()),\n",
        "  #                 ('clf', SGDClassifier(loss='hinge', penalty='l2',alpha=1e-3, random_state=42, max_iter=5, tol=None)),\n",
        "  #               ])\n",
        "  model = Pipeline([('vect', CountVectorizer()),\n",
        "              ('tfidf', TfidfTransformer()),\n",
        "              ('clf', OneVsRestClassifier(SVC(C=1, kernel='sigmoid'))),    #Non linear svm\n",
        "              ])\n",
        "  model.fit(Xf_train,yf_train )\n",
        "\n",
        "  # %time\n",
        "\n",
        "  yf_pred = model.predict(Xf_test)\n",
        "  print(np.unique(yf_pred))\n",
        "\n",
        "  fine_accuracy = accuracy_score(yf_pred, yf_test)\n",
        "  print('Accuracy : %s' % fine_accuracy)\n",
        "  # print(classification_report(yf_test, yf_pred,target_names=f_type))\n",
        "  return model\n",
        "\n"
      ],
      "execution_count": 88,
      "outputs": []
    },
    {
      "cell_type": "code",
      "metadata": {
        "colab": {
          "base_uri": "https://localhost:8080/",
          "height": 1000
        },
        "id": "7jAIXYq8p6vY",
        "outputId": "d3a7b87f-14bc-43f9-aeac-50771466fcb0"
      },
      "source": [
        "#person/Svm\n",
        "c_type=df[df['CoarseType']=='person']\n",
        "c_type= c_type[c_type['FineType'].isin(['individual','inventor','appellation','discoverer'])]\n",
        "# person_model=fineModel(c_type,'svm')\n",
        "person_model=kFoldFineModel(c_type,'person','svm')"
      ],
      "execution_count": 102,
      "outputs": [
        {
          "output_type": "stream",
          "name": "stdout",
          "text": [
            "['individual' 'inventor' 'discoverer' 'appellation']\n",
            "TRAIN: [  0   2   3   4 ... 830 831 833 834] VALIDATION: [  1  16  35  41 ... 794 797 814 832]\n",
            "TRAIN: [  1   3   4   5 ... 831 832 833 834] VALIDATION: [  0   2   8  21 ... 812 817 824 825]\n",
            "TRAIN: [  0   1   2   3 ... 830 831 832 834] VALIDATION: [ 32  38  54  61 ... 802 811 818 833]\n",
            "TRAIN: [  0   1   2   3 ... 830 832 833 834] VALIDATION: [ 17  23  28  36 ... 810 821 822 831]\n"
          ]
        },
        {
          "output_type": "stream",
          "name": "stderr",
          "text": [
            "/usr/local/lib/python3.7/dist-packages/sklearn/model_selection/_split.py:680: UserWarning: The least populated class in y has only 9 members, which is less than n_splits=10.\n",
            "  UserWarning,\n"
          ]
        },
        {
          "output_type": "stream",
          "name": "stdout",
          "text": [
            "TRAIN: [  0   1   2   3 ... 831 832 833 834] VALIDATION: [ 10  12  19  34 ... 767 774 780 788]\n",
            "TRAIN: [  0   1   2   5 ... 831 832 833 834] VALIDATION: [  3   4  18  20 ... 768 771 772 816]\n",
            "TRAIN: [  0   1   2   3 ... 831 832 833 834] VALIDATION: [  6  13  14  24 ... 787 790 803 808]\n",
            "TRAIN: [  0   1   2   3 ... 831 832 833 834] VALIDATION: [  5  11  50  52 ... 820 823 829 830]\n",
            "TRAIN: [  0   1   2   3 ... 830 831 832 833] VALIDATION: [ 15  30  58  72 ... 805 815 827 834]\n",
            "TRAIN: [  0   1   2   3 ... 831 832 833 834] VALIDATION: [  7   9  22  43 ... 801 807 826 828]\n",
            "Validation Accuracy for each Iteration [0.940476 0.952381 0.940476 0.952381 0.952381 0.963855 0.951807 0.951807 0.927711 0.939759]\n",
            "Mean accuracy for validation set:  0.947303499713138\n",
            "Std for accuracy:  0.009622319195890386\n",
            "---------------------------------------------------------------------------------\n",
            "Test Accuracy : 0.946927374301676\n",
            "              precision    recall  f1-score   support\n",
            "\n",
            "  individual       0.00      0.00      0.00         3\n",
            "    inventor       0.00      0.00      0.00         3\n",
            "  discoverer       0.95      1.00      0.97       331\n",
            " appellation       1.00      0.38      0.55        21\n",
            "\n",
            "    accuracy                           0.95       358\n",
            "   macro avg       0.49      0.35      0.38       358\n",
            "weighted avg       0.93      0.95      0.93       358\n",
            "\n"
          ]
        },
        {
          "output_type": "stream",
          "name": "stderr",
          "text": [
            "/usr/local/lib/python3.7/dist-packages/sklearn/metrics/_classification.py:1318: UndefinedMetricWarning: Precision and F-score are ill-defined and being set to 0.0 in labels with no predicted samples. Use `zero_division` parameter to control this behavior.\n",
            "  _warn_prf(average, modifier, msg_start, len(result))\n",
            "/usr/local/lib/python3.7/dist-packages/sklearn/metrics/_classification.py:1318: UndefinedMetricWarning: Precision and F-score are ill-defined and being set to 0.0 in labels with no predicted samples. Use `zero_division` parameter to control this behavior.\n",
            "  _warn_prf(average, modifier, msg_start, len(result))\n",
            "/usr/local/lib/python3.7/dist-packages/sklearn/metrics/_classification.py:1318: UndefinedMetricWarning: Precision and F-score are ill-defined and being set to 0.0 in labels with no predicted samples. Use `zero_division` parameter to control this behavior.\n",
            "  _warn_prf(average, modifier, msg_start, len(result))\n"
          ]
        },
        {
          "output_type": "display_data",
          "data": {
            "text/plain": [
              "<Figure size 576x504 with 2 Axes>"
            ],
            "image/png": "[encoded data removed]"
          },
          "metadata": {
            "needs_background": "light"
          }
        }
      ]
    },
    {
      "cell_type": "code",
      "metadata": {
        "id": "vTYmRihsqlI1",
        "colab": {
          "base_uri": "https://localhost:8080/",
          "height": 964
        },
        "outputId": "6e2bb951-ec11-4e39-c8a0-96e523873b47"
      },
      "source": [
        "#organization/Svm\n",
        "c_type=df[df['CoarseType']=='organization']\n",
        "c_type= c_type[c_type['FineType'].isin(['sport-team','bank','company'])]\n",
        "# organization_model=fineModel('person','svm')\n",
        "organization_model=kFoldFineModel(c_type,'organization','svm')"
      ],
      "execution_count": 103,
      "outputs": [
        {
          "output_type": "stream",
          "name": "stdout",
          "text": [
            "['bank' 'sport-team' 'company']\n",
            "TRAIN: [ 0  1  2  3  5  6  7  8  9 10 12 13 14 15 16 17 18 19 21 22 23 24 25 26 27 28 30 31 32 33 34 36 37 38 39 40] VALIDATION: [ 4 11 20 29 35]\n",
            "TRAIN: [ 0  1  3  4  5  6  7  8  9 10 11 12 14 15 16 17 18 20 22 23 24 25 26 27 28 29 30 31 32 33 34 35 36 37 38 39 40] VALIDATION: [ 2 13 19 21]\n",
            "TRAIN: [ 0  1  2  3  4  5  6  8  9 10 11 12 13 14 15 16 18 19 20 21 22 23 24 25 26 27 28 29 30 31 33 34 35 37 38 39 40] VALIDATION: [ 7 17 32 36]\n",
            "TRAIN: [ 0  1  2  3  4  5  6  7  8  9 10 11 12 13 14 15 16 17 18 19 20 21 22 23 24 26 27 28 29 30 31 32 33 34 35 36 38] VALIDATION: [25 37 39 40]\n",
            "TRAIN: [ 1  2  3  4  5  6  7  9 10 11 12 13 15 16 17 18 19 20 21 22 24 25 26 27 28 29 30 31 32 33 34 35 36 37 38 39 40] VALIDATION: [ 0  8 14 23]\n",
            "TRAIN: [ 0  1  2  3  4  5  6  7  8 10 11 12 13 14 16 17 18 19 20 21 22 23 24 25 26 27 28 29 30 32 34 35 36 37 38 39 40] VALIDATION: [ 9 15 31 33]\n",
            "TRAIN: [ 0  1  2  3  4  5  7  8  9 10 11 12 13 14 15 17 19 20 21 22 23 24 25 26 27 28 29 31 32 33 34 35 36 37 38 39 40] VALIDATION: [ 6 16 18 30]\n",
            "TRAIN: [ 0  2  4  5  6  7  8  9 10 11 13 14 15 16 17 18 19 20 21 22 23 24 25 27 28 29 30 31 32 33 34 35 36 37 38 39 40] VALIDATION: [ 1  3 12 26]\n",
            "TRAIN: [ 0  1  2  3  4  5  6  7  8  9 11 12 13 14 15 16 17 18 19 20 21 22 23 24 25 26 28 29 30 31 32 33 35 36 37 39 40] VALIDATION: [10 27 34 38]\n",
            "TRAIN: [ 0  1  2  3  4  6  7  8  9 10 11 12 13 14 15 16 17 18 19 20 21 23 25 26 27 29 30 31 32 33 34 35 36 37 38 39 40] VALIDATION: [ 5 22 24 28]\n",
            "Validation Accuracy for each Iteration [0.8  0.5  0.75 0.5  0.75 0.5  0.5  0.75 0.75 0.5 ]\n",
            "Mean accuracy for validation set:  0.63\n",
            "Std for accuracy:  0.1307669683062202\n",
            "---------------------------------------------------------------------------------\n",
            "Test Accuracy : 0.6111111111111112\n"
          ]
        },
        {
          "output_type": "stream",
          "name": "stderr",
          "text": [
            "/usr/local/lib/python3.7/dist-packages/sklearn/model_selection/_split.py:680: UserWarning: The least populated class in y has only 8 members, which is less than n_splits=10.\n",
            "  UserWarning,\n"
          ]
        },
        {
          "output_type": "stream",
          "name": "stdout",
          "text": [
            "              precision    recall  f1-score   support\n",
            "\n",
            "        bank       0.50      0.57      0.53         7\n",
            "  sport-team       0.50      0.20      0.29         5\n",
            "     company       0.75      1.00      0.86         6\n",
            "\n",
            "    accuracy                           0.61        18\n",
            "   macro avg       0.58      0.59      0.56        18\n",
            "weighted avg       0.58      0.61      0.57        18\n",
            "\n"
          ]
        },
        {
          "output_type": "display_data",
          "data": {
            "text/plain": [
              "<Figure size 576x504 with 2 Axes>"
            ],
            "image/png": "[encoded data removed]"
          },
          "metadata": {
            "needs_background": "light"
          }
        }
      ]
    },
    {
      "cell_type": "code",
      "metadata": {
        "colab": {
          "base_uri": "https://localhost:8080/",
          "height": 1000
        },
        "id": "h9CnG7MWrIUN",
        "outputId": "d6bbd5a6-fb6c-48ee-df2d-89264167c55d"
      },
      "source": [
        "#location/Svm\n",
        "c_type=df[df['CoarseType']=='location']\n",
        "c_type= c_type[c_type['FineType'].isin(['country','city','district','river','region','state','address'])]\n",
        "# location_model=fineModel(c_type,'svm')\n",
        "location_model=kFoldFineModel(c_type,'location','svm')"
      ],
      "execution_count": 104,
      "outputs": [
        {
          "output_type": "stream",
          "name": "stdout",
          "text": [
            "['country' 'city' 'district' 'state' 'address' 'river' 'region']\n",
            "TRAIN: [  0   1   2   3 ... 437 438 439 440] VALIDATION: [ 13  18  24  37  41  56  63  83  96 102 104 111 115 119 121 123 128 130 142 145 154 160 161 163 164 165 174 206 215\n",
            " 228 232 234 277 332 363 365 369 374 379 383 384 387 392 406 421]\n",
            "TRAIN: [  0   1   2   3 ... 437 438 439 440] VALIDATION: [  9  14  17  27  28  38  57  61  72  89  90  93 101 116 131 152 176 177 178 187 194 210 216 218 227 248 253 255 263\n",
            " 271 275 278 302 306 307 309 316 326 330 335 337 348 359 431]\n",
            "TRAIN: [  0   1   2   3 ... 437 438 439 440] VALIDATION: [  7  35  49  55  58  74  75  81  84  91 109 120 134 137 151 157 166 168 172 183 184 199 202 233 237 266 286 310 311\n",
            " 312 320 325 336 343 351 358 372 380 388 396 408 411 425 432]\n",
            "TRAIN: [  1   2   3   4 ... 437 438 439 440] VALIDATION: [  0  10  11  20  36  48  54  65  70  85  86  88  95  98 100 105 107 126 136 156 170 200 205 212 222 223 242 246 261\n",
            " 273 289 298 300 314 323 346 347 357 395 397 403 415 420 424]\n",
            "TRAIN: [  0   1   3   4 ... 437 438 439 440] VALIDATION: [  2  12  21  34  39  40  45  67  73 112 118 138 155 186 195 203 209 220 224 236 243 256 262 268 270 272 279 287 293\n",
            " 321 327 340 361 368 376 386 389 400 409 412 418 422 423 428]\n",
            "TRAIN: [  0   1   2   4 ... 437 438 439 440] VALIDATION: [  3   8  30  32  43  53  59  69  77  78  82 106 132 149 153 158 169 182 189 190 193 196 240 250 251 260 274 280 284\n",
            " 285 296 297 322 331 352 382 385 394 399 413 414 416 435 436]\n",
            "TRAIN: [  0   2   3   6 ... 436 438 439 440] VALIDATION: [  1   4   5  19  23  25  44  51  52  64  87 103 108 125 139 140 162 167 173 185 192 197 213 225 229 238 244 245 252\n",
            " 269 276 299 304 344 345 367 373 375 377 390 404 407 429 437]\n",
            "TRAIN: [  0   1   2   3 ... 436 437 439 440] VALIDATION: [  6  15  16  29  31  60  66 110 113 117 127 135 146 147 179 188 198 201 214 226 230 239 247 249 257 265 267 281 283\n",
            " 301 305 317 328 329 353 354 355 362 402 405 410 426 427 438]\n",
            "TRAIN: [  0   1   2   3 ... 437 438 439 440] VALIDATION: [ 22  26  47  71  94  97  99 124 143 144 175 181 191 207 217 219 221 231 235 241 254 259 264 292 294 295 308 315 324\n",
            " 333 334 338 341 350 364 370 371 378 381 398 417 419 433 434]\n",
            "TRAIN: [  0   1   2   3 ... 435 436 437 438] VALIDATION: [ 33  42  46  50  62  68  76  79  80  92 114 122 129 133 141 148 150 159 171 180 204 208 211 258 282 288 290 291 303\n",
            " 313 318 319 339 342 349 356 360 366 391 393 401 430 439 440]\n",
            "Validation Accuracy for each Iteration [0.733333 0.772727 0.75     0.727273 0.75     0.840909 0.75     0.727273 0.704545 0.659091]\n",
            "Mean accuracy for validation set:  0.7415151515151515\n",
            "Std for accuracy:  0.04438747496630439\n",
            "---------------------------------------------------------------------------------\n",
            "Test Accuracy : 0.656084656084656\n",
            "              precision    recall  f1-score   support\n",
            "\n",
            "     country       0.50      0.17      0.25         6\n",
            "        city       0.64      0.49      0.55        47\n",
            "    district       0.68      0.85      0.76        75\n",
            "       state       0.48      0.39      0.43        31\n",
            "     address       0.62      0.50      0.56        10\n",
            "       river       1.00      1.00      1.00        15\n",
            "      region       0.44      0.80      0.57         5\n",
            "\n",
            "    accuracy                           0.66       189\n",
            "   macro avg       0.62      0.60      0.59       189\n",
            "weighted avg       0.65      0.66      0.64       189\n",
            "\n"
          ]
        },
        {
          "output_type": "display_data",
          "data": {
            "text/plain": [
              "<Figure size 576x504 with 2 Axes>"
            ],
            "image/png": "[encoded data removed]"
          },
          "metadata": {
            "needs_background": "light"
          }
        }
      ]
    },
    {
      "cell_type": "code",
      "metadata": {
        "colab": {
          "base_uri": "https://localhost:8080/",
          "height": 1000
        },
        "id": "dqBhTWhYrTr_",
        "outputId": "3f60ecbd-eaa4-4c4a-d19b-1b001d18d4b0"
      },
      "source": [
        "#temporal/Svm\n",
        "c_type=df[df['CoarseType']=='temporal']\n",
        "c_type= c_type[c_type['FineType'].isin(['date','duration','day','year','range'])]\n",
        "# temporal_model=fineModel(c_type,'svm')\n",
        "temporal_model=kFoldFineModel(c_type,'temporal','svm')"
      ],
      "execution_count": 105,
      "outputs": [
        {
          "output_type": "stream",
          "name": "stdout",
          "text": [
            "['date' 'day' 'range' 'year' 'duration']\n",
            "TRAIN: [  0   1   2   3 ... 696 697 700 702] VALIDATION: [ 21  26 117 119 ... 675 698 699 701]\n",
            "TRAIN: [  0   1   2   3 ... 699 700 701 702] VALIDATION: [  4   6  37  45 ... 685 686 690 697]\n"
          ]
        },
        {
          "output_type": "stream",
          "name": "stderr",
          "text": [
            "/usr/local/lib/python3.7/dist-packages/sklearn/model_selection/_split.py:680: UserWarning: The least populated class in y has only 9 members, which is less than n_splits=10.\n",
            "  UserWarning,\n"
          ]
        },
        {
          "output_type": "stream",
          "name": "stdout",
          "text": [
            "TRAIN: [  0   1   2   3 ... 699 700 701 702] VALIDATION: [ 12  25  49  56 ... 668 674 680 681]\n",
            "TRAIN: [  0   1   2   3 ... 699 700 701 702] VALIDATION: [ 17  32  33  36 ... 644 653 654 696]\n",
            "TRAIN: [  0   1   3   4 ... 699 700 701 702] VALIDATION: [  2  13  27  31 ... 645 647 664 682]\n",
            "TRAIN: [  1   2   4   5 ... 699 700 701 702] VALIDATION: [  0   3  10  16 ... 655 665 673 687]\n",
            "TRAIN: [  0   1   2   3 ... 698 699 700 701] VALIDATION: [  8  18  28  38 ... 662 670 688 702]\n",
            "TRAIN: [  0   2   3   4 ... 698 699 701 702] VALIDATION: [  1  19  41  46 ... 663 677 693 700]\n",
            "TRAIN: [  0   1   2   3 ... 699 700 701 702] VALIDATION: [  7  11  20  29 ... 676 689 691 692]\n",
            "TRAIN: [  0   1   2   3 ... 699 700 701 702] VALIDATION: [  5   9  14  15 ... 642 658 694 695]\n",
            "Validation Accuracy for each Iteration [0.943662 0.915493 0.915493 0.914286 0.942857 0.942857 0.942857 0.928571 0.957143 0.942857]\n",
            "Mean accuracy for validation set:  0.9346076458752515\n",
            "Std for accuracy:  0.014290531111874498\n",
            "---------------------------------------------------------------------------------\n",
            "Test Accuracy : 0.9470198675496688\n",
            "              precision    recall  f1-score   support\n",
            "\n",
            "        date       0.95      1.00      0.97       275\n",
            "         day       0.00      0.00      0.00         7\n",
            "       range       0.86      0.75      0.80        16\n",
            "        year       0.00      0.00      0.00         2\n",
            "    duration       0.00      0.00      0.00         2\n",
            "\n",
            "    accuracy                           0.95       302\n",
            "   macro avg       0.36      0.35      0.35       302\n",
            "weighted avg       0.91      0.95      0.93       302\n",
            "\n"
          ]
        },
        {
          "output_type": "stream",
          "name": "stderr",
          "text": [
            "/usr/local/lib/python3.7/dist-packages/sklearn/metrics/_classification.py:1318: UndefinedMetricWarning: Precision and F-score are ill-defined and being set to 0.0 in labels with no predicted samples. Use `zero_division` parameter to control this behavior.\n",
            "  _warn_prf(average, modifier, msg_start, len(result))\n",
            "/usr/local/lib/python3.7/dist-packages/sklearn/metrics/_classification.py:1318: UndefinedMetricWarning: Precision and F-score are ill-defined and being set to 0.0 in labels with no predicted samples. Use `zero_division` parameter to control this behavior.\n",
            "  _warn_prf(average, modifier, msg_start, len(result))\n",
            "/usr/local/lib/python3.7/dist-packages/sklearn/metrics/_classification.py:1318: UndefinedMetricWarning: Precision and F-score are ill-defined and being set to 0.0 in labels with no predicted samples. Use `zero_division` parameter to control this behavior.\n",
            "  _warn_prf(average, modifier, msg_start, len(result))\n"
          ]
        },
        {
          "output_type": "display_data",
          "data": {
            "text/plain": [
              "<Figure size 576x504 with 2 Axes>"
            ],
            "image/png": "[encoded data removed]"
          },
          "metadata": {
            "needs_background": "light"
          }
        }
      ]
    },
    {
      "cell_type": "code",
      "metadata": {
        "colab": {
          "base_uri": "https://localhost:8080/",
          "height": 1000
        },
        "id": "6XF1Prwerc38",
        "outputId": "44271d5b-8dc2-4a82-d43f-0e3e20e17471"
      },
      "source": [
        "#numerical/Svm\n",
        "c_type=df[df['CoarseType']=='numerical']\n",
        "c_type= c_type[c_type['FineType'].isin(['count','percentage','rank','length','money','temperture'])]\n",
        "# numerical_model=fineModel(c_type,'svm')\n",
        "numerical_model=kFoldFineModel(c_type,'numerical','svm')"
      ],
      "execution_count": 106,
      "outputs": [
        {
          "output_type": "stream",
          "name": "stdout",
          "text": [
            "['rank' 'money' 'percentage' 'count' 'length' 'temperture']\n",
            "TRAIN: [  0   1   2   3 ... 362 363 364 365] VALIDATION: [ 18  27  37  42  45  50  55  59  61  62  69  70  72  87  94 101 119 120 188 192 206 212 236 247 257 261 265 270 274\n",
            " 284 311 315 316 319 322 350 366]\n",
            "TRAIN: [  1   2   3   4 ... 360 362 363 366] VALIDATION: [  0   5   8  19  30  34  43  54  60  78  83  92  95  99 100 108 112 142 144 162 171 194 205 210 227 229 238 249 258\n",
            " 279 281 340 355 356 361 364 365]\n",
            "TRAIN: [  0   1   3   5 ... 363 364 365 366] VALIDATION: [  2   4  11  12  28  36  46  47  65  71  75  88 103 117 131 136 154 160 164 179 181 190 225 252 266 268 271 280 292\n",
            " 298 307 320 323 333 341 351 352]\n",
            "TRAIN: [  0   2   3   4 ... 363 364 365 366] VALIDATION: [  1   7  26  39  56  58  63  64  90  98 109 127 132 140 145 146 159 170 175 178 193 204 207 226 239 260 263 290 294\n",
            " 295 302 303 331 335 345 346 360]\n",
            "TRAIN: [  0   1   2   3 ... 363 364 365 366] VALIDATION: [  9  10  16  21  32  40  48  57  82  97 114 126 163 166 185 187 195 202 213 214 215 219 248 256 262 286 287 288 289\n",
            " 304 309 338 339 342 344 348 358]\n",
            "TRAIN: [  0   1   2   4 ... 363 364 365 366] VALIDATION: [  3   6  23  24  35  66  76  84  91  93 105 107 110 113 116 118 129 133 134 138 139 161 177 182 211 216 223 231 246\n",
            " 254 264 277 283 313 317 336 354]\n",
            "TRAIN: [  0   1   2   3 ... 362 364 365 366] VALIDATION: [ 14  17  20  29  31  38  41  53  67  85  89 123 130 151 152 155 167 168 172 180 183 197 201 203 224 233 234 250 276\n",
            " 297 308 318 325 327 329 349 363]\n",
            "TRAIN: [  0   1   2   3 ... 363 364 365 366] VALIDATION: [ 22  25  33  49  51  77  79  81 104 111 128 150 156 158 174 176 191 196 198 208 220 221 222 228 230 235 241 245 255\n",
            " 267 272 296 299 310 321 347]\n",
            "TRAIN: [  0   1   2   3 ... 363 364 365 366] VALIDATION: [ 52  68  73  74  86 122 124 147 148 153 169 184 209 217 218 232 243 244 251 269 275 278 293 300 301 306 312 314 324\n",
            " 326 330 334 343 353 359 362]\n",
            "TRAIN: [  0   1   2   3 ... 363 364 365 366] VALIDATION: [ 13  15  44  80  96 102 106 115 121 125 135 137 141 143 149 157 165 173 186 189 199 200 237 240 242 253 259 273 282\n",
            " 285 291 305 328 332 337 357]\n",
            "Validation Accuracy for each Iteration [0.756757 0.864865 0.756757 0.72973  0.783784 0.864865 0.72973  0.805556 0.777778 0.833333]\n",
            "Mean accuracy for validation set:  0.7903153153153152\n",
            "Std for accuracy:  0.04794946953936597\n",
            "---------------------------------------------------------------------------------\n",
            "Test Accuracy : 0.7721518987341772\n",
            "              precision    recall  f1-score   support\n",
            "\n",
            "        rank       0.76      0.94      0.84        89\n",
            "       money       1.00      0.50      0.67        10\n",
            "  percentage       1.00      0.43      0.60         7\n",
            "       count       0.77      0.80      0.78        25\n",
            "      length       0.80      0.33      0.47        24\n",
            "  temperture       0.67      0.67      0.67         3\n",
            "\n",
            "    accuracy                           0.77       158\n",
            "   macro avg       0.83      0.61      0.67       158\n",
            "weighted avg       0.79      0.77      0.75       158\n",
            "\n"
          ]
        },
        {
          "output_type": "display_data",
          "data": {
            "text/plain": [
              "<Figure size 576x504 with 2 Axes>"
            ],
            "image/png": "[encoded data removed]"
          },
          "metadata": {
            "needs_background": "light"
          }
        }
      ]
    },
    {
      "cell_type": "code",
      "metadata": {
        "id": "v2U_m-1Nrqkd",
        "colab": {
          "base_uri": "https://localhost:8080/",
          "height": 964
        },
        "outputId": "03dcb175-9aa8-4b73-9aae-e2a910996e23"
      },
      "source": [
        "#explanation/Svm\n",
        "c_type=df[df['CoarseType']=='explanation']\n",
        "c_type= c_type[c_type['FineType'].isin(['description','method','reason'])]\n",
        "# explanation_model=fineModel(c_type,'svm')\n",
        "explanation_model=kFoldFineModel(c_type,'explanation','svm')"
      ],
      "execution_count": 107,
      "outputs": [
        {
          "output_type": "stream",
          "name": "stdout",
          "text": [
            "['description' 'method' 'reason']\n",
            "TRAIN: [  0   1   2   3 ... 107 108 109 111] VALIDATION: [ 13  22  28  37  57  63  70  74  87  89  94 110]\n",
            "TRAIN: [  2   3   4   5 ... 107 109 110 111] VALIDATION: [  0   1  10  25  26  40  42  50  66  67  77 108]\n",
            "TRAIN: [  0   1   2   3 ... 107 108 110 111] VALIDATION: [  5  11  31  34  43  49  55  56  68 105 109]\n",
            "TRAIN: [  0   1   3   4 ... 108 109 110 111] VALIDATION: [ 2 15 21 30 41 47 58 80 81 90 96]\n",
            "TRAIN: [  0   1   2   3 ... 108 109 110 111] VALIDATION: [ 6  8 32 35 39 53 64 76 78 84 85]\n",
            "TRAIN: [  0   1   2   3 ... 108 109 110 111] VALIDATION: [14 33 36 38 48 54 65 72 83 92 98]\n",
            "TRAIN: [  0   1   2   3 ... 107 108 109 110] VALIDATION: [  4  20  23  44  46  62  71  93 101 104 111]\n",
            "TRAIN: [  0   1   2   3 ... 108 109 110 111] VALIDATION: [  7   9  29  61  69  75  82  86  95 102 106]\n",
            "TRAIN: [  0   1   2   4 ... 108 109 110 111] VALIDATION: [  3  12  17  19  24  51  59  88  91 100 107]\n",
            "TRAIN: [  0   1   2   3 ... 108 109 110 111] VALIDATION: [ 16  18  27  45  52  60  73  79  97  99 103]\n",
            "Validation Accuracy for each Iteration [0.916667 0.916667 0.909091 0.909091 1.       1.       1.       1.       0.909091 0.909091]\n",
            "Mean accuracy for validation set:  0.9469696969696969\n",
            "Std for accuracy:  0.0433873365553829\n",
            "---------------------------------------------------------------------------------\n"
          ]
        },
        {
          "output_type": "stream",
          "name": "stderr",
          "text": [
            "/usr/local/lib/python3.7/dist-packages/sklearn/model_selection/_split.py:680: UserWarning: The least populated class in y has only 6 members, which is less than n_splits=10.\n",
            "  UserWarning,\n"
          ]
        },
        {
          "output_type": "stream",
          "name": "stdout",
          "text": [
            "Test Accuracy : 0.9591836734693877\n",
            "              precision    recall  f1-score   support\n",
            "\n",
            " description       0.98      0.98      0.98        45\n",
            "      method       1.00      0.67      0.80         3\n",
            "      reason       0.50      1.00      0.67         1\n",
            "\n",
            "    accuracy                           0.96        49\n",
            "   macro avg       0.83      0.88      0.81        49\n",
            "weighted avg       0.97      0.96      0.96        49\n",
            "\n"
          ]
        },
        {
          "output_type": "display_data",
          "data": {
            "text/plain": [
              "<Figure size 576x504 with 2 Axes>"
            ],
            "image/png": "[encoded data removed]"
          },
          "metadata": {
            "needs_background": "light"
          }
        }
      ]
    },
    {
      "cell_type": "code",
      "metadata": {
        "id": "Oa18Ii91r9e2",
        "colab": {
          "base_uri": "https://localhost:8080/",
          "height": 1000
        },
        "outputId": "a7a8afed-6567-4a3e-b11f-5b857fe361a2"
      },
      "source": [
        "#miscelleneous/Svm\n",
        "c_type=df[df['CoarseType']=='miscellaneous']\n",
        "c_type= c_type[c_type['FineType'].isin(['material','animal','device','sport','book','planet','color','religon','disease','language'])]\n",
        "# miscellaneous_model=fineModel(c_type,'svm')\n",
        "miscellaneous_model=kFoldFineModel(c_type,'miscelleneous','svm')"
      ],
      "execution_count": 108,
      "outputs": [
        {
          "output_type": "stream",
          "name": "stdout",
          "text": [
            "['material' 'animal' 'book' 'disease' 'color' 'language' 'device' 'sport' 'planet']\n",
            "TRAIN: [  0   2   3   4 ... 145 146 147 148] VALIDATION: [  1  12  29  35  38  46  50  51  59  63  80  85 103 108 137]\n",
            "TRAIN: [  0   1   3   5 ... 144 145 146 148] VALIDATION: [  2   4  16  41  53  69  81  89 101 120 122 127 131 138 147]\n"
          ]
        },
        {
          "output_type": "stream",
          "name": "stderr",
          "text": [
            "/usr/local/lib/python3.7/dist-packages/sklearn/model_selection/_split.py:680: UserWarning: The least populated class in y has only 5 members, which is less than n_splits=10.\n",
            "  UserWarning,\n"
          ]
        },
        {
          "output_type": "stream",
          "name": "stdout",
          "text": [
            "TRAIN: [  1   2   3   4 ... 145 146 147 148] VALIDATION: [  0  10  11  21  40  42  67  84  93 107 113 124 132 133 139]\n",
            "TRAIN: [  0   1   2   3 ... 145 146 147 148] VALIDATION: [  5  14  18  22  26  27  30  47  49  68  94  98 102 112 136]\n",
            "TRAIN: [  0   1   2   3 ... 145 146 147 148] VALIDATION: [  6  15  34  43  44  55  56  57  66  71  78  79  88 128 142]\n",
            "TRAIN: [  0   1   2   3 ... 145 146 147 148] VALIDATION: [ 28  31  64  72  73  77  82  90  96 110 119 125 129 134 143]\n",
            "TRAIN: [  0   1   2   3 ... 145 146 147 148] VALIDATION: [  7  17  23  33  39  45  60  62  74  75  83 109 111 121 126]\n",
            "TRAIN: [  0   1   2   3 ... 141 142 143 147] VALIDATION: [ 13  48  54  58  61  91 105 117 118 130 135 144 145 146 148]\n",
            "TRAIN: [  0   1   2   4 ... 145 146 147 148] VALIDATION: [  3   8  20  36  65  76  86  92  95  97 100 104 106 116 140]\n",
            "TRAIN: [  0   1   2   3 ... 145 146 147 148] VALIDATION: [  9  19  24  25  32  37  52  70  87  99 114 115 123 141]\n",
            "Validation Accuracy for each Iteration [0.6      0.8      0.533333 0.4      0.666667 0.6      0.8      0.8      0.333333 0.571429]\n",
            "Mean accuracy for validation set:  0.6104761904761904\n",
            "Std for accuracy:  0.15482855707577914\n",
            "---------------------------------------------------------------------------------\n",
            "Test Accuracy : 0.676923076923077\n",
            "              precision    recall  f1-score   support\n",
            "\n",
            "    material       0.60      1.00      0.75         9\n",
            "      animal       0.40      0.29      0.33         7\n",
            "        book       1.00      0.75      0.86         4\n",
            "     disease       0.71      1.00      0.83        12\n",
            "       color       0.00      0.00      0.00         2\n",
            "    language       1.00      0.67      0.80         3\n",
            "      device       0.71      0.71      0.71        17\n",
            "       sport       1.00      1.00      1.00         3\n",
            "      planet       0.33      0.12      0.18         8\n",
            "\n",
            "    accuracy                           0.68        65\n",
            "   macro avg       0.64      0.61      0.61        65\n",
            "weighted avg       0.64      0.68      0.64        65\n",
            "\n"
          ]
        },
        {
          "output_type": "stream",
          "name": "stderr",
          "text": [
            "/usr/local/lib/python3.7/dist-packages/sklearn/metrics/_classification.py:1318: UndefinedMetricWarning: Precision and F-score are ill-defined and being set to 0.0 in labels with no predicted samples. Use `zero_division` parameter to control this behavior.\n",
            "  _warn_prf(average, modifier, msg_start, len(result))\n",
            "/usr/local/lib/python3.7/dist-packages/sklearn/metrics/_classification.py:1318: UndefinedMetricWarning: Precision and F-score are ill-defined and being set to 0.0 in labels with no predicted samples. Use `zero_division` parameter to control this behavior.\n",
            "  _warn_prf(average, modifier, msg_start, len(result))\n",
            "/usr/local/lib/python3.7/dist-packages/sklearn/metrics/_classification.py:1318: UndefinedMetricWarning: Precision and F-score are ill-defined and being set to 0.0 in labels with no predicted samples. Use `zero_division` parameter to control this behavior.\n",
            "  _warn_prf(average, modifier, msg_start, len(result))\n"
          ]
        },
        {
          "output_type": "display_data",
          "data": {
            "text/plain": [
              "<Figure size 576x504 with 2 Axes>"
            ],
            "image/png": "[encoded data removed]"
          },
          "metadata": {
            "needs_background": "light"
          }
        }
      ]
    },
    {
      "cell_type": "markdown",
      "metadata": {
        "id": "xw-qHD72ccUn"
      },
      "source": [
        "**Overall Prediction**"
      ]
    },
    {
      "cell_type": "code",
      "metadata": {
        "colab": {
          "base_uri": "https://localhost:8080/"
        },
        "id": "a2AXhSrzeA8j",
        "outputId": "47c12cc8-778d-4e63-9666-ec10b2d0252d"
      },
      "source": [
        "unseen_questions=[[\"सन् २०२० मार्चमा प्रदान गरिएको इन्टरनेसनल कम्युनिकेसन अवार्ड बाट सम्मानित व्यत्तित्व को हनुहुन्छ ? \"],[\"नेपाल न्यून आय भएका मुलुकबाट न्यून मध्यम आय भएका मुलुकको सूचीमा कहिले स्तरोन्नति भएको हो ? \"],\n",
        "                      [\"वि.सं. २०७७ असार २३ सरकारले नेपाल प्रहरी महानिरीक्षक (आईजीपी) मा कसलाई नियुक्त गर्यो ?\"],[\"हाल रेडियो नेपालबाट कति भाषामा समाचार प्रसारण हुने गर्छ ?\"],\n",
        "                      [\"समाजसेवी तथा शिक्षाविद् अङ्गुरबाबा जोशीको निधन कहिले भएको हो ?\"],[\"सन् २०२० जुनमा सुरक्षा परिषदको अस्थायी सदस्यमा निर्वाचित हुन सफल राष्ट्र कुन कुन हुन ?\"],\n",
        "                      [\"'एक वडा एक व्यायामशाला' निमाणको योजना अघि बढाउने स्थानीय तह कुन हो ?\"],[\"बालबालिकाको क्षेत्रमा काम गर्ने अन्तर्राष्ट्रिय संस्था किवानिज इन्टरनेसनलको एसिया प्यासिफिक सम्मेलन हालै कहाँ सम्पन्न भयो ?\"],\n",
        "                      [\"लोकसेवा आयोग विधेयक प्रतिनिधिसभाबाट कहिले पारित भएको हो ?\"],[\"नेपालमा कृषक परिचयपत्र वितरण गर्ने कार्य कुन जिल्लाबाट सुरु गरिएको हो ?\"],\n",
        "                      [\"विश्व बैंकद्वारा विसं २०७६ कात्तिक ७ मा सार्वजनिक डुइङ बिजनेस प्रतिवेदन २०२० अनुसार नेपाल कतिऔं स्थानमा रहेको छ ?\"],['नेपाली पोर्टको शुभारम्भ कहिले भएको हो ?'],\n",
        "                      [\"सन्  २०१९/२० को विस्डन क्रिकेटर अफ द इयरको उपाधि जित्ने क्रिकेटर को हुन ?\"],['सबै जिल्लामा स्वास्थ्य विमा सेवा लागु गर्ने पहिलो प्रदेश कुन हो ?']]\n",
        "dfq=pd.DataFrame(unseen_questions,columns=['questions'])\n",
        "\n",
        "dfq['questions']= preprocessing(dfq['questions'])\n",
        "validation_questions=dfq['questions'].to_numpy()\n",
        "\n",
        "\n",
        "print(\"SVM Model\")\n",
        "for question in validation_questions:\n",
        "  question=[question]\n",
        "  # test_pred= svm_model.predict(question)\n",
        "  test_pred= k_fold_svm_model.predict(question)\n",
        "  coarse_type=test_pred[0]\n",
        "  if(coarse_type=='person'):\n",
        "    fine_type=person_model.predict(question)\n",
        "  elif(coarse_type=='organization'):\n",
        "    fine_type=organization_model.predict(question)\n",
        "  elif(coarse_type=='location'):\n",
        "    fine_type=location_model.predict(question)\n",
        "  elif(coarse_type=='temporal'):\n",
        "    fine_type=temporal_model.predict(question)\n",
        "  elif(coarse_type=='numerical'):\n",
        "    fine_type=numerical_model.predict(question)\n",
        "  elif(coarse_type=='explanation'):\n",
        "    fine_type=explanation_model.predict(question)\n",
        "  elif(coarse_type=='miscellaneous'):\n",
        "    fine_type=miscellaneous_model.predict(question)\n",
        "  else:\n",
        "    print(\"Coarse type didn't match\")\n",
        "\n",
        "  print(question[0] +\" \"+ coarse_type+ \" : \" +fine_type[0])\n",
        "print('\\n')"
      ],
      "execution_count": 110,
      "outputs": [
        {
          "output_type": "stream",
          "name": "stdout",
          "text": [
            "SVM Model\n",
            "सन् २०२० मार्च प्रदान गरिएको इन्टरनेसनल कम्युन िक ेसन अवार्ड बाट सम्मानित व्य त्ति त्व को हन ुहुन्छ person : individual\n",
            "नेपाल न्यून आय भएका मुलुक बाट मध्यम मुलुकको सूची कहिले स्तर ो न्न ति temporal : date\n",
            "वि सं २०७७ असार २३ सरकार नेपाल प्रहरी महानिरीक्षक कस नियुक्त गर्यो person : individual\n",
            "हाल रेडियो नेपाल बाट कति भाषामा समाचार प्रसारण numerical : count\n",
            "समाजसेवी शिक्षा विद् अङ्ग ुर बाबा जोशी को निधन कहिले temporal : date\n",
            "सन् २०२० सुरक्षा परिषद को अस्थायी सदस्य निर्वाचित सफल राष्ट्र कुन person : individual\n",
            "ण को योजना अघि बढाउने स्थानीय तह कुन location : country\n",
            "बालबालिका को क्षेत्रमा काम अन्तर्राष्ट्रिय संस्था वा निज इन्टरनेसनल एसिया प्यास िफ िक सम्मेलन हालै कहाँ सम्पन्न भयो temporal : date\n",
            "लोक सेवा आयोग विधेयक प्रतिनिधिसभा बाट कहिले पारित temporal : date\n",
            "नेपालमा कृषक परिचय पत्र वितरण कार्य कुन जिल्लाबाट सुरु गरिएको temporal : date\n",
            "विश्व बैंक द्वारा विसं २०७६ कात्तिक ७ सार्वजनिक डु इ ङ बिज नेस प्रतिवेदन २०२० नेपाल कति स्थानमा numerical : rank\n",
            "नेपाली पोर्ट को शुभ ारम्भ कहिले temporal : date\n",
            "सन् २०१९ २० को वि स् डन क्रिकेट अफ द इ यर को उपाधि जित्ने person : individual\n",
            "जिल्लामा स्वास्थ्य वि सेवा लागु प्रदेश कुन person : individual\n",
            "\n",
            "\n"
          ]
        }
      ]
    }
  ]
}