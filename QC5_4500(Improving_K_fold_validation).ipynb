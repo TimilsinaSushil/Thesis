{
  "nbformat": 4,
  "nbformat_minor": 0,
  "metadata": {
    "colab": {
      "name": "QC5/4500(Improving K fold validation).ipynb",
      "provenance": [],
      "collapsed_sections": [],
      "authorship_tag": "ABX9TyM2I/PoZz3abGkR4BxYlHf/",
      "include_colab_link": true
    },
    "kernelspec": {
      "name": "python3",
      "display_name": "Python 3"
    },
    "language_info": {
      "name": "python"
    }
  },
  "cells": [
    {
      "cell_type": "markdown",
      "metadata": {
        "id": "view-in-github",
        "colab_type": "text"
      },
      "source": [
        "<a href=\"https://colab.research.google.com/github/TimilsinaSushil/Thesis/blob/main/QC5_4500(Improving_K_fold_validation).ipynb\" target=\"_parent\"><img src=\"https://colab.research.google.com/assets/colab-badge.svg\" alt=\"Open In Colab\"/></a>"
      ]
    },
    {
      "cell_type": "code",
      "metadata": {
        "id": "ICl3v-lCcTVE"
      },
      "source": [
        "# !pip install torch==1.3.1+cpu -f https://download.pytorch.org/whl/torch_stable.html\n",
        "# !pip install inltk\n",
        "# !pip install nepali-stemmer\n",
        "from inltk.inltk import setup\n",
        "from inltk.inltk import tokenize\n",
        "from inltk.inltk import get_embedding_vectors\n",
        "from nepali_stemmer.stemmer import NepStemmer\n",
        "# setup('ne')\n",
        "import pandas as pd\n",
        "import numpy as np\n",
        "import matplotlib.pyplot as plt\n",
        "%matplotlib inline"
      ],
      "execution_count": null,
      "outputs": []
    },
    {
      "cell_type": "code",
      "metadata": {
        "id": "Bedgrbfxd-Lw",
        "colab": {
          "resources": {
            "http://localhost:8080/nbextensions/google.colab/files.js": {
              "data": "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",
              "ok": true,
              "headers": [
                [
                  "content-type",
                  "application/javascript"
                ]
              ],
              "status": 200,
              "status_text": ""
            }
          },
          "base_uri": "https://localhost:8080/",
          "height": 73
        },
        "outputId": "37062be3-6453-4187-a258-6218a4e64d66"
      },
      "source": [
        "from google.colab import files\n",
        "uploaded = files.upload()\n",
        "df = pd.read_csv('QSN.csv')"
      ],
      "execution_count": null,
      "outputs": [
        {
          "output_type": "display_data",
          "data": {
            "text/plain": [
              "<IPython.core.display.HTML object>"
            ],
            "text/html": [
              "\n",
              "     <input type=\"file\" id=\"files-9428e9bc-230f-4b80-bd0d-0a1150c2e6d0\" name=\"files[]\" multiple disabled\n",
              "        style=\"border:none\" />\n",
              "     <output id=\"result-9428e9bc-230f-4b80-bd0d-0a1150c2e6d0\">\n",
              "      Upload widget is only available when the cell has been executed in the\n",
              "      current browser session. Please rerun this cell to enable.\n",
              "      </output>\n",
              "      <script src=\"/nbextensions/google.colab/files.js\"></script> "
            ]
          },
          "metadata": {}
        },
        {
          "output_type": "stream",
          "name": "stdout",
          "text": [
            "Saving QSN.csv to QSN (1).csv\n"
          ]
        }
      ]
    },
    {
      "cell_type": "code",
      "metadata": {
        "colab": {
          "base_uri": "https://localhost:8080/",
          "height": 344
        },
        "id": "Pm_8WA9veyKr",
        "outputId": "5c6a0d96-4b5b-4042-dc81-36f34a75b316"
      },
      "source": [
        "#coarse type filtering\n",
        "df=df[df['CoarseType'].isin(['location','temporal','numerical','person','organization','explanation','miscellaneous'])]\n",
        "coarse_type=df['CoarseType'].unique()\n",
        "# print(coarse_type)\n",
        "print(coarse_type)\n",
        "plt.figure(figsize=(10,4))\n",
        "df.CoarseType.value_counts().plot(kind='bar');\n"
      ],
      "execution_count": null,
      "outputs": [
        {
          "output_type": "stream",
          "name": "stdout",
          "text": [
            "['temporal' 'location' 'numerical' 'person' 'organization' 'explanation' 'miscellaneous']\n"
          ]
        },
        {
          "output_type": "display_data",
          "data": {
            "text/plain": [
              "<Figure size 720x288 with 1 Axes>"
            ],
            "image/png": "[encoded data removed]"
          },
          "metadata": {
            "needs_background": "light"
          }
        }
      ]
    },
    {
      "cell_type": "markdown",
      "metadata": {
        "id": "x6WbV7qyfYcp"
      },
      "source": [
        "**Text Preprocessig**"
      ]
    },
    {
      "cell_type": "code",
      "metadata": {
        "id": "EKyDSfqefXdB",
        "colab": {
          "base_uri": "https://localhost:8080/"
        },
        "outputId": "5b028d50-969e-4232-f077-d088da8bbe1f"
      },
      "source": [
        "import nltk\n",
        "from nltk.corpus import stopwords\n",
        "nltk.download('stopwords')"
      ],
      "execution_count": null,
      "outputs": [
        {
          "output_type": "stream",
          "name": "stdout",
          "text": [
            "[nltk_data] Downloading package stopwords to /root/nltk_data...\n",
            "[nltk_data]   Package stopwords is already up-to-date!\n"
          ]
        },
        {
          "output_type": "execute_result",
          "data": {
            "text/plain": [
              "True"
            ]
          },
          "metadata": {},
          "execution_count": 29
        }
      ]
    },
    {
      "cell_type": "code",
      "metadata": {
        "id": "1Io9hFAeFnvW"
      },
      "source": [
        "#removing text inside brackets and quotes\n",
        "import re\n",
        "def removeTextInsideQuotesAndBrackets(text):\n",
        "  text=re.sub(\"[\\(\\[].*?[\\)\\]]\", \"\", text)\n",
        "  text=re.sub(\"\\'.*?\\'\",\"\",text)\n",
        "  text=re.sub('\\\".*?\\\"',\"\",text)\n",
        "  return text"
      ],
      "execution_count": null,
      "outputs": []
    },
    {
      "cell_type": "code",
      "metadata": {
        "id": "PNI1n-GzDjG-"
      },
      "source": [
        "def removeKo(text):\n",
        "  words= text.split()\n",
        "  text=[]\n",
        "  for word in words:\n",
        "    length=len(word)\n",
        "    if(length > 2):\n",
        "      if(word[-2]=='क' and word[-1]=='ो'):\n",
        "        if(word!='कसको'):\n",
        "          word= word[:length-2]\n",
        "    text.append(word)\n",
        "  text=' '.join([word for word in text])\n",
        "  # print(text)\n",
        "  return text\n",
        "\n",
        "\n"
      ],
      "execution_count": null,
      "outputs": []
    },
    {
      "cell_type": "code",
      "metadata": {
        "id": "az5FRbNyhGf0"
      },
      "source": [
        "def preprocessing(questions):\n",
        "  questions=questions.apply(removeTextInsideQuotesAndBrackets)\n",
        "  # questions = questions.apply(removeKo)\n",
        "  #tokenization\n",
        "  questions= questions.apply(lambda x: tokenize(x,'ne'))\n",
        "  #removing duplicates\n",
        "  questions= questions.apply(lambda x: list(dict.fromkeys(x)))\n",
        "  \n",
        "  questions=questions.apply(lambda x: ' '.join(x).replace('▁','').split())\n",
        "  questions=questions.apply(lambda x: ' '.join(x))\n",
        "\n",
        "  #removing numbers\n",
        "  questios=questions.apply(lambda x: ''.join(c for c in x if not c.isdigit()))\n",
        "  #removing punctuation\n",
        "  punctuation=['!','\"','#','$','&',\"'\",'(',')','*','+',',','-','.','/',':',';','<','=','>','?','@','[',\"]\",'^','_','`','{','|','}','~']\n",
        "  questions = questions.apply(lambda x: ''.join(c for c in x if c not in punctuation))\n",
        "\n",
        "  #removing stopwords\n",
        "  WHWORDS = ['कुन','कहिले','के','कति','को','कसले','कहाँ','कसलाई','कसको','कस्तो','कति','कसरी','किन','कता']\n",
        "  STOPWORDS = stopwords.words('nepali')\n",
        "  # Removig WH words from STOPWORDS\n",
        "  for word in WHWORDS:\n",
        "    if word in STOPWORDS: STOPWORDS.remove(word)\n",
        "\n",
        "  STOPWORDS=set(STOPWORDS)\n",
        "  def clean_text(text):\n",
        "      text=' '.join([word for word in text.split() if word not in STOPWORDS]) # delete stopwords from text\n",
        "      return text\n",
        "  questions = questions.apply(clean_text)\n",
        "  return questions\n",
        "\n"
      ],
      "execution_count": null,
      "outputs": []
    },
    {
      "cell_type": "code",
      "metadata": {
        "id": "igEeAbr-cUo3"
      },
      "source": [
        "#stemmig\n",
        "# nepstem = NepStemmer()\n",
        "# df['Questions'] = df['Questions'].apply(nepstem.stem)\n",
        "# df.head(10)"
      ],
      "execution_count": null,
      "outputs": []
    },
    {
      "cell_type": "code",
      "metadata": {
        "id": "pt2AN-SEoRU4",
        "colab": {
          "base_uri": "https://localhost:8080/",
          "height": 206
        },
        "outputId": "83e9b64d-81c2-415c-9106-d838c208ac4a"
      },
      "source": [
        "df['Questions'] = preprocessing(df['Questions'])\n",
        "\n",
        "df.head()\n",
        "\n"
      ],
      "execution_count": null,
      "outputs": [
        {
          "output_type": "execute_result",
          "data": {
            "text/plain": [
              "                                           Questions  \\\n",
              "0  नेपाली क्रिकेट टिम क्याप्टेन ज्ञानेन्द्र मल्ल ...   \n",
              "1  फ्रान्स को लियोन सम्पन्न महिला विश्वकप फुटबल २...   \n",
              "2     विश्व शान्ति सू चा ंक २०१९ नेपाल कति औ स्थानमा   \n",
              "3  फलफूल को बोट रु दश नोट कार्यक्रमको सुरुवात कुन...   \n",
              "4  माथिल्लो त्रिशुली थ्री जल विध ुत आयोजना को विध...   \n",
              "\n",
              "                         Answer CoarseType FineType WhWord        Domain   \n",
              "0        वि.सं. २०७६ कार्तिक १३   temporal     date  कहिले         Sports  \n",
              "1                       अमेरिका   location  country   कसले         Sports  \n",
              "2                  ७६ औ स्थानमा  numerical     rank    कति  Miscellaneous  \n",
              "3  इच्छाकामना गाउँपालिका, चितवन   location     city    कुन       Politics  \n",
              "4             वि.स. २०७६ जेठ ०२   temporal     date  कहिले  Miscellaneous  "
            ],
            "text/html": [
              "\n",
              "  <div id=\"df-50937bb1-2a84-4fb8-9e19-b5c418271921\">\n",
              "    <div class=\"colab-df-container\">\n",
              "      <div>\n",
              "<style scoped>\n",
              "    .dataframe tbody tr th:only-of-type {\n",
              "        vertical-align: middle;\n",
              "    }\n",
              "\n",
              "    .dataframe tbody tr th {\n",
              "        vertical-align: top;\n",
              "    }\n",
              "\n",
              "    .dataframe thead th {\n",
              "        text-align: right;\n",
              "    }\n",
              "</style>\n",
              "<table border=\"1\" class=\"dataframe\">\n",
              "  <thead>\n",
              "    <tr style=\"text-align: right;\">\n",
              "      <th></th>\n",
              "      <th>Questions</th>\n",
              "      <th>Answer</th>\n",
              "      <th>CoarseType</th>\n",
              "      <th>FineType</th>\n",
              "      <th>WhWord</th>\n",
              "      <th>Domain</th>\n",
              "    </tr>\n",
              "  </thead>\n",
              "  <tbody>\n",
              "    <tr>\n",
              "      <th>0</th>\n",
              "      <td>नेपाली क्रिकेट टिम क्याप्टेन ज्ञानेन्द्र मल्ल ...</td>\n",
              "      <td>वि.सं. २०७६ कार्तिक १३</td>\n",
              "      <td>temporal</td>\n",
              "      <td>date</td>\n",
              "      <td>कहिले</td>\n",
              "      <td>Sports</td>\n",
              "    </tr>\n",
              "    <tr>\n",
              "      <th>1</th>\n",
              "      <td>फ्रान्स को लियोन सम्पन्न महिला विश्वकप फुटबल २...</td>\n",
              "      <td>अमेरिका</td>\n",
              "      <td>location</td>\n",
              "      <td>country</td>\n",
              "      <td>कसले</td>\n",
              "      <td>Sports</td>\n",
              "    </tr>\n",
              "    <tr>\n",
              "      <th>2</th>\n",
              "      <td>विश्व शान्ति सू चा ंक २०१९ नेपाल कति औ स्थानमा</td>\n",
              "      <td>७६ औ स्थानमा</td>\n",
              "      <td>numerical</td>\n",
              "      <td>rank</td>\n",
              "      <td>कति</td>\n",
              "      <td>Miscellaneous</td>\n",
              "    </tr>\n",
              "    <tr>\n",
              "      <th>3</th>\n",
              "      <td>फलफूल को बोट रु दश नोट कार्यक्रमको सुरुवात कुन...</td>\n",
              "      <td>इच्छाकामना गाउँपालिका, चितवन</td>\n",
              "      <td>location</td>\n",
              "      <td>city</td>\n",
              "      <td>कुन</td>\n",
              "      <td>Politics</td>\n",
              "    </tr>\n",
              "    <tr>\n",
              "      <th>4</th>\n",
              "      <td>माथिल्लो त्रिशुली थ्री जल विध ुत आयोजना को विध...</td>\n",
              "      <td>वि.स. २०७६ जेठ ०२</td>\n",
              "      <td>temporal</td>\n",
              "      <td>date</td>\n",
              "      <td>कहिले</td>\n",
              "      <td>Miscellaneous</td>\n",
              "    </tr>\n",
              "  </tbody>\n",
              "</table>\n",
              "</div>\n",
              "      <button class=\"colab-df-convert\" onclick=\"convertToInteractive('df-50937bb1-2a84-4fb8-9e19-b5c418271921')\"\n",
              "              title=\"Convert this dataframe to an interactive table.\"\n",
              "              style=\"display:none;\">\n",
              "        \n",
              "  <svg xmlns=\"http://www.w3.org/2000/svg\" height=\"24px\"viewBox=\"0 0 24 24\"\n",
              "       width=\"24px\">\n",
              "    <path d=\"M0 0h24v24H0V0z\" fill=\"none\"/>\n",
              "    <path d=\"M18.56 5.44l.94 2.06.94-2.06 2.06-.94-2.06-.94-.94-2.06-.94 2.06-2.06.94zm-11 1L8.5 8.5l.94-2.06 2.06-.94-2.06-.94L8.5 2.5l-.94 2.06-2.06.94zm10 10l.94 2.06.94-2.06 2.06-.94-2.06-.94-.94-2.06-.94 2.06-2.06.94z\"/><path d=\"M17.41 7.96l-1.37-1.37c-.4-.4-.92-.59-1.43-.59-.52 0-1.04.2-1.43.59L10.3 9.45l-7.72 7.72c-.78.78-.78 2.05 0 2.83L4 21.41c.39.39.9.59 1.41.59.51 0 1.02-.2 1.41-.59l7.78-7.78 2.81-2.81c.8-.78.8-2.07 0-2.86zM5.41 20L4 18.59l7.72-7.72 1.47 1.35L5.41 20z\"/>\n",
              "  </svg>\n",
              "      </button>\n",
              "      \n",
              "  <style>\n",
              "    .colab-df-container {\n",
              "      display:flex;\n",
              "      flex-wrap:wrap;\n",
              "      gap: 12px;\n",
              "    }\n",
              "\n",
              "    .colab-df-convert {\n",
              "      background-color: #E8F0FE;\n",
              "      border: none;\n",
              "      border-radius: 50%;\n",
              "      cursor: pointer;\n",
              "      display: none;\n",
              "      fill: #1967D2;\n",
              "      height: 32px;\n",
              "      padding: 0 0 0 0;\n",
              "      width: 32px;\n",
              "    }\n",
              "\n",
              "    .colab-df-convert:hover {\n",
              "      background-color: #E2EBFA;\n",
              "      box-shadow: 0px 1px 2px rgba(60, 64, 67, 0.3), 0px 1px 3px 1px rgba(60, 64, 67, 0.15);\n",
              "      fill: #174EA6;\n",
              "    }\n",
              "\n",
              "    [theme=dark] .colab-df-convert {\n",
              "      background-color: #3B4455;\n",
              "      fill: #D2E3FC;\n",
              "    }\n",
              "\n",
              "    [theme=dark] .colab-df-convert:hover {\n",
              "      background-color: #434B5C;\n",
              "      box-shadow: 0px 1px 3px 1px rgba(0, 0, 0, 0.15);\n",
              "      filter: drop-shadow(0px 1px 2px rgba(0, 0, 0, 0.3));\n",
              "      fill: #FFFFFF;\n",
              "    }\n",
              "  </style>\n",
              "\n",
              "      <script>\n",
              "        const buttonEl =\n",
              "          document.querySelector('#df-50937bb1-2a84-4fb8-9e19-b5c418271921 button.colab-df-convert');\n",
              "        buttonEl.style.display =\n",
              "          google.colab.kernel.accessAllowed ? 'block' : 'none';\n",
              "\n",
              "        async function convertToInteractive(key) {\n",
              "          const element = document.querySelector('#df-50937bb1-2a84-4fb8-9e19-b5c418271921');\n",
              "          const dataTable =\n",
              "            await google.colab.kernel.invokeFunction('convertToInteractive',\n",
              "                                                     [key], {});\n",
              "          if (!dataTable) return;\n",
              "\n",
              "          const docLinkHtml = 'Like what you see? Visit the ' +\n",
              "            '<a target=\"_blank\" href=https://colab.research.google.com/notebooks/data_table.ipynb>data table notebook</a>'\n",
              "            + ' to learn more about interactive tables.';\n",
              "          element.innerHTML = '';\n",
              "          dataTable['output_type'] = 'display_data';\n",
              "          await google.colab.output.renderOutput(dataTable, element);\n",
              "          const docLink = document.createElement('div');\n",
              "          docLink.innerHTML = docLinkHtml;\n",
              "          element.appendChild(docLink);\n",
              "        }\n",
              "      </script>\n",
              "    </div>\n",
              "  </div>\n",
              "  "
            ]
          },
          "metadata": {},
          "execution_count": 33
        }
      ]
    },
    {
      "cell_type": "markdown",
      "metadata": {
        "id": "HOYd0HrmIKMj"
      },
      "source": [
        "**Decleration**"
      ]
    },
    {
      "cell_type": "code",
      "metadata": {
        "id": "1RiXbTriE7n9"
      },
      "source": [
        "from sklearn.model_selection import train_test_split\n",
        "from sklearn.pipeline import Pipeline\n",
        "from sklearn.feature_extraction.text import TfidfTransformer\n",
        "from sklearn.feature_extraction.text import CountVectorizer\n",
        "from sklearn.metrics import accuracy_score\n",
        "from sklearn.metrics import classification_report\n",
        "\n",
        "from sklearn.naive_bayes import MultinomialNB\n",
        "from sklearn.linear_model import SGDClassifier\n",
        "from sklearn.svm import SVC\n",
        "from sklearn.svm import LinearSVC\n",
        "from sklearn.multiclass import OneVsRestClassifier\n",
        "from sklearn.multiclass import OneVsOneClassifier;\n",
        "from sklearn.linear_model import LogisticRegression\n",
        "TEST_SIZE=0.30\n",
        "from sklearn.model_selection import StratifiedKFold\n",
        "N_FOLD = 10"
      ],
      "execution_count": null,
      "outputs": []
    },
    {
      "cell_type": "markdown",
      "metadata": {
        "id": "pHbQnxZKcWTw"
      },
      "source": [
        "***K Fold Coarse Model***"
      ]
    },
    {
      "cell_type": "code",
      "metadata": {
        "id": "JgFSXbc3VVkF"
      },
      "source": [
        "def kFoldCoarseModel(algorithm):\n",
        "  from sklearn.metrics import confusion_matrix\n",
        "  import random \n",
        "\n",
        "  X = df.Questions\n",
        "  y = df.CoarseType\n",
        "\n",
        "  # Splitting test set\n",
        "  X_train, X_test, y_train, y_test = train_test_split(X, y, test_size=0.20) \n",
        "\n",
        "  metrics = []\n",
        "  skf= StratifiedKFold(n_splits=N_FOLD, shuffle=True, random_state=1)\n",
        "  X=np.array(X_train)\n",
        "  y=np.array(y_train)\n",
        "\n",
        " # Defining Model\n",
        "  if(algorithm=='nb'):\n",
        "    model = Pipeline([('vect', CountVectorizer()),\n",
        "              ('tfidf', TfidfTransformer()),\n",
        "              ('clf', MultinomialNB()),\n",
        "              ]) \n",
        "  elif(algorithm==\"svm\"):\n",
        "    model = Pipeline([('vect', CountVectorizer()),\n",
        "                ('tfidf', TfidfTransformer()),\n",
        "                ('clf', OneVsRestClassifier(SVC(C=1, kernel='sigmoid'))),    #Non linear svm\n",
        "              ])\n",
        "    \n",
        "    #gaussian\n",
        "    #sigmoid\n",
        "  #model defination finished\n",
        "  \n",
        "\n",
        "  # K fold cross validation\n",
        "  for train_index, validation_index in skf.split(X, y):\n",
        "      print(\"TRAIN:\", train_index, \"VALIDATION:\", validation_index)\n",
        "      X_train, X_validation = X[train_index], X[validation_index]\n",
        "      y_train, y_validation = y[train_index], y[validation_index]\n",
        "      # set parameter\n",
        "      # model.set_params(max_iterations=10)\n",
        "  #   # train the model\n",
        "      model.fit(X_train,y_train)\n",
        "  #   # validate the model \n",
        "      y_pred_class_for_validation = model.predict(X_validation)\n",
        "      metrics.append(accuracy_score(y_validation, y_pred_class_for_validation))\n",
        "      # print(classification_report(y_test, y_pred_class,target_names=coarse_type))\n",
        "      \n",
        "\n",
        "  \n",
        "\n",
        "\n",
        "  metrics = np.array(metrics)\n",
        "  print('Validation Accuracy for each Iteration',metrics)\n",
        "  print('Mean accuracy for validation set: ', np.mean(metrics, axis=0))\n",
        "  print('Std for accuracy: ', np.std(metrics, axis=0))\n",
        "  print('---------------------------------------------------------------------------------')\n",
        "\n",
        "  y_pred = model.predict(X_test)\n",
        "\n",
        "  test_accuracy = accuracy_score(y_pred, y_test)\n",
        "  print('Test Accuracy : %s' % test_accuracy)\n",
        "  print(classification_report(y_test, y_pred,target_names=coarse_type))\n",
        "\n",
        "  cf_matrix = confusion_matrix(y_test, y_pred, labels=coarse_type)\n",
        "  # print(cf_matrix)\n",
        "\n",
        "  import seaborn as sns\n",
        "  plt.figure(figsize=(8,7))\n",
        "  actual_data= ['temporal' 'location' 'numerical' 'person' 'organization' 'explanation' 'miscellaneous']\n",
        "  predicted_data= ['temporal' 'location' 'numerical' 'person' 'organization' 'explanation' 'miscellaneous']\n",
        "  cm = confusion_matrix(actual_data, predicted_data)\n",
        "  ax = sns.heatmap(cf_matrix, annot=True, cmap='Blues', fmt='g')\n",
        "  ax.set_title('Confusion Matrix')\n",
        "  ax.set_xlabel('Predicted Intent')\n",
        "  ax.set_ylabel('Actual Intent')\n",
        "  ax.xaxis.set_ticklabels(['TEM','LOC','NUM','PER','ORG','EXP','MISC'])\n",
        "  ax.yaxis.set_ticklabels(['TEM','LOC','NUM','PER','ORG','EXP','MISC'])\n",
        "  plt.show()\n",
        "  \n",
        "  return model\n"
      ],
      "execution_count": null,
      "outputs": []
    },
    {
      "cell_type": "code",
      "metadata": {
        "colab": {
          "base_uri": "https://localhost:8080/",
          "height": 1000
        },
        "id": "9c3KD3B9Y35s",
        "outputId": "0945a317-0684-4fc9-cf74-94b5e67d0592"
      },
      "source": [
        "k_fold_nb_model= kFoldCoarseModel('nb')"
      ],
      "execution_count": null,
      "outputs": [
        {
          "output_type": "stream",
          "name": "stdout",
          "text": [
            "TRAIN: [   0    1    2    3 ... 3609 3610 3611 3612] VALIDATION: [   4   22   26   45 ... 3586 3594 3597 3602]\n",
            "TRAIN: [   0    2    3    4 ... 3609 3610 3611 3612] VALIDATION: [   1   12   49   70 ... 3580 3581 3591 3606]\n",
            "TRAIN: [   0    1    2    3 ... 3608 3609 3611 3612] VALIDATION: [   7    8    9   13 ... 3585 3595 3607 3610]\n",
            "TRAIN: [   0    1    2    4 ... 3608 3610 3611 3612] VALIDATION: [   3    5   11   30 ... 3579 3584 3598 3609]\n",
            "TRAIN: [   0    1    2    3 ... 3608 3609 3610 3612] VALIDATION: [  15   27   43   56 ... 3556 3577 3599 3611]\n",
            "TRAIN: [   0    1    2    3 ... 3609 3610 3611 3612] VALIDATION: [  18   21   23   25 ... 3564 3575 3588 3596]\n",
            "TRAIN: [   0    1    2    3 ... 3609 3610 3611 3612] VALIDATION: [  17   28   34   37 ... 3576 3582 3583 3603]\n",
            "TRAIN: [   0    1    3    4 ... 3609 3610 3611 3612] VALIDATION: [   2   16   24   36 ... 3587 3589 3601 3604]\n",
            "TRAIN: [   0    1    2    3 ... 3609 3610 3611 3612] VALIDATION: [   6   14   38   41 ... 3563 3567 3592 3608]\n",
            "TRAIN: [   1    2    3    4 ... 3608 3609 3610 3611] VALIDATION: [   0   10   19   20 ... 3593 3600 3605 3612]\n",
            "Validation Accuracy for each Iteration [0.607735 0.649171 0.671271 0.628809 0.65651  0.695291 0.65097  0.66205  0.639889 0.623269]\n",
            "Mean accuracy for validation set:  0.6484963499181219\n",
            "Std for accuracy:  0.02392174623180628\n",
            "---------------------------------------------------------------------------------\n",
            "Test Accuracy : 0.6626106194690266\n",
            "               precision    recall  f1-score   support\n",
            "\n",
            "     temporal       1.00      0.16      0.28        31\n",
            "     location       0.69      0.46      0.56       136\n",
            "    numerical       0.61      0.40      0.48       136\n",
            "       person       0.87      0.83      0.85       121\n",
            " organization       0.00      0.00      0.00        30\n",
            "  explanation       0.62      0.81      0.70       252\n",
            "miscellaneous       0.63      0.86      0.73       198\n",
            "\n",
            "     accuracy                           0.66       904\n",
            "    macro avg       0.63      0.50      0.51       904\n",
            " weighted avg       0.66      0.66      0.63       904\n",
            "\n"
          ]
        },
        {
          "output_type": "stream",
          "name": "stderr",
          "text": [
            "/usr/local/lib/python3.7/dist-packages/sklearn/metrics/_classification.py:1318: UndefinedMetricWarning: Precision and F-score are ill-defined and being set to 0.0 in labels with no predicted samples. Use `zero_division` parameter to control this behavior.\n",
            "  _warn_prf(average, modifier, msg_start, len(result))\n",
            "/usr/local/lib/python3.7/dist-packages/sklearn/metrics/_classification.py:1318: UndefinedMetricWarning: Precision and F-score are ill-defined and being set to 0.0 in labels with no predicted samples. Use `zero_division` parameter to control this behavior.\n",
            "  _warn_prf(average, modifier, msg_start, len(result))\n",
            "/usr/local/lib/python3.7/dist-packages/sklearn/metrics/_classification.py:1318: UndefinedMetricWarning: Precision and F-score are ill-defined and being set to 0.0 in labels with no predicted samples. Use `zero_division` parameter to control this behavior.\n",
            "  _warn_prf(average, modifier, msg_start, len(result))\n"
          ]
        },
        {
          "output_type": "display_data",
          "data": {
            "text/plain": [
              "<Figure size 576x504 with 2 Axes>"
            ],
            "image/png": "[encoded data removed]"
          },
          "metadata": {
            "needs_background": "light"
          }
        }
      ]
    },
    {
      "cell_type": "code",
      "metadata": {
        "colab": {
          "base_uri": "https://localhost:8080/",
          "height": 961
        },
        "id": "8o1ADnIJZCFa",
        "outputId": "8da804a9-8f0c-458e-9291-ed60155f4e28"
      },
      "source": [
        "k_fold_svm_model= kFoldCoarseModel('svm')"
      ],
      "execution_count": null,
      "outputs": [
        {
          "output_type": "stream",
          "name": "stdout",
          "text": [
            "TRAIN: [   0    1    2    3 ... 3609 3610 3611 3612] VALIDATION: [   8   25   27   33 ... 3580 3599 3602 3606]\n",
            "TRAIN: [   0    3    4    5 ... 3607 3609 3610 3611] VALIDATION: [   1    2   31   91 ... 3583 3603 3608 3612]\n",
            "TRAIN: [   0    1    2    3 ... 3608 3609 3611 3612] VALIDATION: [   6   38   68   70 ... 3579 3585 3605 3610]\n",
            "TRAIN: [   0    1    2    3 ... 3609 3610 3611 3612] VALIDATION: [  12   13   14   30 ... 3586 3591 3592 3593]\n",
            "TRAIN: [   0    1    2    5 ... 3609 3610 3611 3612] VALIDATION: [   3    4   11   24 ... 3566 3569 3577 3596]\n",
            "TRAIN: [   1    2    3    4 ... 3608 3610 3611 3612] VALIDATION: [   0    9   15   19 ... 3555 3600 3601 3609]\n",
            "TRAIN: [   0    1    2    3 ... 3608 3609 3610 3612] VALIDATION: [   5   16   34   39 ... 3588 3589 3607 3611]\n",
            "TRAIN: [   0    1    2    3 ... 3609 3610 3611 3612] VALIDATION: [  10   17   35   44 ... 3560 3568 3581 3584]\n",
            "TRAIN: [   0    1    2    3 ... 3609 3610 3611 3612] VALIDATION: [  20   22   26   29 ... 3590 3594 3598 3604]\n",
            "TRAIN: [   0    1    2    3 ... 3609 3610 3611 3612] VALIDATION: [   7   18   21   28 ... 3565 3576 3595 3597]\n",
            "Validation Accuracy for each Iteration [0.712707 0.69337  0.707182 0.66759  0.706371 0.703601 0.711911 0.686981 0.6759   0.717452]\n",
            "Mean accuracy for validation set:  0.6983065762691114\n",
            "Std for accuracy:  0.015902954818267614\n",
            "---------------------------------------------------------------------------------\n",
            "Test Accuracy : 0.6946902654867256\n",
            "               precision    recall  f1-score   support\n",
            "\n",
            "     temporal       0.62      0.22      0.32        37\n",
            "     location       0.59      0.36      0.44       149\n",
            "    numerical       0.57      0.50      0.53       154\n",
            "       person       0.88      0.94      0.91       111\n",
            " organization       0.20      0.04      0.07        23\n",
            "  explanation       0.67      0.87      0.76       247\n",
            "miscellaneous       0.76      0.92      0.83       183\n",
            "\n",
            "     accuracy                           0.69       904\n",
            "    macro avg       0.61      0.55      0.55       904\n",
            " weighted avg       0.67      0.69      0.67       904\n",
            "\n"
          ]
        },
        {
          "output_type": "display_data",
          "data": {
            "text/plain": [
              "<Figure size 576x504 with 2 Axes>"
            ],
            "image/png": "[encoded data removed]"
          },
          "metadata": {
            "needs_background": "light"
          }
        }
      ]
    },
    {
      "cell_type": "markdown",
      "metadata": {
        "id": "ZN8dtDWZd5mv"
      },
      "source": [
        "***Train Test split coarse model***"
      ]
    },
    {
      "cell_type": "code",
      "metadata": {
        "id": "3gcOo_6yOqJQ"
      },
      "source": [
        "def coarseModel(algorithm):\n",
        "  X = df.Questions\n",
        "  y = df.CoarseType\n",
        "\n",
        "  X_train, X_test, y_train, y_test = train_test_split(X, y, test_size=TEST_SIZE, random_state = 42) \n",
        "\n",
        "  if(algorithm=='nb'):\n",
        "    model = Pipeline([('vect', CountVectorizer()),\n",
        "               ('tfidf', TfidfTransformer()),\n",
        "               ('clf', MultinomialNB()),\n",
        "              ]) \n",
        "  elif(algorithm=='sgd'):\n",
        "    model = Pipeline([('vect', CountVectorizer()),\n",
        "                ('tfidf', TfidfTransformer()),\n",
        "                ('clf', SGDClassifier(loss='hinge', penalty='l2',alpha=1e-3, random_state=42, max_iter=5, tol=None, shuffle=True)), #Equivalent to linear svm\n",
        "               ])\n",
        "  elif(algorithm==\"svm\"):\n",
        "    model = Pipeline([('vect', CountVectorizer()),\n",
        "                ('tfidf', TfidfTransformer()),\n",
        "                ('clf', OneVsRestClassifier(SVC(C=1, kernel='sigmoid'))),    #Non linear svm\n",
        "               ])\n",
        "    # model = Pipeline([('vect', CountVectorizer()),\n",
        "    #           ('tfidf', TfidfTransformer()),\n",
        "    #           ('clf', LinearSVC(loss='hinge', penalty='l2', random_state=None, max_iter=5,tol=0.0001)), #Linear  svm\n",
        "    #           ])\n",
        "  else:\n",
        "    model = Pipeline([('vect', CountVectorizer()),\n",
        "                ('tfidf', TfidfTransformer()),\n",
        "                ('clf', LogisticRegression(n_jobs=1, C=1e5)),\n",
        "               ])\n",
        "  \n",
        "\n",
        "  model.fit(X_train, y_train)\n",
        "  # %time\n",
        "\n",
        "  y_pred = model.predict(X_test)\n",
        "\n",
        "  model_accuracy = accuracy_score(y_pred, y_test)\n",
        "  print('Accuracy : %s' % model_accuracy)\n",
        "  print(classification_report(y_test, y_pred,target_names=coarse_type))\n",
        "  return model\n",
        "\n",
        "\n"
      ],
      "execution_count": null,
      "outputs": []
    },
    {
      "cell_type": "code",
      "metadata": {
        "id": "pewfpQ2OW69J",
        "colab": {
          "base_uri": "https://localhost:8080/"
        },
        "outputId": "b40c1fa9-b8ed-4f0c-ca15-c631f15cfe97"
      },
      "source": [
        "nb_model=coarseModel('nb');"
      ],
      "execution_count": null,
      "outputs": [
        {
          "output_type": "stream",
          "name": "stdout",
          "text": [
            "Accuracy : 0.6497050147492626\n",
            "               precision    recall  f1-score   support\n",
            "\n",
            "     temporal       1.00      0.18      0.30        45\n",
            "     location       0.60      0.41      0.49       203\n",
            "    numerical       0.66      0.38      0.48       219\n",
            "       person       0.80      0.76      0.78       176\n",
            " organization       0.00      0.00      0.00        40\n",
            "  explanation       0.63      0.83      0.72       368\n",
            "miscellaneous       0.62      0.88      0.72       305\n",
            "\n",
            "     accuracy                           0.65      1356\n",
            "    macro avg       0.62      0.49      0.50      1356\n",
            " weighted avg       0.64      0.65      0.62      1356\n",
            "\n"
          ]
        },
        {
          "output_type": "stream",
          "name": "stderr",
          "text": [
            "/usr/local/lib/python3.7/dist-packages/sklearn/metrics/_classification.py:1318: UndefinedMetricWarning: Precision and F-score are ill-defined and being set to 0.0 in labels with no predicted samples. Use `zero_division` parameter to control this behavior.\n",
            "  _warn_prf(average, modifier, msg_start, len(result))\n",
            "/usr/local/lib/python3.7/dist-packages/sklearn/metrics/_classification.py:1318: UndefinedMetricWarning: Precision and F-score are ill-defined and being set to 0.0 in labels with no predicted samples. Use `zero_division` parameter to control this behavior.\n",
            "  _warn_prf(average, modifier, msg_start, len(result))\n",
            "/usr/local/lib/python3.7/dist-packages/sklearn/metrics/_classification.py:1318: UndefinedMetricWarning: Precision and F-score are ill-defined and being set to 0.0 in labels with no predicted samples. Use `zero_division` parameter to control this behavior.\n",
            "  _warn_prf(average, modifier, msg_start, len(result))\n"
          ]
        }
      ]
    },
    {
      "cell_type": "code",
      "metadata": {
        "colab": {
          "base_uri": "https://localhost:8080/"
        },
        "id": "Cdj3SjWwXunD",
        "outputId": "b106c737-0559-438b-cd23-a5bf170894eb"
      },
      "source": [
        "sgd_model=coarseModel('sgd')"
      ],
      "execution_count": null,
      "outputs": [
        {
          "output_type": "stream",
          "name": "stdout",
          "text": [
            "Accuracy : 0.7050147492625368\n",
            "               precision    recall  f1-score   support\n",
            "\n",
            "     temporal       0.55      0.27      0.36        45\n",
            "     location       0.59      0.35      0.44       203\n",
            "    numerical       0.61      0.48      0.54       219\n",
            "       person       0.87      0.92      0.90       176\n",
            " organization       0.55      0.15      0.24        40\n",
            "  explanation       0.67      0.87      0.76       368\n",
            "miscellaneous       0.77      0.92      0.84       305\n",
            "\n",
            "     accuracy                           0.71      1356\n",
            "    macro avg       0.66      0.56      0.58      1356\n",
            " weighted avg       0.69      0.71      0.68      1356\n",
            "\n"
          ]
        }
      ]
    },
    {
      "cell_type": "code",
      "metadata": {
        "colab": {
          "base_uri": "https://localhost:8080/"
        },
        "id": "9GaKt9QwYLZt",
        "outputId": "ed59c199-7083-4fa6-f78f-0a72cdc8e29c"
      },
      "source": [
        "svm_model=coarseModel('svm')"
      ],
      "execution_count": null,
      "outputs": [
        {
          "output_type": "stream",
          "name": "stdout",
          "text": [
            "Accuracy : 0.6873156342182891\n",
            "               precision    recall  f1-score   support\n",
            "\n",
            "     temporal       0.39      0.29      0.33        45\n",
            "     location       0.50      0.37      0.43       203\n",
            "    numerical       0.54      0.47      0.50       219\n",
            "       person       0.89      0.90      0.90       176\n",
            " organization       0.38      0.07      0.12        40\n",
            "  explanation       0.67      0.82      0.74       368\n",
            "miscellaneous       0.80      0.91      0.86       305\n",
            "\n",
            "     accuracy                           0.69      1356\n",
            "    macro avg       0.60      0.55      0.55      1356\n",
            " weighted avg       0.66      0.69      0.67      1356\n",
            "\n"
          ]
        }
      ]
    },
    {
      "cell_type": "code",
      "metadata": {
        "id": "sdc1YjJLYfe4"
      },
      "source": [
        "# logreg_model=coarseModel('logreg')"
      ],
      "execution_count": null,
      "outputs": []
    },
    {
      "cell_type": "markdown",
      "metadata": {
        "id": "K1BTN6n1_i5p"
      },
      "source": [
        "**Predictions**"
      ]
    },
    {
      "cell_type": "code",
      "metadata": {
        "colab": {
          "base_uri": "https://localhost:8080/"
        },
        "id": "yqPL6xSA_mfb",
        "outputId": "01208171-e762-4b65-e7d6-89abadb73968"
      },
      "source": [
        "unseen_questions=[[\"सन् २०२० मार्चमा प्रदान गरिएको इन्टरनेसनल कम्युनिकेसन अवार्ड बाट सम्मानित व्यत्तित्व को हनुहुन्छ ? \"],[\"नेपाल न्यून आय भएका मुलुकबाट न्यून मध्यम आय भएका मुलुकको सूचीमा कहिले स्तरोन्नति भएको हो ? \"],\n",
        "                      [\"वि.सं. २०७७ असार २३ सरकारले नेपाल प्रहरी महानिरीक्षक (आईजीपी) मा कसलाई नियुक्त गर्यो ?\"],[\"हाल रेडियो नेपालबाट कति भाषामा समाचार प्रसारण हुने गर्छ ?\"],\n",
        "                      [\"समाजसेवी तथा शिक्षाविद् अङ्गुरबाबा जोशीको निधन कहिले भएको हो ?\"],[\"सन् २०२० जुनमा सुरक्षा परिषदको अस्थायी सदस्यमा निर्वाचित हुन सफल राष्ट्र कुन कुन हुन ?\"],\n",
        "                      [\"'एक वडा एक व्यायामशाला' निमाणको योजना अघि बढाउने स्थानीय तह कुन हो ?\"],[\"बालबालिकाको क्षेत्रमा काम गर्ने अन्तर्राष्ट्रिय संस्था किवानिज इन्टरनेसनलको एसिया प्यासिफिक सम्मेलन हालै कहाँ सम्पन्न भयो ?\"],\n",
        "                      [\"लोकसेवा आयोग विधेयक प्रतिनिधिसभाबाट कहिले पारित भएको हो ?\"],[\"नेपालमा कृषक परिचयपत्र वितरण गर्ने कार्य कुन जिल्लाबाट सुरु गरिएको हो ?\"],\n",
        "                      [\"विश्व बैंकद्वारा विसं २०७६ कात्तिक ७ मा सार्वजनिक डुइङ बिजनेस प्रतिवेदन २०२० अनुसार नेपाल कतिऔं स्थानमा रहेको छ ?\"],['नेपाली पोर्टको शुभारम्भ कहिले भएको हो ?'],\n",
        "                      [\"सन्  २०१९/२० को विस्डन क्रिकेटर अफ द इयरको उपाधि जित्ने क्रिकेटर को हुन ?\"],['सबै जिल्लामा स्वास्थ्य विमा सेवा लागु गर्ने पहिलो प्रदेश कुन हो ?']]\n",
        "dfq=pd.DataFrame(unseen_questions,columns=['questions'])\n",
        "\n",
        "dfq['questions']= preprocessing(dfq['questions'])\n",
        "validation_questions=dfq['questions'].to_numpy()\n",
        "\n",
        "\n",
        "# print(\"Naive Bayes Classifier \\n\")\n",
        "# for question in validation_questions:\n",
        "#   question=[question]\n",
        "#   test_pred= nb_model.predict(question)\n",
        "#   print(question[0] +' : ' + test_pred[0])\n",
        "# print('\\n')\n",
        "\n",
        "\n",
        "# print(\"SGDC Classifier \\n\")\n",
        "# for question in validation_questions:\n",
        "#   test_pred= sgd_model.predict(question)\n",
        "#   print(question[0] +' : ' + test_pred[0])\n",
        "# print('\\n')\n",
        "\n",
        "print(\"Support Vector Machine(Train/Test split) \\n\")\n",
        "for question in validation_questions:\n",
        "  question=[question]\n",
        "  test_pred= svm_model.predict(question)\n",
        "  print(question[0] +' : ' + test_pred[0])\n",
        "print('\\n')\n",
        "\n",
        "\n",
        "print(\"Support Vector Machine(K fold cross validation) \\n\")\n",
        "for question in validation_questions:\n",
        "  question=[question]\n",
        "  test_pred= k_fold_svm_model.predict(question)\n",
        "  print(question[0] +' : ' + test_pred[0])\n",
        "print('\\n')\n",
        "\n",
        "# print(\"Logistic Regression \\n\")\n",
        "# for question in validation_questions:\n",
        "#   test_pred= logreg_model.predict(question)\n",
        "#   print(question[0] +' : ' + test_pred[0])\n"
      ],
      "execution_count": null,
      "outputs": [
        {
          "output_type": "stream",
          "name": "stdout",
          "text": [
            "Support Vector Machine(Train/Test split) \n",
            "\n",
            "सन् २०२० मार्च प्रदान गरिएको इन्टरनेसनल कम्युन िक ेसन अवार्ड बाट सम्मानित व्य त्ति त्व को हन ुहुन्छ : miscellaneous\n",
            "नेपाल न्यून आय भएका मुलुक बाट मध्यम मुलुकको सूची कहिले स्तर ो न्न ति : temporal\n",
            "वि सं २०७७ असार २३ सरकार नेपाल प्रहरी महानिरीक्षक कस नियुक्त गर्यो : person\n",
            "हाल रेडियो नेपाल बाट कति भाषामा समाचार प्रसारण : numerical\n",
            "समाजसेवी शिक्षा विद् अङ्ग ुर बाबा जोशी को निधन कहिले : temporal\n",
            "सन् २०२० सुरक्षा परिषद को अस्थायी सदस्य निर्वाचित सफल राष्ट्र कुन : person\n",
            "ण को योजना अघि बढाउने स्थानीय तह कुन : location\n",
            "बालबालिका को क्षेत्रमा काम अन्तर्राष्ट्रिय संस्था वा निज इन्टरनेसनल एसिया प्यास िफ िक सम्मेलन हालै कहाँ सम्पन्न भयो : temporal\n",
            "लोक सेवा आयोग विधेयक प्रतिनिधिसभा बाट कहिले पारित : temporal\n",
            "नेपालमा कृषक परिचय पत्र वितरण कार्य कुन जिल्लाबाट सुरु गरिएको : temporal\n",
            "विश्व बैंक द्वारा विसं २०७६ कात्तिक ७ सार्वजनिक डु इ ङ बिज नेस प्रतिवेदन २०२० नेपाल कति स्थानमा : numerical\n",
            "नेपाली पोर्ट को शुभ ारम्भ कहिले : temporal\n",
            "सन् २०१९ २० को वि स् डन क्रिकेट अफ द इ यर को उपाधि जित्ने : person\n",
            "जिल्लामा स्वास्थ्य वि सेवा लागु प्रदेश कुन : person\n",
            "\n",
            "\n",
            "Support Vector Machine(K fold cross validation) \n",
            "\n",
            "सन् २०२० मार्च प्रदान गरिएको इन्टरनेसनल कम्युन िक ेसन अवार्ड बाट सम्मानित व्य त्ति त्व को हन ुहुन्छ : person\n",
            "नेपाल न्यून आय भएका मुलुक बाट मध्यम मुलुकको सूची कहिले स्तर ो न्न ति : temporal\n",
            "वि सं २०७७ असार २३ सरकार नेपाल प्रहरी महानिरीक्षक कस नियुक्त गर्यो : person\n",
            "हाल रेडियो नेपाल बाट कति भाषामा समाचार प्रसारण : numerical\n",
            "समाजसेवी शिक्षा विद् अङ्ग ुर बाबा जोशी को निधन कहिले : temporal\n",
            "सन् २०२० सुरक्षा परिषद को अस्थायी सदस्य निर्वाचित सफल राष्ट्र कुन : person\n",
            "ण को योजना अघि बढाउने स्थानीय तह कुन : location\n",
            "बालबालिका को क्षेत्रमा काम अन्तर्राष्ट्रिय संस्था वा निज इन्टरनेसनल एसिया प्यास िफ िक सम्मेलन हालै कहाँ सम्पन्न भयो : temporal\n",
            "लोक सेवा आयोग विधेयक प्रतिनिधिसभा बाट कहिले पारित : temporal\n",
            "नेपालमा कृषक परिचय पत्र वितरण कार्य कुन जिल्लाबाट सुरु गरिएको : temporal\n",
            "विश्व बैंक द्वारा विसं २०७६ कात्तिक ७ सार्वजनिक डु इ ङ बिज नेस प्रतिवेदन २०२० नेपाल कति स्थानमा : numerical\n",
            "नेपाली पोर्ट को शुभ ारम्भ कहिले : temporal\n",
            "सन् २०१९ २० को वि स् डन क्रिकेट अफ द इ यर को उपाधि जित्ने : person\n",
            "जिल्लामा स्वास्थ्य वि सेवा लागु प्रदेश कुन : person\n",
            "\n",
            "\n"
          ]
        }
      ]
    },
    {
      "cell_type": "markdown",
      "metadata": {
        "id": "5NsPY-JzLsjQ"
      },
      "source": [
        "**Fine Type Classification**"
      ]
    },
    {
      "cell_type": "code",
      "metadata": {
        "id": "Ji9gJyfO0d87"
      },
      "source": [
        "def kFoldFineModel(type,fine,algorithm):\n",
        "  from sklearn.metrics import confusion_matrix\n",
        "\n",
        "  c_type=type\n",
        "  f_type=c_type['FineType'].unique()\n",
        "  print(f_type)\n",
        "  X_fine = c_type.Questions\n",
        "  Y_fine = c_type.FineType\n",
        "  Xf_train, Xf_test, yf_train, yf_test = train_test_split(X_fine, Y_fine, test_size=TEST_SIZE, random_state = 42) \n",
        "  \n",
        "  metrics = []\n",
        "  skf= StratifiedKFold(n_splits=N_FOLD, shuffle=True)\n",
        "  X=np.array(Xf_train)\n",
        "  y=np.array(yf_train)\n",
        "\n",
        "  # Defining Model\n",
        "  if(algorithm=='nb'):\n",
        "    model = Pipeline([('vect', CountVectorizer()),\n",
        "              ('tfidf', TfidfTransformer()),\n",
        "              ('clf', MultinomialNB()),\n",
        "              ]) \n",
        "  elif(algorithm==\"svm\"):\n",
        "    model = Pipeline([('vect', CountVectorizer()),\n",
        "                ('tfidf', TfidfTransformer()),\n",
        "                ('clf', OneVsRestClassifier(SVC(C=1, kernel='sigmoid'))),    #Non linear svm\n",
        "              ])\n",
        "  #model defination finished\n",
        "\n",
        "  # K fold cross validation\n",
        "  for train_index, validation_index in skf.split(X, y):\n",
        "      print(\"TRAIN:\", train_index, \"VALIDATION:\", validation_index)\n",
        "      X_train, X_validation = X[train_index], X[validation_index]\n",
        "      y_train, y_validation = y[train_index], y[validation_index]\n",
        "  #   # train the model\n",
        "      model.fit(X_train,y_train)\n",
        "  #   # validate the model \n",
        "      y_pred_class_for_validation = model.predict(X_validation)\n",
        "      metrics.append(accuracy_score(y_validation, y_pred_class_for_validation))\n",
        "      # print(classification_report(y_test, y_pred_class,target_names=coarse_type))\n",
        "      \n",
        "\n",
        "  \n",
        "\n",
        "\n",
        "  metrics = np.array(metrics)\n",
        "  print('Validation Accuracy for each Iteration',metrics)\n",
        "  print('Mean accuracy for validation set: ', np.mean(metrics, axis=0))\n",
        "  print('Std for accuracy: ', np.std(metrics, axis=0))\n",
        "  print('---------------------------------------------------------------------------------')\n",
        "\n",
        "  yf_pred = model.predict(Xf_test)\n",
        "\n",
        "  test_accuracy = accuracy_score(yf_pred, yf_test)\n",
        "  print('Test Accuracy : %s' % test_accuracy)\n",
        "  print(classification_report(yf_test, yf_pred,target_names=f_type))\n",
        "  cf_matrix = confusion_matrix(yf_test, yf_pred, labels=f_type)\n",
        "\n",
        "# for confusion matrix can be commented later\n",
        "  import seaborn as sns\n",
        "  plt.figure(figsize=(8,7))\n",
        "  if(fine=='person'):\n",
        "    actual_data= ['individual','inventor','appellation','discoverer']\n",
        "    predicted_data= ['individual','inventor','appellation','discoverer']\n",
        "  elif(fine=='temporal'):\n",
        "    actual_data= ['date','duration','day','year','range']\n",
        "    predicted_data= ['date','duration','day','year','range']\n",
        "  elif(fine=='location'):\n",
        "    actual_data= ['country','city','district','river','region','state','address']\n",
        "    predicted_data= ['country','city','district','river','region','state','address']\n",
        "  elif(fine=='numerical'):\n",
        "    actual_data= ['count','percentage','rank','length','money','temperture']\n",
        "    predicted_data= ['count','percentage','rank','length','money','temperture']\n",
        "  elif(fine=='organization'):\n",
        "    actual_data= ['sport-team','bank','company']\n",
        "    predicted_data= ['sport-team','bank','company']\n",
        "  elif(fine=='explanation'):\n",
        "    actual_data= ['description','method','reason']\n",
        "    predicted_data= ['description','method','reason']\n",
        "  elif(fine=='explanation'):\n",
        "    actual_data= ['material','animal','device','sport','book','planet','color','religion','disease','language']\n",
        "    predicted_data= ['material','animal','device','sport','book','planet','color','religion','disease','language']\n",
        "\n",
        "  cm = confusion_matrix(actual_data, predicted_data)\n",
        "  ax = sns.heatmap(cf_matrix, annot=True, cmap='Blues', fmt='g')\n",
        "\n",
        "  if(type=='person'):\n",
        "    ax.xaxis.set_ticklabels(['individual','inventor','appellation','discoverer'])\n",
        "    ax.yaxis.set_ticklabels(['individual','inventor','appellation','discoverer'])\n",
        "  elif(type=='temporal'):\n",
        "    ax.xaxis.set_ticklabels(['date','duration','day','year','range'])\n",
        "    ax.yaxis.set_ticklabels(['date','duration','day','year','range'])\n",
        "  elif(type=='location'):\n",
        "    ax.xaxis.set_ticklabels(['country','city','district','river','region','state','address'])\n",
        "    ax.yaxis.set_ticklabels(['country','city','district','river','region','state','address'])\n",
        "  elif(type=='numerical'):\n",
        "    ax.xaxis.set_ticklabels(['count','percentage','rank','length','money','temperture'])\n",
        "    ax.yaxis.set_ticklabels(['count','percentage','rank','length','money','temperture'])\n",
        "  elif(type=='organization'):\n",
        "    ax.xaxis.set_ticklabels(['sport-team','bank','company'])\n",
        "    ax.yaxis.set_ticklabels(['sport-team','bank','company'])\n",
        "  elif(type=='explanation'):\n",
        "    ax.xaxis.set_ticklabels(['description','method','reason'])\n",
        "    ax.yaxis.set_ticklabels(['description','method','reason'])\n",
        "  elif(type=='explanation'):\n",
        "    ax.xaxis.set_ticklabels(['material','animal','device','sport','book','planet','color','religion','disease','language'])\n",
        "    ax.yaxis.set_ticklabels(['material','animal','device','sport','book','planet','color','religion','disease','language'])\n",
        "  ax.set_title('Confusion Matrix')\n",
        "  ax.set_xlabel('Predicted Intent')\n",
        "  ax.set_ylabel('Actual Intent')\n",
        "  plt.show()\n",
        "\n",
        "  return model"
      ],
      "execution_count": null,
      "outputs": []
    },
    {
      "cell_type": "code",
      "metadata": {
        "id": "ppLemVpMLzIg"
      },
      "source": [
        "#Model Function\n",
        "def fineModel(type,algorithm):\n",
        "  c_type=type\n",
        "  f_type=c_type['FineType'].unique()\n",
        "  # f_type=['individual','inventor','discoverer','appellation','group','position','other']\n",
        "  print(f_type)\n",
        "  #splittig\n",
        "  X_fine = c_type.Questions\n",
        "  Y_fine = c_type.FineType\n",
        "  Xf_train, Xf_test, yf_train, yf_test = train_test_split(X_fine, Y_fine, test_size=TEST_SIZE, random_state = 42) \n",
        "\n",
        "  #Fine type model\n",
        "\n",
        "  # model = Pipeline([('vect', CountVectorizer()),\n",
        "  #                 ('tfidf', TfidfTransformer()),\n",
        "  #                 ('clf', SGDClassifier(loss='hinge', penalty='l2',alpha=1e-3, random_state=42, max_iter=5, tol=None)),\n",
        "  #               ])\n",
        "  model = Pipeline([('vect', CountVectorizer()),\n",
        "              ('tfidf', TfidfTransformer()),\n",
        "              ('clf', OneVsRestClassifier(SVC(C=1, kernel='sigmoid'))),    #Non linear svm\n",
        "              ])\n",
        "  model.fit(Xf_train,yf_train )\n",
        "\n",
        "  # %time\n",
        "\n",
        "  yf_pred = model.predict(Xf_test)\n",
        "  print(np.unique(yf_pred))\n",
        "\n",
        "  fine_accuracy = accuracy_score(yf_pred, yf_test)\n",
        "  print('Accuracy : %s' % fine_accuracy)\n",
        "  # print(classification_report(yf_test, yf_pred,target_names=f_type))\n",
        "  return model\n",
        "\n"
      ],
      "execution_count": null,
      "outputs": []
    },
    {
      "cell_type": "code",
      "metadata": {
        "colab": {
          "base_uri": "https://localhost:8080/",
          "height": 1000
        },
        "id": "7jAIXYq8p6vY",
        "outputId": "c6457828-c69d-4cef-a4e5-3fda2ca72c9c"
      },
      "source": [
        "#person/Svm\n",
        "c_type=df[df['CoarseType']=='person']\n",
        "c_type= c_type[c_type['FineType'].isin(['individual','inventor','appellation','discoverer'])]\n",
        "# person_model=fineModel(c_type,'svm')\n",
        "person_model=kFoldFineModel(c_type,'person','svm')"
      ],
      "execution_count": null,
      "outputs": [
        {
          "output_type": "stream",
          "name": "stdout",
          "text": [
            "['individual' 'inventor' 'discoverer' 'appellation']\n",
            "TRAIN: [  0   1   2   5 ... 829 830 831 832] VALIDATION: [  3   4  12  51 ... 811 820 833 834]\n",
            "TRAIN: [  0   1   2   3 ... 830 832 833 834] VALIDATION: [  6  17  28  29 ... 767 796 799 831]\n",
            "TRAIN: [  0   1   2   3 ... 831 832 833 834] VALIDATION: [  7  18  26  32 ... 813 818 826 829]\n",
            "TRAIN: [  0   1   2   3 ... 831 832 833 834] VALIDATION: [ 20  27  30  48 ... 785 792 804 816]\n"
          ]
        },
        {
          "output_type": "stream",
          "name": "stderr",
          "text": [
            "/usr/local/lib/python3.7/dist-packages/sklearn/model_selection/_split.py:680: UserWarning: The least populated class in y has only 9 members, which is less than n_splits=10.\n",
            "  UserWarning,\n"
          ]
        },
        {
          "output_type": "stream",
          "name": "stdout",
          "text": [
            "TRAIN: [  0   1   2   3 ... 829 831 833 834] VALIDATION: [ 15  31  39  54 ... 815 817 830 832]\n",
            "TRAIN: [  0   1   3   4 ... 831 832 833 834] VALIDATION: [  2   9  25  36 ... 789 822 824 825]\n",
            "TRAIN: [  0   1   2   3 ... 831 832 833 834] VALIDATION: [  5   8  13  19 ... 800 802 805 821]\n",
            "TRAIN: [  0   1   2   3 ... 831 832 833 834] VALIDATION: [ 10  11  14  37 ... 781 782 784 827]\n",
            "TRAIN: [  0   2   3   4 ... 831 832 833 834] VALIDATION: [  1  16  21  22 ... 812 814 819 823]\n",
            "TRAIN: [  1   2   3   4 ... 831 832 833 834] VALIDATION: [  0  34  41  73 ... 750 756 807 828]\n",
            "Validation Accuracy for each Iteration [0.928571 0.952381 0.928571 0.940476 0.964286 0.963855 0.963855 0.963855 0.927711 0.939759]\n",
            "Mean accuracy for validation set:  0.9473321858864028\n",
            "Std for accuracy:  0.015248772128904747\n",
            "---------------------------------------------------------------------------------\n",
            "Test Accuracy : 0.946927374301676\n",
            "              precision    recall  f1-score   support\n",
            "\n",
            "  individual       0.00      0.00      0.00         3\n",
            "    inventor       0.00      0.00      0.00         3\n",
            "  discoverer       0.95      1.00      0.97       331\n",
            " appellation       1.00      0.38      0.55        21\n",
            "\n",
            "    accuracy                           0.95       358\n",
            "   macro avg       0.49      0.35      0.38       358\n",
            "weighted avg       0.93      0.95      0.93       358\n",
            "\n"
          ]
        },
        {
          "output_type": "stream",
          "name": "stderr",
          "text": [
            "/usr/local/lib/python3.7/dist-packages/sklearn/metrics/_classification.py:1318: UndefinedMetricWarning: Precision and F-score are ill-defined and being set to 0.0 in labels with no predicted samples. Use `zero_division` parameter to control this behavior.\n",
            "  _warn_prf(average, modifier, msg_start, len(result))\n",
            "/usr/local/lib/python3.7/dist-packages/sklearn/metrics/_classification.py:1318: UndefinedMetricWarning: Precision and F-score are ill-defined and being set to 0.0 in labels with no predicted samples. Use `zero_division` parameter to control this behavior.\n",
            "  _warn_prf(average, modifier, msg_start, len(result))\n",
            "/usr/local/lib/python3.7/dist-packages/sklearn/metrics/_classification.py:1318: UndefinedMetricWarning: Precision and F-score are ill-defined and being set to 0.0 in labels with no predicted samples. Use `zero_division` parameter to control this behavior.\n",
            "  _warn_prf(average, modifier, msg_start, len(result))\n"
          ]
        },
        {
          "output_type": "error",
          "ename": "ValueError",
          "evalue": "ignored",
          "traceback": [
            "\u001b[0;31m---------------------------------------------------------------------------\u001b[0m",
            "\u001b[0;31mValueError\u001b[0m                                Traceback (most recent call last)",
            "\u001b[0;32m<ipython-input-23-75f06b980c45>\u001b[0m in \u001b[0;36m<module>\u001b[0;34m()\u001b[0m\n\u001b[1;32m      3\u001b[0m \u001b[0mc_type\u001b[0m\u001b[0;34m=\u001b[0m \u001b[0mc_type\u001b[0m\u001b[0;34m[\u001b[0m\u001b[0mc_type\u001b[0m\u001b[0;34m[\u001b[0m\u001b[0;34m'FineType'\u001b[0m\u001b[0;34m]\u001b[0m\u001b[0;34m.\u001b[0m\u001b[0misin\u001b[0m\u001b[0;34m(\u001b[0m\u001b[0;34m[\u001b[0m\u001b[0;34m'individual'\u001b[0m\u001b[0;34m,\u001b[0m\u001b[0;34m'inventor'\u001b[0m\u001b[0;34m,\u001b[0m\u001b[0;34m'appellation'\u001b[0m\u001b[0;34m,\u001b[0m\u001b[0;34m'discoverer'\u001b[0m\u001b[0;34m]\u001b[0m\u001b[0;34m)\u001b[0m\u001b[0;34m]\u001b[0m\u001b[0;34m\u001b[0m\u001b[0;34m\u001b[0m\u001b[0m\n\u001b[1;32m      4\u001b[0m \u001b[0;31m# person_model=fineModel(c_type,'svm')\u001b[0m\u001b[0;34m\u001b[0m\u001b[0;34m\u001b[0m\u001b[0;34m\u001b[0m\u001b[0m\n\u001b[0;32m----> 5\u001b[0;31m \u001b[0mperson_model\u001b[0m\u001b[0;34m=\u001b[0m\u001b[0mkFoldFineModel\u001b[0m\u001b[0;34m(\u001b[0m\u001b[0mc_type\u001b[0m\u001b[0;34m,\u001b[0m\u001b[0;34m'person'\u001b[0m\u001b[0;34m,\u001b[0m\u001b[0;34m'svm'\u001b[0m\u001b[0;34m)\u001b[0m\u001b[0;34m\u001b[0m\u001b[0;34m\u001b[0m\u001b[0m\n\u001b[0m",
            "\u001b[0;32m<ipython-input-20-8ce0bbd158a3>\u001b[0m in \u001b[0;36mkFoldFineModel\u001b[0;34m(type, fine, algorithm)\u001b[0m\n\u001b[1;32m     84\u001b[0m   \u001b[0max\u001b[0m \u001b[0;34m=\u001b[0m \u001b[0msns\u001b[0m\u001b[0;34m.\u001b[0m\u001b[0mheatmap\u001b[0m\u001b[0;34m(\u001b[0m\u001b[0mcf_matrix\u001b[0m\u001b[0;34m,\u001b[0m \u001b[0mannot\u001b[0m\u001b[0;34m=\u001b[0m\u001b[0;32mTrue\u001b[0m\u001b[0;34m,\u001b[0m \u001b[0mcmap\u001b[0m\u001b[0;34m=\u001b[0m\u001b[0;34m'Blues'\u001b[0m\u001b[0;34m,\u001b[0m \u001b[0mfmt\u001b[0m\u001b[0;34m=\u001b[0m\u001b[0;34m'g'\u001b[0m\u001b[0;34m)\u001b[0m\u001b[0;34m\u001b[0m\u001b[0;34m\u001b[0m\u001b[0m\n\u001b[1;32m     85\u001b[0m \u001b[0;34m\u001b[0m\u001b[0m\n\u001b[0;32m---> 86\u001b[0;31m   \u001b[0;32mif\u001b[0m\u001b[0;34m(\u001b[0m\u001b[0mtype\u001b[0m\u001b[0;34m==\u001b[0m\u001b[0;34m'person'\u001b[0m\u001b[0;34m)\u001b[0m\u001b[0;34m:\u001b[0m\u001b[0;34m\u001b[0m\u001b[0;34m\u001b[0m\u001b[0m\n\u001b[0m\u001b[1;32m     87\u001b[0m     \u001b[0max\u001b[0m\u001b[0;34m.\u001b[0m\u001b[0mxaxis\u001b[0m\u001b[0;34m.\u001b[0m\u001b[0mset_ticklabels\u001b[0m\u001b[0;34m(\u001b[0m\u001b[0;34m[\u001b[0m\u001b[0;34m'individual'\u001b[0m\u001b[0;34m,\u001b[0m\u001b[0;34m'inventor'\u001b[0m\u001b[0;34m,\u001b[0m\u001b[0;34m'appellation'\u001b[0m\u001b[0;34m,\u001b[0m\u001b[0;34m'discoverer'\u001b[0m\u001b[0;34m]\u001b[0m\u001b[0;34m)\u001b[0m\u001b[0;34m\u001b[0m\u001b[0;34m\u001b[0m\u001b[0m\n\u001b[1;32m     88\u001b[0m     \u001b[0max\u001b[0m\u001b[0;34m.\u001b[0m\u001b[0myaxis\u001b[0m\u001b[0;34m.\u001b[0m\u001b[0mset_ticklabels\u001b[0m\u001b[0;34m(\u001b[0m\u001b[0;34m[\u001b[0m\u001b[0;34m'individual'\u001b[0m\u001b[0;34m,\u001b[0m\u001b[0;34m'inventor'\u001b[0m\u001b[0;34m,\u001b[0m\u001b[0;34m'appellation'\u001b[0m\u001b[0;34m,\u001b[0m\u001b[0;34m'discoverer'\u001b[0m\u001b[0;34m]\u001b[0m\u001b[0;34m)\u001b[0m\u001b[0;34m\u001b[0m\u001b[0;34m\u001b[0m\u001b[0m\n",
            "\u001b[0;32m/usr/local/lib/python3.7/dist-packages/pandas/core/generic.py\u001b[0m in \u001b[0;36m__nonzero__\u001b[0;34m(self)\u001b[0m\n\u001b[1;32m   1536\u001b[0m     \u001b[0;32mdef\u001b[0m \u001b[0m__nonzero__\u001b[0m\u001b[0;34m(\u001b[0m\u001b[0mself\u001b[0m\u001b[0;34m)\u001b[0m\u001b[0;34m:\u001b[0m\u001b[0;34m\u001b[0m\u001b[0;34m\u001b[0m\u001b[0m\n\u001b[1;32m   1537\u001b[0m         raise ValueError(\n\u001b[0;32m-> 1538\u001b[0;31m             \u001b[0;34mf\"The truth value of a {type(self).__name__} is ambiguous. \"\u001b[0m\u001b[0;34m\u001b[0m\u001b[0;34m\u001b[0m\u001b[0m\n\u001b[0m\u001b[1;32m   1539\u001b[0m             \u001b[0;34m\"Use a.empty, a.bool(), a.item(), a.any() or a.all().\"\u001b[0m\u001b[0;34m\u001b[0m\u001b[0;34m\u001b[0m\u001b[0m\n\u001b[1;32m   1540\u001b[0m         )\n",
            "\u001b[0;31mValueError\u001b[0m: The truth value of a DataFrame is ambiguous. Use a.empty, a.bool(), a.item(), a.any() or a.all()."
          ]
        },
        {
          "output_type": "display_data",
          "data": {
            "text/plain": [
              "<Figure size 576x504 with 2 Axes>"
            ],
            "image/png": "[encoded data removed]"
          },
          "metadata": {
            "needs_background": "light"
          }
        }
      ]
    },
    {
      "cell_type": "code",
      "metadata": {
        "id": "vTYmRihsqlI1",
        "colab": {
          "base_uri": "https://localhost:8080/",
          "height": 1000
        },
        "outputId": "c5a3ceac-2e6d-419f-e0e7-0730fa952703"
      },
      "source": [
        "#organization/Svm\n",
        "c_type=df[df['CoarseType']=='organization']\n",
        "c_type= c_type[c_type['FineType'].isin(['sport-team','bank','company'])]\n",
        "# organization_model=fineModel('person','svm')\n",
        "organization_model=kFoldFineModel(c_type,'organization','svm')"
      ],
      "execution_count": null,
      "outputs": [
        {
          "output_type": "stream",
          "name": "stdout",
          "text": [
            "['bank' 'sport-team' 'company']\n",
            "TRAIN: [ 0  1  2  3  4  6  7  8  9 10 11 12 13 14 15 16 19 20 22 23 24 25 26 27 28 29 30 32 33 34 35 36 37 38 39 40] VALIDATION: [ 5 17 18 21 31]\n",
            "TRAIN: [ 0  1  2  5  6  7  8 11 12 13 14 15 16 17 18 19 20 21 22 23 24 25 26 27 28 29 30 31 32 33 34 35 36 37 38 39 40] VALIDATION: [ 3  4  9 10]\n",
            "TRAIN: [ 0  1  2  3  4  5  6  7  8  9 10 11 12 13 14 15 16 17 18 19 20 21 22 23 25 26 28 29 30 31 32 33 34 35 36 37 38] VALIDATION: [24 27 39 40]\n",
            "TRAIN: [ 0  1  3  4  5  6  8  9 10 11 12 13 14 15 16 17 18 19 20 21 22 23 24 25 26 27 28 29 30 31 33 34 35 36 37 39 40] VALIDATION: [ 2  7 32 38]\n",
            "TRAIN: [ 0  1  2  3  4  5  6  7  8  9 10 11 12 13 16 17 18 19 21 22 23 24 25 26 27 28 29 30 31 32 34 35 36 37 38 39 40] VALIDATION: [14 15 20 33]\n",
            "TRAIN: [ 2  3  4  5  6  7  9 10 11 12 13 14 15 16 17 18 19 20 21 22 23 24 25 27 28 29 30 31 32 33 34 35 36 37 38 39 40] VALIDATION: [ 0  1  8 26]\n",
            "TRAIN: [ 0  1  2  3  4  5  6  7  8  9 10 11 13 14 15 16 17 18 19 20 21 22 23 24 25 26 27 28 29 30 31 32 33 37 38 39 40] VALIDATION: [12 34 35 36]\n",
            "TRAIN: [ 0  1  2  3  4  5  6  7  8  9 10 11 12 13 14 15 16 17 18 20 21 24 25 26 27 28 29 31 32 33 34 35 36 37 38 39 40] VALIDATION: [19 22 23 30]\n",
            "TRAIN: [ 0  1  2  3  4  5  6  7  8  9 10 12 13 14 15 16 17 18 19 20 21 22 23 24 25 26 27 30 31 32 33 34 35 36 38 39 40] VALIDATION: [11 28 29 37]\n",
            "TRAIN: [ 0  1  2  3  4  5  7  8  9 10 11 12 14 15 17 18 19 20 21 22 23 24 26 27 28 29 30 31 32 33 34 35 36 37 38 39 40] VALIDATION: [ 6 13 16 25]\n",
            "Validation Accuracy for each Iteration [0.6  0.75 0.75 0.75 0.25 0.75 0.5  0.5  0.5  0.5 ]\n",
            "Mean accuracy for validation set:  0.585\n",
            "Std for accuracy:  0.15819292019556375\n",
            "---------------------------------------------------------------------------------\n",
            "Test Accuracy : 0.5555555555555556\n",
            "              precision    recall  f1-score   support\n",
            "\n",
            "        bank       0.40      0.29      0.33         7\n",
            "  sport-team       0.50      0.40      0.44         5\n",
            "     company       0.67      1.00      0.80         6\n",
            "\n",
            "    accuracy                           0.56        18\n",
            "   macro avg       0.52      0.56      0.53        18\n",
            "weighted avg       0.52      0.56      0.52        18\n",
            "\n"
          ]
        },
        {
          "output_type": "stream",
          "name": "stderr",
          "text": [
            "/usr/local/lib/python3.7/dist-packages/sklearn/model_selection/_split.py:680: UserWarning: The least populated class in y has only 8 members, which is less than n_splits=10.\n",
            "  UserWarning,\n"
          ]
        },
        {
          "output_type": "error",
          "ename": "ValueError",
          "evalue": "ignored",
          "traceback": [
            "\u001b[0;31m---------------------------------------------------------------------------\u001b[0m",
            "\u001b[0;31mValueError\u001b[0m                                Traceback (most recent call last)",
            "\u001b[0;32m<ipython-input-24-2b817d75d37d>\u001b[0m in \u001b[0;36m<module>\u001b[0;34m()\u001b[0m\n\u001b[1;32m      3\u001b[0m \u001b[0mc_type\u001b[0m\u001b[0;34m=\u001b[0m \u001b[0mc_type\u001b[0m\u001b[0;34m[\u001b[0m\u001b[0mc_type\u001b[0m\u001b[0;34m[\u001b[0m\u001b[0;34m'FineType'\u001b[0m\u001b[0;34m]\u001b[0m\u001b[0;34m.\u001b[0m\u001b[0misin\u001b[0m\u001b[0;34m(\u001b[0m\u001b[0;34m[\u001b[0m\u001b[0;34m'sport-team'\u001b[0m\u001b[0;34m,\u001b[0m\u001b[0;34m'bank'\u001b[0m\u001b[0;34m,\u001b[0m\u001b[0;34m'company'\u001b[0m\u001b[0;34m]\u001b[0m\u001b[0;34m)\u001b[0m\u001b[0;34m]\u001b[0m\u001b[0;34m\u001b[0m\u001b[0;34m\u001b[0m\u001b[0m\n\u001b[1;32m      4\u001b[0m \u001b[0;31m# organization_model=fineModel('person','svm')\u001b[0m\u001b[0;34m\u001b[0m\u001b[0;34m\u001b[0m\u001b[0;34m\u001b[0m\u001b[0m\n\u001b[0;32m----> 5\u001b[0;31m \u001b[0morganization_model\u001b[0m\u001b[0;34m=\u001b[0m\u001b[0mkFoldFineModel\u001b[0m\u001b[0;34m(\u001b[0m\u001b[0mc_type\u001b[0m\u001b[0;34m,\u001b[0m\u001b[0;34m'organization'\u001b[0m\u001b[0;34m,\u001b[0m\u001b[0;34m'svm'\u001b[0m\u001b[0;34m)\u001b[0m\u001b[0;34m\u001b[0m\u001b[0;34m\u001b[0m\u001b[0m\n\u001b[0m",
            "\u001b[0;32m<ipython-input-20-8ce0bbd158a3>\u001b[0m in \u001b[0;36mkFoldFineModel\u001b[0;34m(type, fine, algorithm)\u001b[0m\n\u001b[1;32m     84\u001b[0m   \u001b[0max\u001b[0m \u001b[0;34m=\u001b[0m \u001b[0msns\u001b[0m\u001b[0;34m.\u001b[0m\u001b[0mheatmap\u001b[0m\u001b[0;34m(\u001b[0m\u001b[0mcf_matrix\u001b[0m\u001b[0;34m,\u001b[0m \u001b[0mannot\u001b[0m\u001b[0;34m=\u001b[0m\u001b[0;32mTrue\u001b[0m\u001b[0;34m,\u001b[0m \u001b[0mcmap\u001b[0m\u001b[0;34m=\u001b[0m\u001b[0;34m'Blues'\u001b[0m\u001b[0;34m,\u001b[0m \u001b[0mfmt\u001b[0m\u001b[0;34m=\u001b[0m\u001b[0;34m'g'\u001b[0m\u001b[0;34m)\u001b[0m\u001b[0;34m\u001b[0m\u001b[0;34m\u001b[0m\u001b[0m\n\u001b[1;32m     85\u001b[0m \u001b[0;34m\u001b[0m\u001b[0m\n\u001b[0;32m---> 86\u001b[0;31m   \u001b[0;32mif\u001b[0m\u001b[0;34m(\u001b[0m\u001b[0mtype\u001b[0m\u001b[0;34m==\u001b[0m\u001b[0;34m'person'\u001b[0m\u001b[0;34m)\u001b[0m\u001b[0;34m:\u001b[0m\u001b[0;34m\u001b[0m\u001b[0;34m\u001b[0m\u001b[0m\n\u001b[0m\u001b[1;32m     87\u001b[0m     \u001b[0max\u001b[0m\u001b[0;34m.\u001b[0m\u001b[0mxaxis\u001b[0m\u001b[0;34m.\u001b[0m\u001b[0mset_ticklabels\u001b[0m\u001b[0;34m(\u001b[0m\u001b[0;34m[\u001b[0m\u001b[0;34m'individual'\u001b[0m\u001b[0;34m,\u001b[0m\u001b[0;34m'inventor'\u001b[0m\u001b[0;34m,\u001b[0m\u001b[0;34m'appellation'\u001b[0m\u001b[0;34m,\u001b[0m\u001b[0;34m'discoverer'\u001b[0m\u001b[0;34m]\u001b[0m\u001b[0;34m)\u001b[0m\u001b[0;34m\u001b[0m\u001b[0;34m\u001b[0m\u001b[0m\n\u001b[1;32m     88\u001b[0m     \u001b[0max\u001b[0m\u001b[0;34m.\u001b[0m\u001b[0myaxis\u001b[0m\u001b[0;34m.\u001b[0m\u001b[0mset_ticklabels\u001b[0m\u001b[0;34m(\u001b[0m\u001b[0;34m[\u001b[0m\u001b[0;34m'individual'\u001b[0m\u001b[0;34m,\u001b[0m\u001b[0;34m'inventor'\u001b[0m\u001b[0;34m,\u001b[0m\u001b[0;34m'appellation'\u001b[0m\u001b[0;34m,\u001b[0m\u001b[0;34m'discoverer'\u001b[0m\u001b[0;34m]\u001b[0m\u001b[0;34m)\u001b[0m\u001b[0;34m\u001b[0m\u001b[0;34m\u001b[0m\u001b[0m\n",
            "\u001b[0;32m/usr/local/lib/python3.7/dist-packages/pandas/core/generic.py\u001b[0m in \u001b[0;36m__nonzero__\u001b[0;34m(self)\u001b[0m\n\u001b[1;32m   1536\u001b[0m     \u001b[0;32mdef\u001b[0m \u001b[0m__nonzero__\u001b[0m\u001b[0;34m(\u001b[0m\u001b[0mself\u001b[0m\u001b[0;34m)\u001b[0m\u001b[0;34m:\u001b[0m\u001b[0;34m\u001b[0m\u001b[0;34m\u001b[0m\u001b[0m\n\u001b[1;32m   1537\u001b[0m         raise ValueError(\n\u001b[0;32m-> 1538\u001b[0;31m             \u001b[0;34mf\"The truth value of a {type(self).__name__} is ambiguous. \"\u001b[0m\u001b[0;34m\u001b[0m\u001b[0;34m\u001b[0m\u001b[0m\n\u001b[0m\u001b[1;32m   1539\u001b[0m             \u001b[0;34m\"Use a.empty, a.bool(), a.item(), a.any() or a.all().\"\u001b[0m\u001b[0;34m\u001b[0m\u001b[0;34m\u001b[0m\u001b[0m\n\u001b[1;32m   1540\u001b[0m         )\n",
            "\u001b[0;31mValueError\u001b[0m: The truth value of a DataFrame is ambiguous. Use a.empty, a.bool(), a.item(), a.any() or a.all()."
          ]
        },
        {
          "output_type": "display_data",
          "data": {
            "text/plain": [
              "<Figure size 576x504 with 2 Axes>"
            ],
            "image/png": "[encoded data removed]"
          },
          "metadata": {
            "needs_background": "light"
          }
        }
      ]
    },
    {
      "cell_type": "code",
      "metadata": {
        "colab": {
          "base_uri": "https://localhost:8080/",
          "height": 200
        },
        "id": "h9CnG7MWrIUN",
        "outputId": "51930e5e-79bd-4d92-925a-f1c4d2517586"
      },
      "source": [
        "#location/Svm\n",
        "c_type=df[df['CoarseType']=='location']\n",
        "c_type= c_type[c_type['FineType'].isin(['country','city','district','river','region','state','address'])]\n",
        "# location_model=fineModel(c_type,'svm')\n",
        "location_model=kFoldFineModel(c_type,'svm')"
      ],
      "execution_count": null,
      "outputs": [
        {
          "output_type": "error",
          "ename": "TypeError",
          "evalue": "ignored",
          "traceback": [
            "\u001b[0;31m---------------------------------------------------------------------------\u001b[0m",
            "\u001b[0;31mTypeError\u001b[0m                                 Traceback (most recent call last)",
            "\u001b[0;32m<ipython-input-25-c9e699f6fcab>\u001b[0m in \u001b[0;36m<module>\u001b[0;34m()\u001b[0m\n\u001b[1;32m      3\u001b[0m \u001b[0mc_type\u001b[0m\u001b[0;34m=\u001b[0m \u001b[0mc_type\u001b[0m\u001b[0;34m[\u001b[0m\u001b[0mc_type\u001b[0m\u001b[0;34m[\u001b[0m\u001b[0;34m'FineType'\u001b[0m\u001b[0;34m]\u001b[0m\u001b[0;34m.\u001b[0m\u001b[0misin\u001b[0m\u001b[0;34m(\u001b[0m\u001b[0;34m[\u001b[0m\u001b[0;34m'country'\u001b[0m\u001b[0;34m,\u001b[0m\u001b[0;34m'city'\u001b[0m\u001b[0;34m,\u001b[0m\u001b[0;34m'district'\u001b[0m\u001b[0;34m,\u001b[0m\u001b[0;34m'river'\u001b[0m\u001b[0;34m,\u001b[0m\u001b[0;34m'region'\u001b[0m\u001b[0;34m,\u001b[0m\u001b[0;34m'state'\u001b[0m\u001b[0;34m,\u001b[0m\u001b[0;34m'address'\u001b[0m\u001b[0;34m]\u001b[0m\u001b[0;34m)\u001b[0m\u001b[0;34m]\u001b[0m\u001b[0;34m\u001b[0m\u001b[0;34m\u001b[0m\u001b[0m\n\u001b[1;32m      4\u001b[0m \u001b[0;31m# location_model=fineModel(c_type,'svm')\u001b[0m\u001b[0;34m\u001b[0m\u001b[0;34m\u001b[0m\u001b[0;34m\u001b[0m\u001b[0m\n\u001b[0;32m----> 5\u001b[0;31m \u001b[0mlocation_model\u001b[0m\u001b[0;34m=\u001b[0m\u001b[0mkFoldFineModel\u001b[0m\u001b[0;34m(\u001b[0m\u001b[0mc_type\u001b[0m\u001b[0;34m,\u001b[0m\u001b[0;34m'svm'\u001b[0m\u001b[0;34m)\u001b[0m\u001b[0;34m\u001b[0m\u001b[0;34m\u001b[0m\u001b[0m\n\u001b[0m",
            "\u001b[0;31mTypeError\u001b[0m: kFoldFineModel() missing 1 required positional argument: 'algorithm'"
          ]
        }
      ]
    },
    {
      "cell_type": "code",
      "metadata": {
        "colab": {
          "base_uri": "https://localhost:8080/",
          "height": 1000
        },
        "id": "dqBhTWhYrTr_",
        "outputId": "f3822b12-8732-4f25-e0d6-9c6e35cff9d1"
      },
      "source": [
        "#temporal/Svm\n",
        "c_type=df[df['CoarseType']=='temporal']\n",
        "c_type= c_type[c_type['FineType'].isin(['date','duration','day','year','range'])]\n",
        "# temporal_model=fineModel(c_type,'svm')\n",
        "temporal_model=kFoldFineModel(c_type,'temporal','svm')"
      ],
      "execution_count": null,
      "outputs": [
        {
          "output_type": "stream",
          "name": "stdout",
          "text": [
            "['date' 'duration' 'day' 'year' 'range']\n",
            "TRAIN: [  0   2   3   4 ... 698 699 700 701] VALIDATION: [  1   6  16  34 ... 675 682 695 702]\n"
          ]
        },
        {
          "output_type": "stream",
          "name": "stderr",
          "text": [
            "/usr/local/lib/python3.7/dist-packages/sklearn/model_selection/_split.py:680: UserWarning: The least populated class in y has only 5 members, which is less than n_splits=10.\n",
            "  UserWarning,\n"
          ]
        },
        {
          "output_type": "stream",
          "name": "stdout",
          "text": [
            "TRAIN: [  0   1   2   3 ... 698 700 701 702] VALIDATION: [  4   8  26  27 ... 684 687 688 699]\n",
            "TRAIN: [  0   1   2   3 ... 698 699 700 702] VALIDATION: [ 15  20  32  37 ... 685 692 697 701]\n",
            "TRAIN: [  0   1   2   3 ... 699 700 701 702] VALIDATION: [ 30  40  66  74 ... 645 655 669 681]\n",
            "TRAIN: [  0   1   2   4 ... 699 700 701 702] VALIDATION: [  3   7  10  19 ... 660 663 670 676]\n",
            "TRAIN: [  0   1   2   3 ... 699 700 701 702] VALIDATION: [ 11  25  29  57 ... 674 680 691 696]\n",
            "TRAIN: [  0   1   2   3 ... 699 700 701 702] VALIDATION: [ 12  13  14  18 ... 658 667 679 693]\n",
            "TRAIN: [  0   1   3   4 ... 699 700 701 702] VALIDATION: [  2   5  35  39 ... 639 653 656 686]\n",
            "TRAIN: [  1   2   3   4 ... 699 700 701 702] VALIDATION: [  0  21  24  43 ... 664 689 690 698]\n",
            "TRAIN: [  0   1   2   3 ... 698 699 701 702] VALIDATION: [  9  17  38  71 ... 677 683 694 700]\n",
            "Validation Accuracy for each Iteration [0.943662 0.929577 0.929577 0.942857 0.928571 0.928571 0.928571 0.942857 0.942857 0.942857]\n",
            "Mean accuracy for validation set:  0.9359959758551307\n",
            "Std for accuracy:  0.007034459613520919\n",
            "---------------------------------------------------------------------------------\n",
            "Test Accuracy : 0.9370860927152318\n",
            "              precision    recall  f1-score   support\n",
            "\n",
            "        date       0.94      1.00      0.97       270\n",
            "    duration       1.00      0.20      0.33         5\n",
            "         day       0.87      0.76      0.81        17\n",
            "        year       0.00      0.00      0.00         6\n",
            "       range       0.00      0.00      0.00         4\n",
            "\n",
            "    accuracy                           0.94       302\n",
            "   macro avg       0.56      0.39      0.42       302\n",
            "weighted avg       0.91      0.94      0.92       302\n",
            "\n"
          ]
        },
        {
          "output_type": "stream",
          "name": "stderr",
          "text": [
            "/usr/local/lib/python3.7/dist-packages/sklearn/metrics/_classification.py:1318: UndefinedMetricWarning: Precision and F-score are ill-defined and being set to 0.0 in labels with no predicted samples. Use `zero_division` parameter to control this behavior.\n",
            "  _warn_prf(average, modifier, msg_start, len(result))\n",
            "/usr/local/lib/python3.7/dist-packages/sklearn/metrics/_classification.py:1318: UndefinedMetricWarning: Precision and F-score are ill-defined and being set to 0.0 in labels with no predicted samples. Use `zero_division` parameter to control this behavior.\n",
            "  _warn_prf(average, modifier, msg_start, len(result))\n",
            "/usr/local/lib/python3.7/dist-packages/sklearn/metrics/_classification.py:1318: UndefinedMetricWarning: Precision and F-score are ill-defined and being set to 0.0 in labels with no predicted samples. Use `zero_division` parameter to control this behavior.\n",
            "  _warn_prf(average, modifier, msg_start, len(result))\n"
          ]
        },
        {
          "output_type": "error",
          "ename": "ValueError",
          "evalue": "ignored",
          "traceback": [
            "\u001b[0;31m---------------------------------------------------------------------------\u001b[0m",
            "\u001b[0;31mValueError\u001b[0m                                Traceback (most recent call last)",
            "\u001b[0;32m<ipython-input-200-44fce4d917a3>\u001b[0m in \u001b[0;36m<module>\u001b[0;34m()\u001b[0m\n\u001b[1;32m      3\u001b[0m \u001b[0mc_type\u001b[0m\u001b[0;34m=\u001b[0m \u001b[0mc_type\u001b[0m\u001b[0;34m[\u001b[0m\u001b[0mc_type\u001b[0m\u001b[0;34m[\u001b[0m\u001b[0;34m'FineType'\u001b[0m\u001b[0;34m]\u001b[0m\u001b[0;34m.\u001b[0m\u001b[0misin\u001b[0m\u001b[0;34m(\u001b[0m\u001b[0;34m[\u001b[0m\u001b[0;34m'date'\u001b[0m\u001b[0;34m,\u001b[0m\u001b[0;34m'duration'\u001b[0m\u001b[0;34m,\u001b[0m\u001b[0;34m'day'\u001b[0m\u001b[0;34m,\u001b[0m\u001b[0;34m'year'\u001b[0m\u001b[0;34m,\u001b[0m\u001b[0;34m'range'\u001b[0m\u001b[0;34m]\u001b[0m\u001b[0;34m)\u001b[0m\u001b[0;34m]\u001b[0m\u001b[0;34m\u001b[0m\u001b[0;34m\u001b[0m\u001b[0m\n\u001b[1;32m      4\u001b[0m \u001b[0;31m# temporal_model=fineModel(c_type,'svm')\u001b[0m\u001b[0;34m\u001b[0m\u001b[0;34m\u001b[0m\u001b[0;34m\u001b[0m\u001b[0m\n\u001b[0;32m----> 5\u001b[0;31m \u001b[0mtemporal_model\u001b[0m\u001b[0;34m=\u001b[0m\u001b[0mkFoldFineModel\u001b[0m\u001b[0;34m(\u001b[0m\u001b[0mc_type\u001b[0m\u001b[0;34m,\u001b[0m\u001b[0;34m'temporal'\u001b[0m\u001b[0;34m,\u001b[0m\u001b[0;34m'svm'\u001b[0m\u001b[0;34m)\u001b[0m\u001b[0;34m\u001b[0m\u001b[0;34m\u001b[0m\u001b[0m\n\u001b[0m",
            "\u001b[0;32m<ipython-input-195-8ce0bbd158a3>\u001b[0m in \u001b[0;36mkFoldFineModel\u001b[0;34m(type, fine, algorithm)\u001b[0m\n\u001b[1;32m     84\u001b[0m   \u001b[0max\u001b[0m \u001b[0;34m=\u001b[0m \u001b[0msns\u001b[0m\u001b[0;34m.\u001b[0m\u001b[0mheatmap\u001b[0m\u001b[0;34m(\u001b[0m\u001b[0mcf_matrix\u001b[0m\u001b[0;34m,\u001b[0m \u001b[0mannot\u001b[0m\u001b[0;34m=\u001b[0m\u001b[0;32mTrue\u001b[0m\u001b[0;34m,\u001b[0m \u001b[0mcmap\u001b[0m\u001b[0;34m=\u001b[0m\u001b[0;34m'Blues'\u001b[0m\u001b[0;34m,\u001b[0m \u001b[0mfmt\u001b[0m\u001b[0;34m=\u001b[0m\u001b[0;34m'g'\u001b[0m\u001b[0;34m)\u001b[0m\u001b[0;34m\u001b[0m\u001b[0;34m\u001b[0m\u001b[0m\n\u001b[1;32m     85\u001b[0m \u001b[0;34m\u001b[0m\u001b[0m\n\u001b[0;32m---> 86\u001b[0;31m   \u001b[0;32mif\u001b[0m\u001b[0;34m(\u001b[0m\u001b[0mtype\u001b[0m\u001b[0;34m==\u001b[0m\u001b[0;34m'person'\u001b[0m\u001b[0;34m)\u001b[0m\u001b[0;34m:\u001b[0m\u001b[0;34m\u001b[0m\u001b[0;34m\u001b[0m\u001b[0m\n\u001b[0m\u001b[1;32m     87\u001b[0m     \u001b[0max\u001b[0m\u001b[0;34m.\u001b[0m\u001b[0mxaxis\u001b[0m\u001b[0;34m.\u001b[0m\u001b[0mset_ticklabels\u001b[0m\u001b[0;34m(\u001b[0m\u001b[0;34m[\u001b[0m\u001b[0;34m'individual'\u001b[0m\u001b[0;34m,\u001b[0m\u001b[0;34m'inventor'\u001b[0m\u001b[0;34m,\u001b[0m\u001b[0;34m'appellation'\u001b[0m\u001b[0;34m,\u001b[0m\u001b[0;34m'discoverer'\u001b[0m\u001b[0;34m]\u001b[0m\u001b[0;34m)\u001b[0m\u001b[0;34m\u001b[0m\u001b[0;34m\u001b[0m\u001b[0m\n\u001b[1;32m     88\u001b[0m     \u001b[0max\u001b[0m\u001b[0;34m.\u001b[0m\u001b[0myaxis\u001b[0m\u001b[0;34m.\u001b[0m\u001b[0mset_ticklabels\u001b[0m\u001b[0;34m(\u001b[0m\u001b[0;34m[\u001b[0m\u001b[0;34m'individual'\u001b[0m\u001b[0;34m,\u001b[0m\u001b[0;34m'inventor'\u001b[0m\u001b[0;34m,\u001b[0m\u001b[0;34m'appellation'\u001b[0m\u001b[0;34m,\u001b[0m\u001b[0;34m'discoverer'\u001b[0m\u001b[0;34m]\u001b[0m\u001b[0;34m)\u001b[0m\u001b[0;34m\u001b[0m\u001b[0;34m\u001b[0m\u001b[0m\n",
            "\u001b[0;32m/usr/local/lib/python3.7/dist-packages/pandas/core/generic.py\u001b[0m in \u001b[0;36m__nonzero__\u001b[0;34m(self)\u001b[0m\n\u001b[1;32m   1536\u001b[0m     \u001b[0;32mdef\u001b[0m \u001b[0m__nonzero__\u001b[0m\u001b[0;34m(\u001b[0m\u001b[0mself\u001b[0m\u001b[0;34m)\u001b[0m\u001b[0;34m:\u001b[0m\u001b[0;34m\u001b[0m\u001b[0;34m\u001b[0m\u001b[0m\n\u001b[1;32m   1537\u001b[0m         raise ValueError(\n\u001b[0;32m-> 1538\u001b[0;31m             \u001b[0;34mf\"The truth value of a {type(self).__name__} is ambiguous. \"\u001b[0m\u001b[0;34m\u001b[0m\u001b[0;34m\u001b[0m\u001b[0m\n\u001b[0m\u001b[1;32m   1539\u001b[0m             \u001b[0;34m\"Use a.empty, a.bool(), a.item(), a.any() or a.all().\"\u001b[0m\u001b[0;34m\u001b[0m\u001b[0;34m\u001b[0m\u001b[0m\n\u001b[1;32m   1540\u001b[0m         )\n",
            "\u001b[0;31mValueError\u001b[0m: The truth value of a DataFrame is ambiguous. Use a.empty, a.bool(), a.item(), a.any() or a.all()."
          ]
        },
        {
          "output_type": "display_data",
          "data": {
            "text/plain": [
              "<Figure size 576x504 with 2 Axes>"
            ],
            "image/png": "[encoded data removed]"
          },
          "metadata": {
            "needs_background": "light"
          }
        }
      ]
    },
    {
      "cell_type": "code",
      "metadata": {
        "colab": {
          "base_uri": "https://localhost:8080/"
        },
        "id": "6XF1Prwerc38",
        "outputId": "e5d6c73c-72a0-4498-ef9a-00d060d1c8ef"
      },
      "source": [
        "#numerical/Svm\n",
        "c_type=df[df['CoarseType']=='numerical']\n",
        "c_type= c_type[c_type['FineType'].isin(['count','percentage','rank','length','money','temperture'])]\n",
        "# numerical_model=fineModel(c_type,'svm')\n",
        "numerical_model=kFoldFineModel(c_type,'svm')"
      ],
      "execution_count": null,
      "outputs": [
        {
          "output_type": "stream",
          "name": "stdout",
          "text": [
            "['rank' 'money' 'percentage' 'count' 'length' 'temperture']\n",
            "TRAIN: [  0   1   3   4 ... 363 364 365 366] VALIDATION: [  2   5  17  22  35  46  49  53  59  66  71  79 112 130 131 162 171 176 185 205 209 213 221 238 239 251 257 270 291\n",
            " 304 307 315 332 335 336 339 349]\n",
            "TRAIN: [  0   1   2   3 ... 362 363 365 366] VALIDATION: [  4   6  23  29  41  43  47  63  65  70  77  85  87 129 133 135 139 144 158 179 190 208 225 230 241 252 258 272 286\n",
            " 289 290 298 310 311 340 359 364]\n",
            "TRAIN: [  0   1   2   3 ... 363 364 365 366] VALIDATION: [  7   8  24  38  56  68  84  86 103 114 116 119 122 123 141 142 151 166 183 188 197 204 224 227 235 243 265 269 285\n",
            " 293 305 308 309 313 314 319 326]\n",
            "TRAIN: [  1   2   3   4 ... 363 364 365 366] VALIDATION: [  0   9  20  69  73  88  93 104 109 110 111 136 145 165 173 178 180 203 210 211 218 219 223 228 236 242 246 271 281\n",
            " 283 288 321 323 342 347 350 355]\n",
            "TRAIN: [  0   2   3   4 ... 363 364 365 366] VALIDATION: [  1  12  13  14  28  34  36  57  80  82  94  99 101 117 120 121 128 137 138 146 150 154 155 172 187 206 226 232 248\n",
            " 256 260 279 284 322 324 334 337]\n",
            "TRAIN: [  0   1   2   3 ... 363 364 365 366] VALIDATION: [ 10  15  32  40  48  54  62  64  72  83  90  96  98 107 108 115 164 170 184 186 196 222 249 255 267 273 282 287 296\n",
            " 299 302 306 312 317 344 351 362]\n",
            "TRAIN: [  0   1   2   4 ... 362 364 365 366] VALIDATION: [  3  11  31  95 113 124 126 132 147 153 168 181 198 201 220 229 231 237 244 254 262 266 280 294 318 320 327 330 333\n",
            " 341 345 348 354 357 360 361 363]\n",
            "TRAIN: [  0   1   2   3 ... 362 363 364 365] VALIDATION: [ 16  18  27  30  39  42  44  55  58  67  76  78  81  97 106 125 134 143 148 152 169 193 195 207 212 217 247 253 261\n",
            " 263 264 276 328 329 358 366]\n",
            "TRAIN: [  0   1   2   3 ... 362 363 364 366] VALIDATION: [ 19  21  25  37  50  60  61 118 127 156 157 159 163 167 177 191 192 199 202 215 216 245 250 259 274 278 292 295 300\n",
            " 301 303 325 331 338 346 365]\n",
            "TRAIN: [  0   1   2   3 ... 363 364 365 366] VALIDATION: [ 26  33  45  51  52  74  75  89  91  92 100 102 105 140 149 160 161 174 175 182 189 194 200 214 233 234 240 268 275\n",
            " 277 297 316 343 352 353 356]\n",
            "Validation Accuracy for each Iteration [0.891892 0.756757 0.756757 0.702703 0.864865 0.783784 0.675676 0.722222 0.861111 0.833333]\n",
            "Mean accuracy for validation set:  0.7849099099099098\n",
            "Std for accuracy:  0.0708489573313194\n",
            "---------------------------------------------------------------------------------\n",
            "Test Accuracy : 0.7658227848101266\n",
            "              precision    recall  f1-score   support\n",
            "\n",
            "        rank       0.74      0.96      0.83        89\n",
            "       money       1.00      0.50      0.67        10\n",
            "  percentage       1.00      0.29      0.44         7\n",
            "       count       0.80      0.80      0.80        25\n",
            "      length       0.78      0.29      0.42        24\n",
            "  temperture       1.00      0.67      0.80         3\n",
            "\n",
            "    accuracy                           0.77       158\n",
            "   macro avg       0.89      0.58      0.66       158\n",
            "weighted avg       0.79      0.77      0.74       158\n",
            "\n"
          ]
        }
      ]
    },
    {
      "cell_type": "code",
      "metadata": {
        "id": "v2U_m-1Nrqkd",
        "colab": {
          "base_uri": "https://localhost:8080/"
        },
        "outputId": "9ab3766d-40e8-481e-87bb-824753c2eb5b"
      },
      "source": [
        "#explanation/Svm\n",
        "c_type=df[df['CoarseType']=='explanation']\n",
        "c_type= c_type[c_type['FineType'].isin(['description','method','reason'])]\n",
        "# explanation_model=fineModel(c_type,'svm')\n",
        "explanation_model=kFoldFineModel(c_type,'svm')"
      ],
      "execution_count": null,
      "outputs": [
        {
          "output_type": "stream",
          "name": "stdout",
          "text": [
            "['description' 'reason' 'method']\n",
            "TRAIN: [  0   1   3   4 ... 108 109 110 111] VALIDATION: [  2   8  11  12  15  35  54  63  71  72  90 105]\n",
            "TRAIN: [  0   1   2   3 ... 108 109 110 111] VALIDATION: [10 24 27 31 36 68 76 81 83 85 89 96]\n",
            "TRAIN: [  0   1   2   3 ... 108 109 110 111] VALIDATION: [ 23  40  43  57  62  86  87  94  97  98 106]\n",
            "TRAIN: [  1   2   3   4 ... 108 109 110 111] VALIDATION: [ 0  5 16 17 44 46 52 53 60 74 93]\n",
            "TRAIN: [  0   1   2   3 ... 106 109 110 111] VALIDATION: [  4   7   9  32  41  51  59  65 102 107 108]\n"
          ]
        },
        {
          "output_type": "stream",
          "name": "stderr",
          "text": [
            "/usr/local/lib/python3.7/dist-packages/sklearn/model_selection/_split.py:680: UserWarning: The least populated class in y has only 1 members, which is less than n_splits=10.\n",
            "  UserWarning,\n"
          ]
        },
        {
          "output_type": "stream",
          "name": "stdout",
          "text": [
            "TRAIN: [  0   1   2   3 ... 108 109 110 111] VALIDATION: [ 25  26  29  34  37  39  56  61  69  84 103]\n",
            "TRAIN: [  0   1   2   3 ... 107 108 110 111] VALIDATION: [ 21  22  30  45  49  58  64  67  77  79 109]\n",
            "TRAIN: [  0   1   2   3 ... 107 108 109 110] VALIDATION: [  6  38  42  55  82  92  95  99 101 104 111]\n",
            "TRAIN: [  0   2   3   4 ... 108 109 110 111] VALIDATION: [  1  14  18  19  33  47  48  70  73  88 100]\n",
            "TRAIN: [  0   1   2   4 ... 107 108 109 111] VALIDATION: [  3  13  20  28  50  66  75  78  80  91 110]\n",
            "Validation Accuracy for each Iteration [1.       0.916667 1.       0.909091 1.       1.       1.       1.       1.       1.      ]\n",
            "Mean accuracy for validation set:  0.9825757575757577\n",
            "Std for accuracy:  0.034889633150513515\n",
            "---------------------------------------------------------------------------------\n",
            "Test Accuracy : 0.8571428571428571\n",
            "              precision    recall  f1-score   support\n",
            "\n",
            " description       0.85      1.00      0.92        41\n",
            "      reason       1.00      0.50      0.67         2\n",
            "      method       0.00      0.00      0.00         6\n",
            "\n",
            "    accuracy                           0.86        49\n",
            "   macro avg       0.62      0.50      0.53        49\n",
            "weighted avg       0.76      0.86      0.80        49\n",
            "\n"
          ]
        },
        {
          "output_type": "stream",
          "name": "stderr",
          "text": [
            "/usr/local/lib/python3.7/dist-packages/sklearn/metrics/_classification.py:1318: UndefinedMetricWarning: Precision and F-score are ill-defined and being set to 0.0 in labels with no predicted samples. Use `zero_division` parameter to control this behavior.\n",
            "  _warn_prf(average, modifier, msg_start, len(result))\n",
            "/usr/local/lib/python3.7/dist-packages/sklearn/metrics/_classification.py:1318: UndefinedMetricWarning: Precision and F-score are ill-defined and being set to 0.0 in labels with no predicted samples. Use `zero_division` parameter to control this behavior.\n",
            "  _warn_prf(average, modifier, msg_start, len(result))\n",
            "/usr/local/lib/python3.7/dist-packages/sklearn/metrics/_classification.py:1318: UndefinedMetricWarning: Precision and F-score are ill-defined and being set to 0.0 in labels with no predicted samples. Use `zero_division` parameter to control this behavior.\n",
            "  _warn_prf(average, modifier, msg_start, len(result))\n"
          ]
        }
      ]
    },
    {
      "cell_type": "code",
      "metadata": {
        "id": "Oa18Ii91r9e2",
        "colab": {
          "base_uri": "https://localhost:8080/"
        },
        "outputId": "557003fc-5c3c-4e68-e582-2e7b9e699876"
      },
      "source": [
        "#miscelleneous/Svm\n",
        "c_type=df[df['CoarseType']=='miscellaneous']\n",
        "c_type= c_type[c_type['FineType'].isin(['material','animal','device','sport','book','planet','color','religon','disease','language'])]\n",
        "# miscellaneous_model=fineModel(c_type,'svm')\n",
        "miscellaneous_model=kFoldFineModel(c_type,'svm')"
      ],
      "execution_count": null,
      "outputs": [
        {
          "output_type": "stream",
          "name": "stdout",
          "text": [
            "['language' 'device' 'color' 'planet' 'book' 'sport' 'animal' 'material' 'disease']\n",
            "TRAIN: [  0   1   2   3 ... 144 145 147 148] VALIDATION: [ 20  27  38  42  49  60  73  89 103 110 117 118 124 132 146]\n",
            "TRAIN: [  0   1   2   3 ... 145 146 147 148] VALIDATION: [ 15  22  34  66  70  76  80  87  88  93  99 104 141 143 144]\n",
            "TRAIN: [  0   1   2   3 ... 145 146 147 148] VALIDATION: [  8  10  36  56  62  64  67  74  77  78  86  95 102 108 137]\n",
            "TRAIN: [  0   1   2   3 ... 145 146 147 148] VALIDATION: [  4   7   9  14  17  43  68  82  85 100 101 119 121 139 142]\n",
            "TRAIN: [  0   3   4   5 ... 145 146 147 148] VALIDATION: [  1   2  11  18  25  35  37  39  44  57  65  72  75 114 123]\n",
            "TRAIN: [  0   1   2   3 ... 144 145 146 147] VALIDATION: [ 12  33  47  55  83  90  92  98 115 116 122 126 127 130 148]\n"
          ]
        },
        {
          "output_type": "stream",
          "name": "stderr",
          "text": [
            "/usr/local/lib/python3.7/dist-packages/sklearn/model_selection/_split.py:680: UserWarning: The least populated class in y has only 4 members, which is less than n_splits=10.\n",
            "  UserWarning,\n"
          ]
        },
        {
          "output_type": "stream",
          "name": "stdout",
          "text": [
            "TRAIN: [  0   1   2   4 ... 145 146 147 148] VALIDATION: [  3  19  24  29  48  54  59  61  71  81 107 109 120 128 138]\n",
            "TRAIN: [  0   1   2   3 ... 144 146 147 148] VALIDATION: [  6  13  16  26  30  41  45  46  69  79  91 106 134 136 145]\n",
            "TRAIN: [  1   2   3   4 ... 145 146 147 148] VALIDATION: [  0   5  21  31  32  50  51  53  94  97 105 112 125 131 135]\n",
            "TRAIN: [  0   1   2   3 ... 144 145 146 148] VALIDATION: [ 23  28  40  52  58  63  84  96 111 113 129 133 140 147]\n",
            "Validation Accuracy for each Iteration [0.8      0.666667 0.6      0.733333 0.6      0.733333 0.733333 0.6      0.533333 0.571429]\n",
            "Mean accuracy for validation set:  0.6571428571428571\n",
            "Std for accuracy:  0.08389605922112472\n",
            "---------------------------------------------------------------------------------\n",
            "Test Accuracy : 0.49230769230769234\n",
            "              precision    recall  f1-score   support\n",
            "\n",
            "    language       0.75      0.43      0.55        14\n",
            "      device       0.50      0.20      0.29         5\n",
            "       color       1.00      0.20      0.33         5\n",
            "      planet       0.35      0.86      0.50         7\n",
            "        book       0.00      0.00      0.00         3\n",
            "       sport       0.00      0.00      0.00         3\n",
            "      animal       0.59      0.72      0.65        18\n",
            "    material       0.43      1.00      0.60         3\n",
            "     disease       0.29      0.29      0.29         7\n",
            "\n",
            "    accuracy                           0.49        65\n",
            "   macro avg       0.43      0.41      0.36        65\n",
            "weighted avg       0.53      0.49      0.46        65\n",
            "\n"
          ]
        },
        {
          "output_type": "stream",
          "name": "stderr",
          "text": [
            "/usr/local/lib/python3.7/dist-packages/sklearn/metrics/_classification.py:1318: UndefinedMetricWarning: Precision and F-score are ill-defined and being set to 0.0 in labels with no predicted samples. Use `zero_division` parameter to control this behavior.\n",
            "  _warn_prf(average, modifier, msg_start, len(result))\n",
            "/usr/local/lib/python3.7/dist-packages/sklearn/metrics/_classification.py:1318: UndefinedMetricWarning: Precision and F-score are ill-defined and being set to 0.0 in labels with no predicted samples. Use `zero_division` parameter to control this behavior.\n",
            "  _warn_prf(average, modifier, msg_start, len(result))\n",
            "/usr/local/lib/python3.7/dist-packages/sklearn/metrics/_classification.py:1318: UndefinedMetricWarning: Precision and F-score are ill-defined and being set to 0.0 in labels with no predicted samples. Use `zero_division` parameter to control this behavior.\n",
            "  _warn_prf(average, modifier, msg_start, len(result))\n"
          ]
        }
      ]
    },
    {
      "cell_type": "markdown",
      "metadata": {
        "id": "xw-qHD72ccUn"
      },
      "source": [
        "**Overall Prediction**"
      ]
    },
    {
      "cell_type": "code",
      "metadata": {
        "colab": {
          "base_uri": "https://localhost:8080/"
        },
        "id": "a2AXhSrzeA8j",
        "outputId": "64b69aad-b0df-4e71-cc5a-cf127f6ae7e6"
      },
      "source": [
        "unseen_questions=[[\"सन् २०२० मार्चमा प्रदान गरिएको इन्टरनेसनल कम्युनिकेसन अवार्ड बाट सम्मानित व्यत्तित्व को हनुहुन्छ ? \"],[\"नेपाल न्यून आय भएका मुलुकबाट न्यून मध्यम आय भएका मुलुकको सूचीमा कहिले स्तरोन्नति भएको हो ? \"],\n",
        "                      [\"वि.सं. २०७७ असार २३ सरकारले नेपाल प्रहरी महानिरीक्षक (आईजीपी) मा कसलाई नियुक्त गर्यो ?\"],[\"हाल रेडियो नेपालबाट कति भाषामा समाचार प्रसारण हुने गर्छ ?\"],\n",
        "                      [\"समाजसेवी तथा शिक्षाविद् अङ्गुरबाबा जोशीको निधन कहिले भएको हो ?\"],[\"सन् २०२० जुनमा सुरक्षा परिषदको अस्थायी सदस्यमा निर्वाचित हुन सफल राष्ट्र कुन कुन हुन ?\"],\n",
        "                      [\"'एक वडा एक व्यायामशाला' निमाणको योजना अघि बढाउने स्थानीय तह कुन हो ?\"],[\"बालबालिकाको क्षेत्रमा काम गर्ने अन्तर्राष्ट्रिय संस्था किवानिज इन्टरनेसनलको एसिया प्यासिफिक सम्मेलन हालै कहाँ सम्पन्न भयो ?\"],\n",
        "                      [\"लोकसेवा आयोग विधेयक प्रतिनिधिसभाबाट कहिले पारित भएको हो ?\"],[\"नेपालमा कृषक परिचयपत्र वितरण गर्ने कार्य कुन जिल्लाबाट सुरु गरिएको हो ?\"],\n",
        "                      [\"विश्व बैंकद्वारा विसं २०७६ कात्तिक ७ मा सार्वजनिक डुइङ बिजनेस प्रतिवेदन २०२० अनुसार नेपाल कतिऔं स्थानमा रहेको छ ?\"],['नेपाली पोर्टको शुभारम्भ कहिले भएको हो ?'],\n",
        "                      [\"सन्  २०१९/२० को विस्डन क्रिकेटर अफ द इयरको उपाधि जित्ने क्रिकेटर को हुन ?\"],['सबै जिल्लामा स्वास्थ्य विमा सेवा लागु गर्ने पहिलो प्रदेश कुन हो ?']]\n",
        "dfq=pd.DataFrame(unseen_questions,columns=['questions'])\n",
        "\n",
        "dfq['questions']= preprocessing(dfq['questions'])\n",
        "validation_questions=dfq['questions'].to_numpy()\n",
        "\n",
        "\n",
        "print(\"SVM Model\")\n",
        "for question in validation_questions:\n",
        "  question=[question]\n",
        "  # test_pred= svm_model.predict(question)\n",
        "  test_pred= k_fold_svm_model.predict(question)\n",
        "  coarse_type=test_pred[0]\n",
        "  if(coarse_type=='person'):\n",
        "    fine_type=person_model.predict(question)\n",
        "  elif(coarse_type=='organization'):\n",
        "    fine_type=organization_model.predict(question)\n",
        "  elif(coarse_type=='location'):\n",
        "    fine_type=location_model.predict(question)\n",
        "  elif(coarse_type=='temporal'):\n",
        "    fine_type=temporal_model.predict(question)\n",
        "  elif(coarse_type=='numerical'):\n",
        "    fine_type=numerical_model.predict(question)\n",
        "  elif(coarse_type=='explanation'):\n",
        "    fine_type=explanation_model.predict(question)\n",
        "  elif(coarse_type=='miscellaneous'):\n",
        "    fine_type=miscellaneous_model.predict(question)\n",
        "  else:\n",
        "    print(\"Coarse type didn't match\")\n",
        "\n",
        "  print(question[0] +\" \"+ coarse_type+ \" : \" +fine_type[0])\n",
        "print('\\n')"
      ],
      "execution_count": null,
      "outputs": [
        {
          "output_type": "stream",
          "name": "stdout",
          "text": [
            "SVM Model\n",
            "सन् २०२० मार्च प्रदान गरिएको इन्टरनेसनल कम्युन िक ेसन अवार्ड बाट सम्मानित व्य त्ति त्व को हन ुहुन्छ miscellaneous : sport\n",
            "नेपाल न्यून आय भएका मुलुक बाट मध्यम मुलुकको सूची कहिले स्तर ो न्न ति temporal : date\n",
            "वि सं २०७७ असार २३ सरकार नेपाल प्रहरी महानिरीक्षक कस नियुक्त गर्यो person : individual\n",
            "हाल रेडियो नेपाल बाट कति भाषामा समाचार प्रसारण numerical : count\n",
            "समाजसेवी शिक्षा विद् अङ्ग ुर बाबा जोशी को निधन कहिले temporal : date\n",
            "सन् २०२० सुरक्षा परिषद को अस्थायी सदस्य निर्वाचित सफल राष्ट्र कुन person : individual\n",
            "ण को योजना अघि बढाउने स्थानीय तह कुन location : country\n",
            "बालबालिका को क्षेत्रमा काम अन्तर्राष्ट्रिय संस्था वा निज इन्टरनेसनल एसिया प्यास िफ िक सम्मेलन हालै कहाँ सम्पन्न भयो temporal : date\n",
            "लोक सेवा आयोग विधेयक प्रतिनिधिसभा बाट कहिले पारित temporal : date\n",
            "नेपालमा कृषक परिचय पत्र वितरण कार्य कुन जिल्लाबाट सुरु गरिएको person : individual\n",
            "विश्व बैंक द्वारा विसं २०७६ कात्तिक ७ सार्वजनिक डु इ ङ बिज नेस प्रतिवेदन २०२० नेपाल कति स्थानमा numerical : rank\n",
            "नेपाली पोर्ट को शुभ ारम्भ कहिले temporal : date\n",
            "सन् २०१९ २० को वि स् डन क्रिकेट अफ द इ यर को उपाधि जित्ने person : individual\n",
            "जिल्लामा स्वास्थ्य वि सेवा लागु प्रदेश कुन person : individual\n",
            "\n",
            "\n"
          ]
        }
      ]
    }
  ]
}